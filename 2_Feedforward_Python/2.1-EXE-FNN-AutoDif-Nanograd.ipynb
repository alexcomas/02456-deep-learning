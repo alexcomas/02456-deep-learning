{
 "cells": [
  {
   "cell_type": "markdown",
   "metadata": {
    "id": "HAva8TnYFtFu"
   },
   "source": [
    "# Contents and why we need this lab\n",
    "\n",
    "This lab is about implementing neural networks yourself before we start using other frameworks that hide some of the computation from you. It builds on the first lab, where you derived the equations for neural network forward and backward propagation and gradient descent parameter updates. \n",
    "\n",
    "All the frameworks for deep learning you will meet from now on use automatic differentiation (autodiff), so you do not have to code the backward step yourself. In this version of this lab, you will develop your own autodif implementation. We also have an optional [version](https://github.com/DeepLearningDTU/02456-deep-learning-with-PyTorch/blob/master/2_Feedforward_Python/2.2-FNN-NumPy.ipynb) of this lab where you have to code the backward pass explicitly in Numpy."
   ]
  },
  {
   "cell_type": "markdown",
   "metadata": {
    "id": "sCa7HzwpFtFy"
   },
   "source": [
    "# External sources of information\n",
    "\n",
    "1. Jupyter notebook. You can find more information about Jupyter notebooks [here](https://jupyter.org/). It will come as part of the [Anaconda](https://www.anaconda.com/) Python installation. \n",
    "2. [NumPy](https://numpy.org/). Part of Anaconda distribution.  If you already know how to program, most things about Python and NumPy can be found with Google searches.\n",
    "3. [Nanograd](https://github.com/rasmusbergpalm/nanograd) is a minimalistic version of autodiff developed by Rasmus Berg Palm that we use for our framework.\n"
   ]
  },
  {
   "cell_type": "markdown",
   "metadata": {
    "id": "1SjiIp-TFtF0"
   },
   "source": [
    "# This notebook will follow the next steps:\n",
    "\n",
    "1. Nanograd automatic differentiation framework\n",
    "2. Finite difference method\n",
    "3. Data generation\n",
    "4. Defining and initializing the network\n",
    "5. Forward pass\n",
    "6. Training loop \n",
    "7. Testing your model\n",
    "8. Further extensions"
   ]
  },
  {
   "cell_type": "markdown",
   "metadata": {
    "id": "OyXeAA-HuT7s"
   },
   "source": [
    "# Nanograd automatic differention framework"
   ]
  },
  {
   "cell_type": "markdown",
   "metadata": {
    "id": "k6UWKCLKubgA"
   },
   "source": [
    "The [Nanograd](https://github.com/rasmusbergpalm/nanograd) framework defines a class Var which both holds a value and gradient value that we can use to store the intermediate values when we apply the chain rule of differentiation."
   ]
  },
  {
   "cell_type": "code",
   "execution_count": 2,
   "metadata": {
    "id": "Jd4CoEBNzNWS"
   },
   "outputs": [],
   "source": [
    "# Copy and pasted from https://github.com/rasmusbergpalm/nanograd/blob/3a1bf9e9e724da813bfccf91a6f309abdade9f39/nanograd.py\n",
    "\n",
    "from math import exp, log, tanh\n",
    "\n",
    "class Var:\n",
    "    \"\"\"\n",
    "    A variable which holds a float and enables gradient computations.\n",
    "    \"\"\"\n",
    "\n",
    "    def __init__(self, val: float, grad_fn=lambda: []):\n",
    "        assert type(val) == float\n",
    "        self.v = val\n",
    "        self.grad_fn = grad_fn\n",
    "        self.grad = 0.0\n",
    "\n",
    "    def backprop(self, bp):\n",
    "        self.grad += bp\n",
    "        for input, grad in self.grad_fn():\n",
    "            input.backprop(grad * bp)\n",
    "\n",
    "    def backward(self):\n",
    "        self.backprop(1.0)\n",
    "\n",
    "    def __add__(self: 'Var', other: 'Var') -> 'Var':\n",
    "        return Var(self.v + other.v, lambda: [(self, 1.0), (other, 1.0)])\n",
    "\n",
    "    def __mul__(self: 'Var', other: 'Var') -> 'Var':\n",
    "        return Var(self.v * other.v, lambda: [(self, other.v), (other, self.v)])\n",
    "\n",
    "    def __pow__(self, power):\n",
    "        assert type(power) in {float, int}, \"power must be float or int\"\n",
    "        return Var(self.v ** power, lambda: [(self, power * self.v ** (power - 1))])\n",
    "\n",
    "    def __neg__(self: 'Var') -> 'Var':\n",
    "        return Var(-1.0) * self\n",
    "\n",
    "    def __sub__(self: 'Var', other: 'Var') -> 'Var':\n",
    "        return self + (-other)\n",
    "\n",
    "    def __truediv__(self: 'Var', other: 'Var') -> 'Var':\n",
    "        return self * other ** -1\n",
    "\n",
    "    def __repr__(self):\n",
    "        return \"Var(v=%.4f, grad=%.4f)\" % (self.v, self.grad)\n",
    "\n",
    "    def relu(self):\n",
    "        return Var(self.v if self.v > 0.0 else 0.0, lambda: [(self, 1.0 if self.v > 0.0 else 0.0)])\n",
    "    \n",
    "    def identity(self):\n",
    "        return Var(self.v, lambda: [(self, 1.0)])\n",
    "    \n",
    "    def tanh(self):\n",
    "        return Var(tanh(self.v), lambda: [(self, 1.0 - tanh(self.v) ** 2)])\n",
    "    \n",
    "    def sigmoid(self):\n",
    "        return Var(1 / (1 + exp(-self.v)), lambda: [(self, exp(-self.v) / (1 + exp(-self.v)) ** 2)])\n",
    "    \n",
    "    def exp(self):\n",
    "        return Var(exp(self.v), lambda: [(self, exp(self.v))])\n",
    "    \n",
    "    def log(self):\n",
    "        return Var(log(self.v), lambda: [(self, self.v ** -1)])"
   ]
  },
  {
   "cell_type": "markdown",
   "metadata": {
    "id": "yDX67D6jzcte"
   },
   "source": [
    "A few examples illustrate how we can use this:"
   ]
  },
  {
   "cell_type": "code",
   "execution_count": 3,
   "metadata": {
    "colab": {
     "base_uri": "https://localhost:8080/"
    },
    "id": "xk6PeLc3zwPT",
    "outputId": "47e431b2-07ba-4cb1-ea21-997769641c67"
   },
   "outputs": [
    {
     "name": "stdout",
     "output_type": "stream",
     "text": [
      "Var(v=3.0000, grad=5.0000)\n",
      "Var(v=5.0000, grad=3.0000)\n",
      "Var(v=15.0000, grad=1.0000)\n"
     ]
    }
   ],
   "source": [
    "a = Var(3.0)\n",
    "b = Var(5.0)\n",
    "f = a * b\n",
    "\n",
    "f.backward()\n",
    "\n",
    "for v in [a, b, f]:\n",
    "    print(v)"
   ]
  },
  {
   "cell_type": "code",
   "execution_count": 4,
   "metadata": {},
   "outputs": [
    {
     "name": "stdout",
     "output_type": "stream",
     "text": [
      "Var(v=3.0000, grad=14.0000)\n",
      "Var(v=5.0000, grad=3.0000)\n",
      "Var(v=15.0000, grad=1.0000)\n",
      "Var(v=9.0000, grad=3.0000)\n",
      "Var(v=27.0000, grad=1.0000)\n",
      "Var(v=42.0000, grad=1.0000)\n",
      "dc/db: 3.0000\n",
      "dc/da: 5.0000\n",
      "de/da: 9.0000\n",
      "de/dd: 3.0000\n",
      "df/dc: 2.8000\n",
      "df/de: 1.5556\n"
     ]
    }
   ],
   "source": [
    "a = Var(3.0)\n",
    "b = Var(5.0)\n",
    "c = a * b\n",
    "d = Var(9.0)\n",
    "e = a * d\n",
    "f = c + e\n",
    "\n",
    "f.backward()\n",
    "\n",
    "for v in [a, b, c, d, e, f]:\n",
    "    print(v)\n",
    "\n",
    "dcdb = c.v / b.v \n",
    "dcda = c.v / a.v\n",
    "deda = e.v / a.v\n",
    "dedd = e.v / d.v\n",
    "dfdc = f.v / c.v\n",
    "dfde = f.v / e.v \n",
    "\n",
    "print(f\"dc/db: {dcdb:.4f}\")\n",
    "print(f\"dc/da: {dcda:.4f}\")\n",
    "print(f\"de/da: {deda:.4f}\")\n",
    "print(f\"de/dd: {dedd:.4f}\")\n",
    "print(f\"df/dc: {dfdc:.4f}\")\n",
    "print(f\"df/de: {dfde:.4f}\")"
   ]
  },
  {
   "cell_type": "markdown",
   "metadata": {
    "id": "Fe3B6uEH140p"
   },
   "source": [
    "## Exercise a) What is being calculated?\n",
    "\n",
    "Explain briefly the output of the code? What is the expression we differentiate and with respect to what variables?"
   ]
  },
  {
   "cell_type": "markdown",
   "metadata": {},
   "source": [
    "**Solution:**\n",
    "\n",
    "The grad in each node $x$ corresponds to $df/dx$. So by calling $\\texttt{f.backward()}$, the gradients of $f$ with respect to all these variables are computed."
   ]
  },
  {
   "cell_type": "markdown",
   "metadata": {
    "id": "q8_Q0t2I3Ruj"
   },
   "source": [
    "## Exercise b) How does the backward function work?\n",
    "\n",
    "You need to understand how the backward function calculates the gradients. We can use the two examples above to help with that.\n",
    "\n",
    "Go through the following four steps and answer the questions on the way:\n",
    "\n",
    "1. We represent the two expressions as graphs as shown below. Fill in the missing expressions for the different derivatives.\n",
    "\n",
    "2. In the remainder consider the first expression. Make a schematic of the data structure which is generated when we define the expression for f. \n",
    "\n",
    "3. Then execute the backward function by hand to convince yourself that it indeed calculates the gradients with respect to the variables. \n",
    "\n",
    "4. Write down the sequence of calls to backprop."
   ]
  },
  {
   "cell_type": "code",
   "execution_count": 5,
   "metadata": {
    "id": "idGr71jYXl26"
   },
   "outputs": [],
   "source": [
    "# import logging\n",
    "import graphviz\n",
    "\n",
    "#logging.basicConfig(format='[%(levelname)s@%(name)s] %(message)s', level=logging.DEBUG)\n",
    "\n",
    "#graphviz.__version__, graphviz.version()"
   ]
  },
  {
   "cell_type": "code",
   "execution_count": 6,
   "metadata": {
    "colab": {
     "base_uri": "https://localhost:8080/",
     "height": 152
    },
    "id": "KPe30Q2QXzeG",
    "outputId": "7fa002cd-a018-4dbb-ddf1-28ed5e99ee19"
   },
   "outputs": [
    {
     "data": {
      "image/svg+xml": [
       "<?xml version=\"1.0\" encoding=\"UTF-8\" standalone=\"no\"?>\n",
       "<!DOCTYPE svg PUBLIC \"-//W3C//DTD SVG 1.1//EN\"\n",
       " \"http://www.w3.org/Graphics/SVG/1.1/DTD/svg11.dtd\">\n",
       "<!-- Generated by graphviz version 2.50.0 (0)\n",
       " -->\n",
       "<!-- Title: first expression Pages: 1 -->\n",
       "<svg width=\"171pt\" height=\"98pt\"\n",
       " viewBox=\"0.00 0.00 171.00 98.00\" xmlns=\"http://www.w3.org/2000/svg\" xmlns:xlink=\"http://www.w3.org/1999/xlink\">\n",
       "<g id=\"graph0\" class=\"graph\" transform=\"scale(1 1) rotate(0) translate(4 94)\">\n",
       "<title>first expression</title>\n",
       "<polygon fill=\"white\" stroke=\"transparent\" points=\"-4,4 -4,-94 167,-94 167,4 -4,4\"/>\n",
       "<!-- a -->\n",
       "<g id=\"node1\" class=\"node\">\n",
       "<title>a</title>\n",
       "<ellipse fill=\"none\" stroke=\"black\" cx=\"18\" cy=\"-72\" rx=\"18\" ry=\"18\"/>\n",
       "<text text-anchor=\"middle\" x=\"18\" y=\"-68.3\" font-family=\"Times New Roman,serif\" font-size=\"14.00\">a</text>\n",
       "</g>\n",
       "<!-- f -->\n",
       "<g id=\"node2\" class=\"node\">\n",
       "<title>f</title>\n",
       "<ellipse fill=\"none\" stroke=\"black\" cx=\"145\" cy=\"-45\" rx=\"18\" ry=\"18\"/>\n",
       "<text text-anchor=\"middle\" x=\"145\" y=\"-41.3\" font-family=\"Times New Roman,serif\" font-size=\"14.00\">f</text>\n",
       "</g>\n",
       "<!-- a&#45;&gt;f -->\n",
       "<g id=\"edge1\" class=\"edge\">\n",
       "<title>a&#45;&gt;f</title>\n",
       "<path fill=\"none\" stroke=\"black\" d=\"M35.86,-68.36C56.73,-63.85 92.54,-56.11 117.2,-50.79\"/>\n",
       "<polygon fill=\"black\" stroke=\"black\" points=\"117.97,-54.2 127.01,-48.67 116.5,-47.36 117.97,-54.2\"/>\n",
       "<text text-anchor=\"middle\" x=\"81.5\" y=\"-67.8\" font-family=\"Times New Roman,serif\" font-size=\"14.00\">df/da=5.0</text>\n",
       "</g>\n",
       "<!-- b -->\n",
       "<g id=\"node3\" class=\"node\">\n",
       "<title>b</title>\n",
       "<ellipse fill=\"none\" stroke=\"black\" cx=\"18\" cy=\"-18\" rx=\"18\" ry=\"18\"/>\n",
       "<text text-anchor=\"middle\" x=\"18\" y=\"-14.3\" font-family=\"Times New Roman,serif\" font-size=\"14.00\">b</text>\n",
       "</g>\n",
       "<!-- b&#45;&gt;f -->\n",
       "<g id=\"edge2\" class=\"edge\">\n",
       "<title>b&#45;&gt;f</title>\n",
       "<path fill=\"none\" stroke=\"black\" d=\"M36.09,-19.99C54.33,-22.32 83.97,-26.67 109,-33 112.02,-33.76 115.14,-34.67 118.23,-35.63\"/>\n",
       "<polygon fill=\"black\" stroke=\"black\" points=\"117.19,-38.97 127.79,-38.82 119.41,-32.33 117.19,-38.97\"/>\n",
       "<text text-anchor=\"middle\" x=\"81.5\" y=\"-36.8\" font-family=\"Times New Roman,serif\" font-size=\"14.00\">df/db=3.0</text>\n",
       "</g>\n",
       "</g>\n",
       "</svg>\n"
      ],
      "text/plain": [
       "<graphviz.graphs.Digraph at 0x196ecea4770>"
      ]
     },
     "execution_count": 6,
     "metadata": {},
     "output_type": "execute_result"
    }
   ],
   "source": [
    "e1 = graphviz.Digraph('first expression', filename='fsm.gv')\n",
    "\n",
    "e1.attr(rankdir='LR', size='8,5')\n",
    "\n",
    "e1.attr('node', shape='circle')\n",
    "e1.edge('a', 'f', label='df/da=5.0')\n",
    "e1.edge('b', 'f', label='df/db=3.0')\n",
    "\n",
    "e1"
   ]
  },
  {
   "cell_type": "code",
   "execution_count": 7,
   "metadata": {
    "colab": {
     "base_uri": "https://localhost:8080/",
     "height": 232
    },
    "id": "0nittR-mZFeX",
    "outputId": "fa3656a3-732c-4abe-8084-98a492b0d6be"
   },
   "outputs": [
    {
     "data": {
      "image/svg+xml": [
       "<?xml version=\"1.0\" encoding=\"UTF-8\" standalone=\"no\"?>\n",
       "<!DOCTYPE svg PUBLIC \"-//W3C//DTD SVG 1.1//EN\"\n",
       " \"http://www.w3.org/Graphics/SVG/1.1/DTD/svg11.dtd\">\n",
       "<!-- Generated by graphviz version 2.50.0 (0)\n",
       " -->\n",
       "<!-- Title: second expression Pages: 1 -->\n",
       "<svg width=\"311pt\" height=\"158pt\"\n",
       " viewBox=\"0.00 0.00 311.00 158.00\" xmlns=\"http://www.w3.org/2000/svg\" xmlns:xlink=\"http://www.w3.org/1999/xlink\">\n",
       "<g id=\"graph0\" class=\"graph\" transform=\"scale(1 1) rotate(0) translate(4 154)\">\n",
       "<title>second expression</title>\n",
       "<polygon fill=\"white\" stroke=\"transparent\" points=\"-4,4 -4,-154 307,-154 307,4 -4,4\"/>\n",
       "<!-- a -->\n",
       "<g id=\"node1\" class=\"node\">\n",
       "<title>a</title>\n",
       "<ellipse fill=\"none\" stroke=\"black\" cx=\"18\" cy=\"-75\" rx=\"18\" ry=\"18\"/>\n",
       "<text text-anchor=\"middle\" x=\"18\" y=\"-71.3\" font-family=\"Times New Roman,serif\" font-size=\"14.00\">a</text>\n",
       "</g>\n",
       "<!-- c -->\n",
       "<g id=\"node2\" class=\"node\">\n",
       "<title>c</title>\n",
       "<ellipse fill=\"none\" stroke=\"black\" cx=\"146\" cy=\"-102\" rx=\"18\" ry=\"18\"/>\n",
       "<text text-anchor=\"middle\" x=\"146\" y=\"-98.3\" font-family=\"Times New Roman,serif\" font-size=\"14.00\">c</text>\n",
       "</g>\n",
       "<!-- a&#45;&gt;c -->\n",
       "<g id=\"edge1\" class=\"edge\">\n",
       "<title>a&#45;&gt;c</title>\n",
       "<path fill=\"none\" stroke=\"black\" d=\"M35.73,-78.59C56.82,-83.1 93.32,-90.93 118.28,-96.28\"/>\n",
       "<polygon fill=\"black\" stroke=\"black\" points=\"117.69,-99.73 128.2,-98.4 119.15,-92.88 117.69,-99.73\"/>\n",
       "<text text-anchor=\"middle\" x=\"82\" y=\"-97.8\" font-family=\"Times New Roman,serif\" font-size=\"14.00\">dc/da=3.0</text>\n",
       "</g>\n",
       "<!-- e -->\n",
       "<g id=\"node4\" class=\"node\">\n",
       "<title>e</title>\n",
       "<ellipse fill=\"none\" stroke=\"black\" cx=\"146\" cy=\"-48\" rx=\"18\" ry=\"18\"/>\n",
       "<text text-anchor=\"middle\" x=\"146\" y=\"-44.3\" font-family=\"Times New Roman,serif\" font-size=\"14.00\">e</text>\n",
       "</g>\n",
       "<!-- a&#45;&gt;e -->\n",
       "<g id=\"edge3\" class=\"edge\">\n",
       "<title>a&#45;&gt;e</title>\n",
       "<path fill=\"none\" stroke=\"black\" d=\"M35.21,-68.81C41.07,-66.74 47.77,-64.57 54,-63 75.29,-57.64 99.87,-53.72 118.12,-51.23\"/>\n",
       "<polygon fill=\"black\" stroke=\"black\" points=\"118.59,-54.7 128.06,-49.93 117.69,-47.76 118.59,-54.7\"/>\n",
       "<text text-anchor=\"middle\" x=\"82\" y=\"-66.8\" font-family=\"Times New Roman,serif\" font-size=\"14.00\">de/da=9.0</text>\n",
       "</g>\n",
       "<!-- f -->\n",
       "<g id=\"node6\" class=\"node\">\n",
       "<title>f</title>\n",
       "<ellipse fill=\"none\" stroke=\"black\" cx=\"285\" cy=\"-75\" rx=\"18\" ry=\"18\"/>\n",
       "<text text-anchor=\"middle\" x=\"285\" y=\"-71.3\" font-family=\"Times New Roman,serif\" font-size=\"14.00\">f</text>\n",
       "</g>\n",
       "<!-- c&#45;&gt;f -->\n",
       "<g id=\"edge5\" class=\"edge\">\n",
       "<title>c&#45;&gt;f</title>\n",
       "<path fill=\"none\" stroke=\"black\" d=\"M163.8,-98.69C187.11,-94.09 229.53,-85.73 257.24,-80.27\"/>\n",
       "<polygon fill=\"black\" stroke=\"black\" points=\"257.93,-83.71 267.06,-78.34 256.58,-76.84 257.93,-83.71\"/>\n",
       "<text text-anchor=\"middle\" x=\"215.5\" y=\"-97.8\" font-family=\"Times New Roman,serif\" font-size=\"14.00\">df/dc=2.8</text>\n",
       "</g>\n",
       "<!-- b -->\n",
       "<g id=\"node3\" class=\"node\">\n",
       "<title>b</title>\n",
       "<ellipse fill=\"none\" stroke=\"black\" cx=\"18\" cy=\"-132\" rx=\"18\" ry=\"18\"/>\n",
       "<text text-anchor=\"middle\" x=\"18\" y=\"-128.3\" font-family=\"Times New Roman,serif\" font-size=\"14.00\">b</text>\n",
       "</g>\n",
       "<!-- b&#45;&gt;c -->\n",
       "<g id=\"edge2\" class=\"edge\">\n",
       "<title>b&#45;&gt;c</title>\n",
       "<path fill=\"none\" stroke=\"black\" d=\"M35.73,-128.02C56.82,-123 93.32,-114.31 118.28,-108.36\"/>\n",
       "<polygon fill=\"black\" stroke=\"black\" points=\"119.28,-111.72 128.2,-106 117.66,-104.91 119.28,-111.72\"/>\n",
       "<text text-anchor=\"middle\" x=\"82\" y=\"-126.8\" font-family=\"Times New Roman,serif\" font-size=\"14.00\">dc/db=5.0</text>\n",
       "</g>\n",
       "<!-- e&#45;&gt;f -->\n",
       "<g id=\"edge6\" class=\"edge\">\n",
       "<title>e&#45;&gt;f</title>\n",
       "<path fill=\"none\" stroke=\"black\" d=\"M164.15,-49.55C184.57,-51.61 219.6,-55.86 249,-63 252.02,-63.73 255.16,-64.62 258.25,-65.57\"/>\n",
       "<polygon fill=\"black\" stroke=\"black\" points=\"257.21,-68.92 267.8,-68.75 259.42,-62.27 257.21,-68.92\"/>\n",
       "<text text-anchor=\"middle\" x=\"215.5\" y=\"-66.8\" font-family=\"Times New Roman,serif\" font-size=\"14.00\">df/de=1.556</text>\n",
       "</g>\n",
       "<!-- d -->\n",
       "<g id=\"node5\" class=\"node\">\n",
       "<title>d</title>\n",
       "<ellipse fill=\"none\" stroke=\"black\" cx=\"18\" cy=\"-18\" rx=\"18\" ry=\"18\"/>\n",
       "<text text-anchor=\"middle\" x=\"18\" y=\"-14.3\" font-family=\"Times New Roman,serif\" font-size=\"14.00\">d</text>\n",
       "</g>\n",
       "<!-- d&#45;&gt;e -->\n",
       "<g id=\"edge4\" class=\"edge\">\n",
       "<title>d&#45;&gt;e</title>\n",
       "<path fill=\"none\" stroke=\"black\" d=\"M36.04,-19.57C54.54,-21.55 84.79,-25.64 110,-33 113.4,-33.99 116.92,-35.23 120.34,-36.56\"/>\n",
       "<polygon fill=\"black\" stroke=\"black\" points=\"119.04,-39.81 129.62,-40.45 121.75,-33.36 119.04,-39.81\"/>\n",
       "<text text-anchor=\"middle\" x=\"82\" y=\"-36.8\" font-family=\"Times New Roman,serif\" font-size=\"14.00\">de/dd=3.0</text>\n",
       "</g>\n",
       "</g>\n",
       "</svg>\n"
      ],
      "text/plain": [
       "<graphviz.graphs.Digraph at 0x196ee491460>"
      ]
     },
     "execution_count": 7,
     "metadata": {},
     "output_type": "execute_result"
    }
   ],
   "source": [
    "e2 = graphviz.Digraph('second expression', filename='fsm.gv')\n",
    "\n",
    "e2.attr(rankdir='LR', size='8,5')\n",
    "\n",
    "e2.attr('node', shape='circle')\n",
    "e2.edge('a', 'c', label='dc/da=3.0')\n",
    "e2.edge('b', 'c', label='dc/db=5.0')\n",
    "e2.edge('a', 'e', label='de/da=9.0')\n",
    "e2.edge('d', 'e', label='de/dd=3.0')\n",
    "e2.edge('c', 'f', label='df/dc=2.8')\n",
    "e2.edge('e', 'f', label='df/de=1.556')\n",
    "\n",
    "e2"
   ]
  },
  {
   "cell_type": "markdown",
   "metadata": {
    "id": "A5oi21W4gpeM"
   },
   "source": [
    "## Exercise c) What happens if we run backward again?\n",
    "\n",
    "Try to execute the code below. Explain what happens."
   ]
  },
  {
   "cell_type": "code",
   "execution_count": 8,
   "metadata": {
    "colab": {
     "base_uri": "https://localhost:8080/"
    },
    "id": "DCtpJyr-gyX1",
    "outputId": "d014bcfa-c9ae-49c3-d268-91cc6ca94ea5"
   },
   "outputs": [
    {
     "name": "stdout",
     "output_type": "stream",
     "text": [
      "Var(v=3.0000, grad=28.0000)\n",
      "Var(v=5.0000, grad=6.0000)\n",
      "Var(v=15.0000, grad=2.0000)\n",
      "Var(v=9.0000, grad=6.0000)\n",
      "Var(v=27.0000, grad=2.0000)\n",
      "Var(v=42.0000, grad=2.0000)\n"
     ]
    }
   ],
   "source": [
    "f.backward()\n",
    "\n",
    "for v in [a, b, c, d, e, f]:\n",
    "    print(v)"
   ]
  },
  {
   "cell_type": "markdown",
   "metadata": {},
   "source": [
    "**Solution:**\n",
    "\n",
    "The v values stay the same, but the gradient are added again. At first we could think they are doubled, but it just keeps adding the same values, which correspond to the gradients. The formula would be the following: (number of backward executions)*grad."
   ]
  },
  {
   "cell_type": "markdown",
   "metadata": {
    "id": "e8bPVq2VhsP-"
   },
   "source": [
    "## Exercise d) Zero gradient\n",
    "\n",
    "We can zero the gradient by backpropagating a -1.0 as is shown in the example below. (If you have run backward multiple time then you also have to run the cell below an equal amount of times.) Explain what is going on."
   ]
  },
  {
   "cell_type": "code",
   "execution_count": 9,
   "metadata": {
    "colab": {
     "base_uri": "https://localhost:8080/"
    },
    "id": "OnyPDQx9lJe0",
    "outputId": "7a125fdc-60c4-4340-a580-8b82aea5b0db"
   },
   "outputs": [
    {
     "name": "stdout",
     "output_type": "stream",
     "text": [
      "Var(v=3.0000, grad=28.0000)\n",
      "Var(v=5.0000, grad=6.0000)\n",
      "Var(v=15.0000, grad=2.0000)\n",
      "Var(v=9.0000, grad=6.0000)\n",
      "Var(v=27.0000, grad=2.0000)\n",
      "Var(v=42.0000, grad=2.0000)\n",
      "--------------------\n",
      "Var(v=3.0000, grad=14.0000)\n",
      "Var(v=5.0000, grad=3.0000)\n",
      "Var(v=15.0000, grad=1.0000)\n",
      "Var(v=9.0000, grad=3.0000)\n",
      "Var(v=27.0000, grad=1.0000)\n",
      "Var(v=42.0000, grad=1.0000)\n"
     ]
    }
   ],
   "source": [
    "# a = Var(2.0)\n",
    "\n",
    "for v in [a, b, c, d, e, f]:\n",
    "    print(v)\n",
    "\n",
    "f.backprop(-1.0)\n",
    "print(\"--------------------\")\n",
    "\n",
    "for v in [a, b, c, d, e, f]:\n",
    "    print(v)"
   ]
  },
  {
   "cell_type": "code",
   "execution_count": 10,
   "metadata": {},
   "outputs": [
    {
     "data": {
      "text/plain": [
       "[(Var(v=3.0000, grad=14.0000), 5.0), (Var(v=5.0000, grad=3.0000), 3.0)]"
      ]
     },
     "execution_count": 10,
     "metadata": {},
     "output_type": "execute_result"
    }
   ],
   "source": [
    "f.grad_fn()[0][0].grad_fn()"
   ]
  },
  {
   "cell_type": "markdown",
   "metadata": {},
   "source": [
    "**Solution:**\n",
    "\n",
    "A step is taken in the opposite direction (-1 * grad). \n",
    "\n",
    "I took out the redefinition of $a$ because it didn't make any sense given the problem statement and it didn't really affect anything besides not seeing how $a$ ended up being affected. $f$ was still being pointed at the old $a$."
   ]
  },
  {
   "cell_type": "markdown",
   "metadata": {
    "id": "U4057_ljNvWB"
   },
   "source": [
    "## Exercise e) Test correctness of derivatives with the finite difference method\n",
    "\n",
    "Write a small function that uses [the finite difference method](https://en.wikipedia.org/wiki/Finite_difference_method) to numerically test that backpropation implementation is working. In short we will use\n",
    "$$\n",
    "\\frac{\\partial f(a)}{\\partial a} \\approx \\frac{f(a+da)-f(a)}{da}\n",
    "$$\n",
    "for $da \\ll 1$.\n",
    "\n",
    "As an example, we could approximate the derivative of the function $f(a)=a^2$ in e.g. the value $a=4$ using the finite difference method. This amounts to inserting the relevant values and approximating the gradient $f'(4)$ with the fraction above. \n"
   ]
  },
  {
   "cell_type": "code",
   "execution_count": 11,
   "metadata": {
    "colab": {
     "base_uri": "https://localhost:8080/"
    },
    "id": "9TGil92lSXDN",
    "outputId": "7ef5489b-b525-4132-ab08-0b1109c07f4d"
   },
   "outputs": [
    {
     "name": "stdout",
     "output_type": "stream",
     "text": [
      "Var(v=3.0000, grad=6.0000)\n",
      "Var(v=5.0000, grad=0.0000)\n",
      "Var(v=9.0000, grad=1.0000)\n",
      "8.000000661922968\n"
     ]
    }
   ],
   "source": [
    "# f function - try to change the code to test other types of functions as well (such as different polynomials etc.)\n",
    "def f_function(a):\n",
    "  a = Var(a)\n",
    "  b = Var(5.0)\n",
    "  f = a ** 2\n",
    "  f.backward()\n",
    "  return a,b,f\n",
    "\n",
    "for v in f_function(3.0):\n",
    "  print(v)\n",
    "\n",
    "  \n",
    "\n",
    "# Insert your finite difference code here\n",
    "def finite_difference(da=1e-10):\n",
    "    \"\"\"\n",
    "    This function compute the finite difference between\n",
    "    \n",
    "    Input:\n",
    "    da:          The finite difference                           (float)\n",
    "    \n",
    "    Output:\n",
    "    finite_difference: numerical approximation to the derivative (float) \n",
    "    \"\"\"\n",
    "    a = 4.0\n",
    "    fa_da = f_function(a + da)[2].v       # <- Insert correct expression\n",
    "    fa = f_function(a)[2].v       # <- Insert correct expression\n",
    "\n",
    "    finite_difference = (fa_da - fa) / da\n",
    "    \n",
    "    return finite_difference\n",
    "\n",
    "print(finite_difference())"
   ]
  },
  {
   "cell_type": "markdown",
   "metadata": {
    "id": "6pZar5RKaUkg"
   },
   "source": [
    "# Create an artificial dataset to play with\n",
    "\n",
    "We create a non-linear 1d regression task. The generator supports various noise levels and it creates train, validation and test sets. You can modify it yourself if you want more or less challenging tasks."
   ]
  },
  {
   "cell_type": "code",
   "execution_count": 12,
   "metadata": {
    "id": "Y6yfMAQ8aduj"
   },
   "outputs": [],
   "source": [
    "import numpy as np\n",
    "import matplotlib.pyplot as plt\n",
    "\n",
    "np.random.seed(42)"
   ]
  },
  {
   "cell_type": "code",
   "execution_count": 13,
   "metadata": {
    "id": "4YabfD43ajNh"
   },
   "outputs": [],
   "source": [
    "def data_generator(noise=0.1, n_samples=300, D1=True):\n",
    "    # Create covariates and response variable\n",
    "    if D1:\n",
    "        X = np.linspace(-3, 3, num=n_samples).reshape(-1,1) # 1-D\n",
    "        np.random.shuffle(X)\n",
    "        y = np.random.normal((0.5*np.sin(X[:,0]*3) + X[:,0]), noise) # 1-D with trend\n",
    "    else:\n",
    "        X = np.random.multivariate_normal(np.zeros(3), noise*np.eye(3), size = n_samples) # 3-D\n",
    "        np.random.shuffle(X)    \n",
    "        y = np.sin(X[:,0]) - 5*(X[:,1]**2) + 0.5*X[:,2] # 3-D\n",
    "\n",
    "    # Stack them together vertically to split data set\n",
    "    data_set = np.vstack((X.T,y)).T\n",
    "    \n",
    "    train, validation, test = np.split(data_set, [int(0.35*n_samples), int(0.7*n_samples)], axis=0)\n",
    "    \n",
    "    # Standardization of the data, remember we do the standardization with the training set mean and standard deviation\n",
    "    train_mu = np.mean(train, axis=0)\n",
    "    train_sigma = np.std(train, axis=0)\n",
    "    \n",
    "    train = (train-train_mu)/train_sigma\n",
    "    validation = (validation-train_mu)/train_sigma\n",
    "    test = (test-train_mu)/train_sigma\n",
    "    \n",
    "    x_train, x_validation, x_test = train[:,:-1], validation[:,:-1], test[:,:-1]\n",
    "    y_train, y_validation, y_test = train[:,-1], validation[:,-1], test[:,-1]\n",
    "\n",
    "    return x_train, y_train,  x_validation, y_validation, x_test, y_test"
   ]
  },
  {
   "cell_type": "code",
   "execution_count": 82,
   "metadata": {
    "id": "u1oDngHLapIz"
   },
   "outputs": [],
   "source": [
    "D1 = True\n",
    "x_train, y_train,  x_validation, y_validation, x_test, y_test = data_generator(noise=0.5, D1=D1)"
   ]
  },
  {
   "cell_type": "code",
   "execution_count": 15,
   "metadata": {
    "colab": {
     "base_uri": "https://localhost:8080/",
     "height": 265
    },
    "id": "Ysfa3FsBavlm",
    "outputId": "399e5382-ae7d-48f6-9774-7ea4c73e7d95"
   },
   "outputs": [
    {
     "data": {
      "image/png": "[encoded data removed]",
      "text/plain": [
       "<Figure size 640x480 with 1 Axes>"
      ]
     },
     "metadata": {},
     "output_type": "display_data"
    }
   ],
   "source": [
    "if D1:\n",
    "    plt.scatter(x_train[:,0], y_train);\n",
    "    plt.scatter(x_validation[:,0], y_validation);\n",
    "    plt.scatter(x_test[:,0], y_test);\n",
    "else:\n",
    "    plt.scatter(x_train[:,1], y_train);\n",
    "    plt.scatter(x_validation[:,1], y_validation);\n",
    "    plt.scatter(x_test[:,1], y_test);\n",
    "plt.show()"
   ]
  },
  {
   "cell_type": "code",
   "execution_count": 84,
   "metadata": {
    "id": "zac2HHNlgbpm"
   },
   "outputs": [],
   "source": [
    "# convert from nparray to Var\n",
    "def nparray_to_Var(x):\n",
    "  if x.ndim==1:\n",
    "    y = [[Var(float(x[i]))] for i in range(x.shape[0])] # always work with list of list\n",
    "  else:\n",
    "    y = [[Var(float(x[i,j])) for j in range(x.shape[1])] for i in range(x.shape[0])]\n",
    "  return y\n",
    "   \n",
    "x_train = nparray_to_Var(x_train)\n",
    "y_train = nparray_to_Var(y_train)\n",
    "x_validation = nparray_to_Var(x_validation)\n",
    "y_validation = nparray_to_Var(y_validation)\n",
    "x_test = nparray_to_Var(x_test)\n",
    "y_test = nparray_to_Var(y_test)\n"
   ]
  },
  {
   "cell_type": "markdown",
   "metadata": {
    "id": "VbjrqcpVFtGe"
   },
   "source": [
    "# Defining and initializing the network\n",
    "\n",
    "The steps to create a feed forward neural network are the following:\n",
    "\n",
    "1. **Number of hidden layer and hidden units**. We have to define the number of hidden units in each layer. The number of features in X and the output dimensionality (the size of Y) are given but the numbers in between are set by the researcher. Remember that for each unit in each layer beside in the input has a bias term.\n",
    "2. **Activation functions** for each hidden layer. Each hidden layer in your list must have an activation function (it can also be the linear activation which is equivalent to identity function). The power of neural networks comes from non-linear activation functions that learn representations (features) from the data allowing us to learn from it. \n",
    "3. **Parameter initialization**. We will initialize the weights to have random values. This is done in practice by drawing pseudo random numbers from a Gaussian or uniform distribution. It turns out that for deeper models we have to be careful about how we scale the random numbers. This will be the topic of the exercise below. For now we will just use unit variance Gaussians.  \n",
    "\n",
    "In order to make life easier for ourselves we define a DenseLayer class that takes care of initialization and the forward pass. We can also extend it later with print and advanced initialization capabilities. For the latter we have introduced a Initializer class.\n",
    "\n",
    "Note that we use Sequence in the code below. A Sequence is an ordered list. This means the order we insert and access items are the same."
   ]
  },
  {
   "cell_type": "code",
   "execution_count": 86,
   "metadata": {
    "id": "ij_ieRsAt7Xt"
   },
   "outputs": [],
   "source": [
    "class Initializer:\n",
    "\n",
    "  def init_weights(self, n_in, n_out):\n",
    "    raise NotImplementedError\n",
    "\n",
    "  def init_bias(self, n_out):\n",
    "    raise NotImplementedError"
   ]
  },
  {
   "cell_type": "code",
   "execution_count": 87,
   "metadata": {
    "id": "eb18N5phuIha"
   },
   "outputs": [],
   "source": [
    "import random\n",
    "\n",
    "class NormalInitializer(Initializer):\n",
    "\n",
    "  def __init__(self, mean=0, std=0.1):\n",
    "    self.mean = mean\n",
    "    self.std = std\n",
    "\n",
    "  def init_weights(self, n_in, n_out):\n",
    "    return [[Var(random.gauss(self.mean, self.std)) for _ in range(n_out)] for _ in range(n_in)]\n",
    "\n",
    "  def init_bias(self, n_out):\n",
    "    return [Var(0.0) for _ in range(n_out)]\n",
    "\n",
    "class ConstantInitializer(Initializer):\n",
    "\n",
    "  def __init__(self, weight=1.0, bias=0.0):\n",
    "    self.weight = weight\n",
    "    self.bias = bias\n",
    "\n",
    "  def init_weights(self, n_in, n_out):\n",
    "    return [[Var(self.weight) for _ in range(n_out)] for _ in range(n_in)]\n",
    "\n",
    "  def init_bias(self, n_out):\n",
    "    return [Var(self.bias) for _ in range(n_out)]"
   ]
  },
  {
   "cell_type": "code",
   "execution_count": 88,
   "metadata": {
    "id": "jOLYGnZKuM6W"
   },
   "outputs": [],
   "source": [
    "from typing import Sequence\n",
    "\n",
    "class DenseLayer:\n",
    "    def __init__(self, n_in: int, n_out: int, act_fn, initializer = NormalInitializer()):\n",
    "        self.weights = initializer.init_weights(n_in, n_out)\n",
    "        self.bias = initializer.init_bias(n_out)\n",
    "        self.act_fn = act_fn\n",
    "    \n",
    "    def __repr__(self):    \n",
    "        return 'Weights: ' + repr(self.weights) + ' Biases: ' + repr(self.bias)\n",
    "\n",
    "    def parameters(self) -> Sequence[Var]:\n",
    "      params = []\n",
    "      for r in self.weights:\n",
    "        params += r\n",
    "\n",
    "      return params + self.bias\n",
    "\n",
    "    def forward(self, single_input: Sequence[Var]) -> Sequence[Var]:\n",
    "        # self.weights is a matrix with dimension n_in x n_out. We check that the dimensionality of the input \n",
    "        # to the current layer matches the number of nodes in the current layer\n",
    "        assert len(self.weights) == len(single_input), \"weights and single_input must match in first dimension\"\n",
    "        weights = self.weights\n",
    "        out = []\n",
    "        # For some given data point single_input, we now want to calculate the resulting value in each node in the current layer\n",
    "        # We therefore loop over the (number of) nodes in the current layer:\n",
    "        for j in range(len(weights[0])): \n",
    "            # Initialize the node value depending on its corresponding parameters.\n",
    "            node = self.bias[j] # <- Insert code\n",
    "            # We now finish the linear transformation corresponding to the parameters of the currently considered node.\n",
    "            for i in range(len(single_input)):\n",
    "                node += self.weights[i][j]*single_input[i]  # <- Insert code\n",
    "            node = self.act_fn(node)\n",
    "            out.append(node)\n",
    "\n",
    "        return out"
   ]
  },
  {
   "cell_type": "markdown",
   "metadata": {
    "id": "jpIZPBpNI0pO"
   },
   "source": [
    "## Exercise f) Add more activation functions\n",
    "\n",
    "To have a full definition of the neural network, we must define an activation function for every layer. Several activation functions have been proposed and have different characteristics. In the Var class we have already defined the rectified linear init (relu). \n",
    " \n",
    "Implement the following activation functions in the Var class:\n",
    "\n",
    "* Identity: $$\\mathrm{identity}(x) = x$$\n",
    "* Hyperbolic tangent: $$\\tanh(x)$$\n",
    "* Sigmoid (or logistic function): $$\\mathrm{sigmoid}(x) = \\frac{1}{1.0 + \\exp(-x ) }$$  Hint: $\\mathrm{sigmoid}'(x)= \\mathrm{sigmoid}(x)(1-\\mathrm{sigmoid}(x))$.  \n",
    "\n",
    "Hint: You can seek inspiration in the relu method in the Var class."
   ]
  },
  {
   "cell_type": "markdown",
   "metadata": {},
   "source": [
    "**Solution:**: DONE."
   ]
  },
  {
   "cell_type": "markdown",
   "metadata": {
    "id": "p_8n_SKnIW2F"
   },
   "source": [
    "## Exercise g) Complete the forward pass\n",
    "\n",
    "In the code below we initialize a 1-5-1 network and pass the training set through it. *The forward method in DenseLayer is **not** complete*. It just outputs zeros right now. The method forward should perform an [affine transformation](https://en.wikipedia.org/wiki/Affine_transformation) on the input followed by an application of the activation function."
   ]
  },
  {
   "cell_type": "code",
   "execution_count": 89,
   "metadata": {
    "colab": {
     "base_uri": "https://localhost:8080/",
     "height": 337
    },
    "id": "xDEjtePxE7Mv",
    "outputId": "753406cd-d8a1-4282-ce03-25ad959b0e11"
   },
   "outputs": [
    {
     "name": "stdout",
     "output_type": "stream",
     "text": [
      "[[Var(v=0.0000, grad=0.0000)], [Var(v=0.0204, grad=0.0000)], [Var(v=0.0122, grad=0.0000)], [Var(v=0.0168, grad=0.0000)], [Var(v=0.0078, grad=0.0000)], [Var(v=0.0133, grad=0.0000)], [Var(v=0.0000, grad=0.0000)], [Var(v=0.0000, grad=0.0000)], [Var(v=0.0000, grad=0.0000)], [Var(v=0.0408, grad=0.0000)], [Var(v=0.0000, grad=0.0000)], [Var(v=0.0000, grad=0.0000)], [Var(v=0.0111, grad=0.0000)], [Var(v=0.0276, grad=0.0000)], [Var(v=0.0000, grad=0.0000)], [Var(v=0.0000, grad=0.0000)], [Var(v=0.0000, grad=0.0000)], [Var(v=0.0419, grad=0.0000)], [Var(v=0.0020, grad=0.0000)], [Var(v=0.0050, grad=0.0000)], [Var(v=0.0245, grad=0.0000)], [Var(v=0.0025, grad=0.0000)], [Var(v=0.0364, grad=0.0000)], [Var(v=0.0000, grad=0.0000)], [Var(v=0.0212, grad=0.0000)], [Var(v=0.0000, grad=0.0000)], [Var(v=0.0034, grad=0.0000)], [Var(v=0.0097, grad=0.0000)], [Var(v=0.0119, grad=0.0000)], [Var(v=0.0190, grad=0.0000)], [Var(v=0.0163, grad=0.0000)], [Var(v=0.0000, grad=0.0000)], [Var(v=0.0000, grad=0.0000)], [Var(v=0.0000, grad=0.0000)], [Var(v=0.0000, grad=0.0000)], [Var(v=0.0000, grad=0.0000)], [Var(v=0.0000, grad=0.0000)], [Var(v=0.0388, grad=0.0000)], [Var(v=0.0031, grad=0.0000)], [Var(v=0.0416, grad=0.0000)], [Var(v=0.0325, grad=0.0000)], [Var(v=0.0300, grad=0.0000)], [Var(v=0.0130, grad=0.0000)], [Var(v=0.0000, grad=0.0000)], [Var(v=0.0000, grad=0.0000)], [Var(v=0.0000, grad=0.0000)], [Var(v=0.0342, grad=0.0000)], [Var(v=0.0000, grad=0.0000)], [Var(v=0.0179, grad=0.0000)], [Var(v=0.0053, grad=0.0000)], [Var(v=0.0000, grad=0.0000)], [Var(v=0.0000, grad=0.0000)], [Var(v=0.0259, grad=0.0000)], [Var(v=0.0278, grad=0.0000)], [Var(v=0.0146, grad=0.0000)], [Var(v=0.0171, grad=0.0000)], [Var(v=0.0000, grad=0.0000)], [Var(v=0.0000, grad=0.0000)], [Var(v=0.0000, grad=0.0000)], [Var(v=0.0000, grad=0.0000)], [Var(v=0.0113, grad=0.0000)], [Var(v=0.0000, grad=0.0000)], [Var(v=0.0000, grad=0.0000)], [Var(v=0.0000, grad=0.0000)], [Var(v=0.0116, grad=0.0000)], [Var(v=0.0000, grad=0.0000)], [Var(v=0.0182, grad=0.0000)], [Var(v=0.0377, grad=0.0000)], [Var(v=0.0000, grad=0.0000)], [Var(v=0.0000, grad=0.0000)], [Var(v=0.0166, grad=0.0000)], [Var(v=0.0014, grad=0.0000)], [Var(v=0.0000, grad=0.0000)], [Var(v=0.0000, grad=0.0000)], [Var(v=0.0000, grad=0.0000)], [Var(v=0.0100, grad=0.0000)], [Var(v=0.0210, grad=0.0000)], [Var(v=0.0001, grad=0.0000)], [Var(v=0.0289, grad=0.0000)], [Var(v=0.0000, grad=0.0000)], [Var(v=0.0000, grad=0.0000)], [Var(v=0.0045, grad=0.0000)], [Var(v=0.0292, grad=0.0000)], [Var(v=0.0094, grad=0.0000)], [Var(v=0.0193, grad=0.0000)], [Var(v=0.0000, grad=0.0000)], [Var(v=0.0237, grad=0.0000)], [Var(v=0.0003, grad=0.0000)], [Var(v=0.0000, grad=0.0000)], [Var(v=0.0218, grad=0.0000)], [Var(v=0.0000, grad=0.0000)], [Var(v=0.0000, grad=0.0000)], [Var(v=0.0072, grad=0.0000)], [Var(v=0.0000, grad=0.0000)], [Var(v=0.0105, grad=0.0000)], [Var(v=0.0000, grad=0.0000)], [Var(v=0.0135, grad=0.0000)], [Var(v=0.0000, grad=0.0000)], [Var(v=0.0023, grad=0.0000)], [Var(v=0.0000, grad=0.0000)], [Var(v=0.0000, grad=0.0000)], [Var(v=0.0000, grad=0.0000)], [Var(v=0.0000, grad=0.0000)], [Var(v=0.0174, grad=0.0000)], [Var(v=0.0281, grad=0.0000)]]\n"
     ]
    }
   ],
   "source": [
    "NN = [\n",
    "    DenseLayer(1, 5, lambda x: x.relu()),\n",
    "    DenseLayer(5, 1, lambda x: x.identity())\n",
    "]\n",
    "\n",
    "def forward(input, network):\n",
    "\n",
    "  def forward_single(x, network: list[DenseLayer]):\n",
    "    for layer in network:\n",
    "        x = layer.forward(x)\n",
    "    return x\n",
    "\n",
    "  output = [ forward_single(input[n], network) for n in range(len(input))]\n",
    "  return output\n",
    "\n",
    "print(forward(x_train, NN))\n"
   ]
  },
  {
   "cell_type": "markdown",
   "metadata": {
    "id": "oLrGJytZFtGm"
   },
   "source": [
    "## Exercise h) Print all network parameters\n",
    "\n",
    "Make a function that prints all the parameters of the network (weights and biases) with information about in which layer the appear. In the object oriented spirit you should introduce a method in the DenseLayer class to print the parameters of a layer. Hint: You can take inspiration from the corresponding method in Var. "
   ]
  },
  {
   "cell_type": "code",
   "execution_count": 90,
   "metadata": {
    "id": "iac-VwYGFtGm"
   },
   "outputs": [
    {
     "data": {
      "image/svg+xml": [
       "<?xml version=\"1.0\" encoding=\"UTF-8\" standalone=\"no\"?>\n",
       "<!DOCTYPE svg PUBLIC \"-//W3C//DTD SVG 1.1//EN\"\n",
       " \"http://www.w3.org/Graphics/SVG/1.1/DTD/svg11.dtd\">\n",
       "<!-- Generated by graphviz version 2.50.0 (0)\n",
       " -->\n",
       "<!-- Title: Parameters Pages: 1 -->\n",
       "<svg width=\"284pt\" height=\"360pt\"\n",
       " viewBox=\"0.00 0.00 284.01 360.00\" xmlns=\"http://www.w3.org/2000/svg\" xmlns:xlink=\"http://www.w3.org/1999/xlink\">\n",
       "<g id=\"graph0\" class=\"graph\" transform=\"scale(0.63 0.63) rotate(0) translate(4 565.58)\">\n",
       "<title>Parameters</title>\n",
       "<polygon fill=\"white\" stroke=\"transparent\" points=\"-4,4 -4,-565.58 445.36,-565.58 445.36,4 -4,4\"/>\n",
       "<!-- n1_0 -->\n",
       "<g id=\"node1\" class=\"node\">\n",
       "<title>n1_0</title>\n",
       "<ellipse fill=\"none\" stroke=\"black\" cx=\"197.99\" cy=\"-512.79\" rx=\"48.58\" ry=\"48.58\"/>\n",
       "<text text-anchor=\"middle\" x=\"197.99\" y=\"-516.59\" font-family=\"Times New Roman,serif\" font-size=\"14.00\">n1_0</text>\n",
       "<text text-anchor=\"middle\" x=\"197.99\" y=\"-501.59\" font-family=\"Times New Roman,serif\" font-size=\"14.00\">b=0.0000</text>\n",
       "</g>\n",
       "<!-- n2_0 -->\n",
       "<g id=\"node7\" class=\"node\">\n",
       "<title>n2_0</title>\n",
       "<ellipse fill=\"none\" stroke=\"black\" cx=\"392.57\" cy=\"-280.79\" rx=\"48.58\" ry=\"48.58\"/>\n",
       "<text text-anchor=\"middle\" x=\"392.57\" y=\"-284.59\" font-family=\"Times New Roman,serif\" font-size=\"14.00\">n2_0</text>\n",
       "<text text-anchor=\"middle\" x=\"392.57\" y=\"-269.59\" font-family=\"Times New Roman,serif\" font-size=\"14.00\">b=0.0000</text>\n",
       "</g>\n",
       "<!-- n1_0&#45;&gt;n2_0 -->\n",
       "<g id=\"edge6\" class=\"edge\">\n",
       "<title>n1_0&#45;&gt;n2_0</title>\n",
       "<path fill=\"none\" stroke=\"black\" d=\"M232.89,-478.48C259.22,-451.23 296.12,-411.69 325.78,-374.79 337.14,-360.64 348.75,-344.66 358.99,-329.93\"/>\n",
       "<polygon fill=\"black\" stroke=\"black\" points=\"362.06,-331.66 364.85,-321.44 356.3,-327.68 362.06,-331.66\"/>\n",
       "<text text-anchor=\"middle\" x=\"295.28\" y=\"-447.59\" font-family=\"Times New Roman,serif\" font-size=\"14.00\">w=0.0098</text>\n",
       "</g>\n",
       "<!-- n0_0 -->\n",
       "<g id=\"node2\" class=\"node\">\n",
       "<title>n0_0</title>\n",
       "<ellipse fill=\"none\" stroke=\"black\" cx=\"28.6\" cy=\"-280.79\" rx=\"28.7\" ry=\"28.7\"/>\n",
       "<text text-anchor=\"middle\" x=\"28.6\" y=\"-277.09\" font-family=\"Times New Roman,serif\" font-size=\"14.00\">n0_0</text>\n",
       "</g>\n",
       "<!-- n0_0&#45;&gt;n1_0 -->\n",
       "<g id=\"edge1\" class=\"edge\">\n",
       "<title>n0_0&#45;&gt;n1_0</title>\n",
       "<path fill=\"none\" stroke=\"black\" d=\"M41.38,-306.74C49.86,-324.49 62.09,-348.24 75.19,-367.79 99.71,-404.35 131.91,-442.34 157.03,-470.26\"/>\n",
       "<polygon fill=\"black\" stroke=\"black\" points=\"154.61,-472.8 163.92,-477.85 159.8,-468.1 154.61,-472.8\"/>\n",
       "<text text-anchor=\"middle\" x=\"103.19\" y=\"-440.59\" font-family=\"Times New Roman,serif\" font-size=\"14.00\">w=0.0190</text>\n",
       "</g>\n",
       "<!-- n1_1 -->\n",
       "<g id=\"node3\" class=\"node\">\n",
       "<title>n1_1</title>\n",
       "<ellipse fill=\"none\" stroke=\"black\" cx=\"197.99\" cy=\"-396.79\" rx=\"48.58\" ry=\"48.58\"/>\n",
       "<text text-anchor=\"middle\" x=\"197.99\" y=\"-400.59\" font-family=\"Times New Roman,serif\" font-size=\"14.00\">n1_1</text>\n",
       "<text text-anchor=\"middle\" x=\"197.99\" y=\"-385.59\" font-family=\"Times New Roman,serif\" font-size=\"14.00\">b=0.0000</text>\n",
       "</g>\n",
       "<!-- n0_0&#45;&gt;n1_1 -->\n",
       "<g id=\"edge2\" class=\"edge\">\n",
       "<title>n0_0&#45;&gt;n1_1</title>\n",
       "<path fill=\"none\" stroke=\"black\" d=\"M52.52,-296.68C77.26,-313.82 117.37,-341.62 149.06,-363.58\"/>\n",
       "<polygon fill=\"black\" stroke=\"black\" points=\"147.12,-366.49 157.33,-369.31 151.11,-360.74 147.12,-366.49\"/>\n",
       "<text text-anchor=\"middle\" x=\"103.19\" y=\"-352.59\" font-family=\"Times New Roman,serif\" font-size=\"14.00\">w=0.0649</text>\n",
       "</g>\n",
       "<!-- n1_2 -->\n",
       "<g id=\"node4\" class=\"node\">\n",
       "<title>n1_2</title>\n",
       "<ellipse fill=\"none\" stroke=\"black\" cx=\"197.99\" cy=\"-280.79\" rx=\"48.58\" ry=\"48.58\"/>\n",
       "<text text-anchor=\"middle\" x=\"197.99\" y=\"-284.59\" font-family=\"Times New Roman,serif\" font-size=\"14.00\">n1_2</text>\n",
       "<text text-anchor=\"middle\" x=\"197.99\" y=\"-269.59\" font-family=\"Times New Roman,serif\" font-size=\"14.00\">b=0.0000</text>\n",
       "</g>\n",
       "<!-- n0_0&#45;&gt;n1_2 -->\n",
       "<g id=\"edge3\" class=\"edge\">\n",
       "<title>n0_0&#45;&gt;n1_2</title>\n",
       "<path fill=\"none\" stroke=\"black\" d=\"M57.24,-280.79C79.3,-280.79 110.99,-280.79 138.62,-280.79\"/>\n",
       "<polygon fill=\"black\" stroke=\"black\" points=\"138.98,-284.29 148.98,-280.79 138.98,-277.29 138.98,-284.29\"/>\n",
       "<text text-anchor=\"middle\" x=\"103.19\" y=\"-284.59\" font-family=\"Times New Roman,serif\" font-size=\"14.00\">w=0.0001</text>\n",
       "</g>\n",
       "<!-- n1_3 -->\n",
       "<g id=\"node5\" class=\"node\">\n",
       "<title>n1_3</title>\n",
       "<ellipse fill=\"none\" stroke=\"black\" cx=\"197.99\" cy=\"-164.79\" rx=\"48.58\" ry=\"48.58\"/>\n",
       "<text text-anchor=\"middle\" x=\"197.99\" y=\"-168.59\" font-family=\"Times New Roman,serif\" font-size=\"14.00\">n1_3</text>\n",
       "<text text-anchor=\"middle\" x=\"197.99\" y=\"-153.59\" font-family=\"Times New Roman,serif\" font-size=\"14.00\">b=0.0000</text>\n",
       "</g>\n",
       "<!-- n0_0&#45;&gt;n1_3 -->\n",
       "<g id=\"edge4\" class=\"edge\">\n",
       "<title>n0_0&#45;&gt;n1_3</title>\n",
       "<path fill=\"none\" stroke=\"black\" d=\"M52.52,-264.9C77.26,-247.76 117.37,-219.96 149.06,-198\"/>\n",
       "<polygon fill=\"black\" stroke=\"black\" points=\"151.11,-200.84 157.33,-192.27 147.12,-195.09 151.11,-200.84\"/>\n",
       "<text text-anchor=\"middle\" x=\"103.19\" y=\"-249.59\" font-family=\"Times New Roman,serif\" font-size=\"14.00\">w=0.0936</text>\n",
       "</g>\n",
       "<!-- n1_4 -->\n",
       "<g id=\"node6\" class=\"node\">\n",
       "<title>n1_4</title>\n",
       "<ellipse fill=\"none\" stroke=\"black\" cx=\"197.99\" cy=\"-48.79\" rx=\"48.58\" ry=\"48.58\"/>\n",
       "<text text-anchor=\"middle\" x=\"197.99\" y=\"-52.59\" font-family=\"Times New Roman,serif\" font-size=\"14.00\">n1_4</text>\n",
       "<text text-anchor=\"middle\" x=\"197.99\" y=\"-37.59\" font-family=\"Times New Roman,serif\" font-size=\"14.00\">b=0.0000</text>\n",
       "</g>\n",
       "<!-- n0_0&#45;&gt;n1_4 -->\n",
       "<g id=\"edge5\" class=\"edge\">\n",
       "<title>n0_0&#45;&gt;n1_4</title>\n",
       "<path fill=\"none\" stroke=\"black\" d=\"M41.13,-254.9C49.59,-236.9 61.89,-212.66 75.19,-192.79 99.51,-156.48 131.57,-118.9 156.69,-91.23\"/>\n",
       "<polygon fill=\"black\" stroke=\"black\" points=\"159.41,-93.44 163.58,-83.7 154.25,-88.72 159.41,-93.44\"/>\n",
       "<text text-anchor=\"middle\" x=\"103.19\" y=\"-196.59\" font-family=\"Times New Roman,serif\" font-size=\"14.00\">w=0.0244</text>\n",
       "</g>\n",
       "<!-- n1_1&#45;&gt;n2_0 -->\n",
       "<g id=\"edge7\" class=\"edge\">\n",
       "<title>n1_1&#45;&gt;n2_0</title>\n",
       "<path fill=\"none\" stroke=\"black\" d=\"M240.3,-371.91C270,-354.02 310.19,-329.8 341.69,-310.84\"/>\n",
       "<polygon fill=\"black\" stroke=\"black\" points=\"343.56,-313.79 350.32,-305.63 339.95,-307.8 343.56,-313.79\"/>\n",
       "<text text-anchor=\"middle\" x=\"295.28\" y=\"-359.59\" font-family=\"Times New Roman,serif\" font-size=\"14.00\">w=0.1052</text>\n",
       "</g>\n",
       "<!-- n1_2&#45;&gt;n2_0 -->\n",
       "<g id=\"edge8\" class=\"edge\">\n",
       "<title>n1_2&#45;&gt;n2_0</title>\n",
       "<path fill=\"none\" stroke=\"black\" d=\"M247.08,-280.79C273.26,-280.79 305.85,-280.79 333.44,-280.79\"/>\n",
       "<polygon fill=\"black\" stroke=\"black\" points=\"333.75,-284.29 343.75,-280.79 333.75,-277.29 333.75,-284.29\"/>\n",
       "<text text-anchor=\"middle\" x=\"295.28\" y=\"-284.59\" font-family=\"Times New Roman,serif\" font-size=\"14.00\">w=&#45;0.1732</text>\n",
       "</g>\n",
       "<!-- n1_3&#45;&gt;n2_0 -->\n",
       "<g id=\"edge9\" class=\"edge\">\n",
       "<title>n1_3&#45;&gt;n2_0</title>\n",
       "<path fill=\"none\" stroke=\"black\" d=\"M240.3,-189.68C270,-207.57 310.19,-231.78 341.69,-250.75\"/>\n",
       "<polygon fill=\"black\" stroke=\"black\" points=\"339.95,-253.78 350.32,-255.95 343.56,-247.79 339.95,-253.78\"/>\n",
       "<text text-anchor=\"middle\" x=\"295.28\" y=\"-243.59\" font-family=\"Times New Roman,serif\" font-size=\"14.00\">w=0.1420</text>\n",
       "</g>\n",
       "<!-- n1_4&#45;&gt;n2_0 -->\n",
       "<g id=\"edge10\" class=\"edge\">\n",
       "<title>n1_4&#45;&gt;n2_0</title>\n",
       "<path fill=\"none\" stroke=\"black\" d=\"M233.24,-83.05C259.6,-110.06 296.37,-149.14 325.78,-185.79 337.32,-200.18 349.06,-216.49 359.37,-231.48\"/>\n",
       "<polygon fill=\"black\" stroke=\"black\" points=\"356.73,-233.83 365.25,-240.13 362.52,-229.9 356.73,-233.83\"/>\n",
       "<text text-anchor=\"middle\" x=\"295.28\" y=\"-189.59\" font-family=\"Times New Roman,serif\" font-size=\"14.00\">w=0.0695</text>\n",
       "</g>\n",
       "</g>\n",
       "</svg>\n"
      ],
      "text/plain": [
       "<graphviz.graphs.Digraph at 0x196f70279e0>"
      ]
     },
     "execution_count": 90,
     "metadata": {},
     "output_type": "execute_result"
    }
   ],
   "source": [
    "# Insert code here and in the DenseLayer class\n",
    "g = graphviz.Digraph('Parameters', filename='parameters_vis.gv')\n",
    "g.attr(rankdir='LR', size='8,5')\n",
    "g.attr('node', shape='circle')\n",
    "\n",
    "for l, layer in enumerate(NN):\n",
    "    for i in range(len(layer.weights)):\n",
    "        for o in range(len(layer.weights[i])):\n",
    "            g.node(f'n{l+1}_{o}', label=f'n{l+1}_{o}\\nb={layer.bias[o].v:.4f}')\n",
    "            g.edge(f'n{l}_{i}', f'n{l+1}_{o}' , label=f'w={layer.weights[i][o].v:.4f}')\n",
    "            \n",
    "g"
   ]
  },
  {
   "cell_type": "markdown",
   "metadata": {
    "id": "_79HOAXrFtHK"
   },
   "source": [
    "## Visualization\n",
    "\n",
    "Now that we have defined our activation functions we can visualize them to see what they look like:"
   ]
  },
  {
   "cell_type": "code",
   "execution_count": 91,
   "metadata": {
    "id": "1FcylHqLTl-Z"
   },
   "outputs": [],
   "source": [
    "x = np.linspace(-6, 6, 100)\n",
    "\n",
    "# convert from Var to ndarray  \n",
    "def Var_to_nparray(x):\n",
    "  y = np.zeros((len(x),len(x[0])))\n",
    "  for i in range(len(x)):\n",
    "    for j in range(len(x[0])):\n",
    "      y[i,j] = x[i][j].v\n",
    "  return y\n"
   ]
  },
  {
   "cell_type": "code",
   "execution_count": 92,
   "metadata": {
    "id": "oOL2UolJFtHL"
   },
   "outputs": [
    {
     "data": {
      "image/png": "[encoded data removed]",
      "text/plain": [
       "<Figure size 500x500 with 1 Axes>"
      ]
     },
     "metadata": {},
     "output_type": "display_data"
    }
   ],
   "source": [
    "# Testing all activation layers\n",
    "\n",
    "x = np.linspace(-6, 6, 100)\n",
    "units = {\n",
    "    \"identity\": lambda x: x.identity(),\n",
    "    \"sigmoid\": lambda x: x.sigmoid(),\n",
    "    \"relu\": lambda x: x.relu(),\n",
    "    \"tanh\": lambda x: x.tanh()\n",
    "}\n",
    "\n",
    "plt.figure(figsize=(5, 5))\n",
    "[plt.plot(x, Var_to_nparray(forward(nparray_to_Var(x), [DenseLayer(1, 1, unit, initializer = ConstantInitializer(1.0))]) ), label=unit_name, lw=2) for unit_name, unit in units.items()] # unit(nparray_to_Var(x))), label=unit_name, lw=2) for unit_name, unit in units.items()]\n",
    "plt.legend(loc=2, fontsize=16)\n",
    "plt.title('Our activation functions', fontsize=20)\n",
    "plt.ylim([-2, 5])\n",
    "plt.xlim([-6, 6])\n",
    "plt.show()"
   ]
  },
  {
   "cell_type": "markdown",
   "metadata": {
    "id": "b-jdEl-7FtGs"
   },
   "source": [
    "# Advanced initialization schemes\n",
    "\n",
    "If we are not careful with initialization, the signals we propagate forward ($a^{(l)}$, $l=1,\\ldots,L$) and backward ($\\delta^l$, $l=L,L-1,\\ldots,1$) can blow up or shrink to zero. A statistical analysis of the variance of the signals for different activation functions can be found in these two papers: [Glorot initialization](http://proceedings.mlr.press/v9/glorot10a/glorot10a.pdf) and [He initialization](https://arxiv.org/pdf/1502.01852v1.pdf). \n",
    "\n",
    "The result of the analyses are proposals for how to make the initialization such that the variance of the signals (forward and backward) are kept approxmimatly constant when propagating from layer to layer. The exact expressions depend upon the non-linear activation function used. In Glorot initialization, the aim is to keep both the forward and backward variances constant whereas He only aims at keeping the variance in the forward pass constant.\n",
    "\n",
    "We define $n_{in}$ and $n_{out}$ as the number of input units and output units of a particular layer. \n",
    "\n",
    "The Glorot initialization has the form: \n",
    "\n",
    "$$w_{ij} \\sim N \\bigg( 0, \\, \\frac{2 \\alpha }{n_{in} + n_{out}} \\bigg) \\ . $$\n",
    "\n",
    "where $N(\\mu,\\sigma^2)$ is a Gaussian distribution with mean $\\mu$ and variance $\\sigma^2$ and $\\alpha$ is a parameter that depends upon the activation function used. For $\\tanh$, $\\alpha=1$ and for Rectified Linear Unit (ReLU) activations, $\\alpha=2$. (It is also possible to use a uniform distribution for initialization, see [this blog post](https://mmuratarat.github.io/2019-02-25/xavier-glorot-he-weight-init).) \n",
    "\n",
    "The He initialization is very similar\n",
    "\n",
    "$$w_{ij} \\sim N \\bigg( 0, \\, \\frac{\\alpha}{n_{in}} \\bigg) \\ . $$"
   ]
  },
  {
   "cell_type": "markdown",
   "metadata": {
    "id": "mqeyab9qFtGs"
   },
   "source": [
    "## Exercise i) Glorot and He initialization\n",
    " \n",
    "Using the Initializer class, implement functions that implement Glorot and He \n",
    "\n",
    "Explain briefly how you would test numerically that these initializations have the sought after property. Hint: See plots in Glorot paper.\n",
    "\n",
    "Comment: If you want to be more advanced then try to make a universal initializer taking both the activation function and type (Glorot or He) as argument."
   ]
  },
  {
   "cell_type": "code",
   "execution_count": 93,
   "metadata": {
    "id": "Qyk01CgaFtGt"
   },
   "outputs": [],
   "source": [
    "class GlorotInitializer(NormalInitializer):\n",
    "  def __init__(self, alpha=1.0, n_in=1, n_out=1):\n",
    "    std = 2*alpha/(n_in + n_out)\n",
    "    super().__init__(std = std)\n",
    "\n",
    "class HeInitializer(NormalInitializer):\n",
    "  def __init__(self, alpha=1.0, n_in=1):\n",
    "    std = alpha/n_in\n",
    "    super().__init__(std = std)\n",
    "\n",
    "## Glorot\n",
    "def DenseLayer_Glorot_tanh(n_in: int, n_out: int, alpha = 1.0):\n",
    "  return DenseLayer(n_in, n_out, lambda x: x.tanh(), initializer = GlorotInitializer(alpha, n_in, n_out))\n",
    "\n",
    "## He\n",
    "def DenseLayer_He_relu(n_in: int, n_out: int, alpha = 1.0):\n",
    "  return DenseLayer(n_in, n_out, lambda x: x.relu(), initializer = HeInitializer(alpha, n_in))"
   ]
  },
  {
   "cell_type": "markdown",
   "metadata": {},
   "source": [
    "**Solution:**\n",
    "\n",
    "I'd test numerically by: \n",
    "1. Generating random inputs. \n",
    "2. Forward Pass through the Network and saving the activation values at each layer. \n",
    "3. Measure the Variance for each layer. In the case of He, we would be interested in the variation of activation values and in the case of Glorot, we would be interested in both the forward pass (activation values) and the backward pass (the gradient values). \n",
    "4. Compare between layers: if the initialization was correct, the activation values' variance would be constant in both cases, and in the Gorot case the gradient values' variane would also be constant. "
   ]
  },
  {
   "cell_type": "markdown",
   "metadata": {
    "id": "-XyXBD37FtHk"
   },
   "source": [
    "## Exercise j) Forward pass unit test\n",
    "\n",
    "Write a bit of code to make a unit test that the forward pass works. This can be done by defining a simple network with for example all weights equal to one (using the ConstantInitializer method) and identity activation functions. \n",
    "\n",
    "Hints: Use the [assert](https://www.w3schools.com/python/ref_keyword_assert.asp), the nparray_to_Var and the Var_to_nparray commands. "
   ]
  },
  {
   "cell_type": "code",
   "execution_count": 94,
   "metadata": {
    "id": "k0miqRUAFtHl"
   },
   "outputs": [
    {
     "name": "stdout",
     "output_type": "stream",
     "text": [
      "Works!\n"
     ]
    }
   ],
   "source": [
    "# Insert code here\n",
    "NN = [ DenseLayer(1, 1, lambda x: x.identity(), initializer=ConstantInitializer(1.0)) ]\n",
    "in_try = np.linspace(-3, 3, 100).reshape(-1,1)\n",
    "in_try_var = nparray_to_Var(in_try)\n",
    "out_try_var = forward(in_try_var, NN)\n",
    "out_try = Var_to_nparray(out_try_var)\n",
    "assert (in_try == out_try).all() , \"Should be equal\"\n",
    "print(\"Works!\")"
   ]
  },
  {
   "cell_type": "markdown",
   "metadata": {
    "id": "faCxhfFnFtHp"
   },
   "source": [
    "# Loss functions\n",
    "\n",
    "We are only missing a loss function to we need to define a loss function and its derivative with respect to the output of the neural network $y$"
   ]
  },
  {
   "cell_type": "code",
   "execution_count": 95,
   "metadata": {
    "id": "I2eDYKvAFtHq"
   },
   "outputs": [],
   "source": [
    "def squared_loss(t, y):\n",
    "  \n",
    "  # add check that sizes agree\n",
    "  assert len(t) == len(y), \"t and y must have the same length\"\n",
    "\n",
    "  def squared_loss_single(t, y):\n",
    "    Loss = Var(0.0)\n",
    "    for i in range(len(t)): # sum over outputs\n",
    "      Loss += (t[i]-y[i]) ** 2\n",
    "    return Loss\n",
    "\n",
    "  Loss = Var(0.0)\n",
    "  for n in range(len(t)): # sum over training data\n",
    "    Loss += squared_loss_single(t[n],y[n])\n",
    "  return Loss"
   ]
  },
  {
   "cell_type": "markdown",
   "metadata": {
    "id": "SrwSJ2UWFtHu"
   },
   "source": [
    "## Exercise k) Implement cross entropy loss\n",
    "\n",
    "Insert code below to implement cross-entropy loss for general dimensionality of $t$. Use a logits formulation:\n",
    "$$\n",
    "\\rm{Loss} = - \\sum_i t_i \\, log \\, p_i \n",
    "$$\n",
    "with $p$ given by the the softmax function in terms of the logits $h$:\n",
    "$$\n",
    "p_i = \\frac{\\exp(h_i)}{\\sum_{i'} \\exp(h_{i'})} .\n",
    "$$\n",
    "Inserting $p$ in the expression for the loss gives\n",
    "$$\n",
    "\\rm{Loss} = - \\sum_i t_i h_i + \\rm{LogSumExp}(h) \\ ,\n",
    "$$\n",
    "where \n",
    "$$\n",
    "\\rm{LogSumExp}(h) = \\log \\sum_i \\exp h_i \\ .\n",
    "$$\n",
    "This is true for $t$ being a one-hot vector. \n",
    "\n",
    "Call the function to convince yourself it works. \n",
    "\n",
    "In practice you want to implement a [numerically stable](https://leimao.github.io/blog/LogSumExp/) version of LogSumExp. But we will not bother about that here.\n",
    "\n",
    "Help: You can add these methods in the Var class:\n",
    "\n",
    "    def exp(self):\n",
    "        return Var(exp(self.v), lambda: [(self, exp(self.v))])\n",
    "    \n",
    "    def log(self):\n",
    "        return Var(log(self.v), lambda: [(self, self.v ** -1)])"
   ]
  },
  {
   "cell_type": "code",
   "execution_count": 96,
   "metadata": {
    "id": "6nMuxyfzFtHv"
   },
   "outputs": [],
   "source": [
    "def cross_entropy_loss(t, h):\n",
    "    # add check that sizes agree\n",
    "    assert len(t) == len(h), \"t and y must have the same length\"\n",
    "\n",
    "    def logsumexp(t, h):\n",
    "        Loss = Var(0.0)\n",
    "        for i in range(len(t)): # sum over outputs\n",
    "            Loss += exp(h[i])\n",
    "            return log(Loss)\n",
    "    \n",
    "    def first_term(t, h):\n",
    "        Loss = Var(0.0)\n",
    "        for i in range(len(t)): # sum over outputs\n",
    "            Loss += -t[i] * h[i]\n",
    "\n",
    "    Loss = Var(0.0)\n",
    "    # Insert code here\n",
    "    for n in range(len(t)): # sum over training data\n",
    "        Loss += first_term(t[n], h[n]) + logsumexp(t[n], h[n])\n",
    "    return Loss"
   ]
  },
  {
   "cell_type": "markdown",
   "metadata": {
    "id": "8fAF5ew4FtHy"
   },
   "source": [
    "# Backward pass\n",
    "\n",
    "Now the magic happens! We get the calculation of the gradients for free. Just do:"
   ]
  },
  {
   "cell_type": "code",
   "execution_count": 97,
   "metadata": {
    "id": "iHyfPPI9Qqwu"
   },
   "outputs": [],
   "source": [
    "NN = [\n",
    "    DenseLayer(1, 5, lambda x: x.relu()),\n",
    "    DenseLayer(5, 1, lambda x: x.identity())\n",
    "]\n",
    "\n",
    "output = forward(x_train, NN)\n",
    "\n",
    "Loss = squared_loss(y_train,output)\n",
    "Loss.backward()"
   ]
  },
  {
   "cell_type": "markdown",
   "metadata": {
    "id": "49biIAYKQ1oG"
   },
   "source": [
    "and the gradients will be calculated:"
   ]
  },
  {
   "cell_type": "code",
   "execution_count": 98,
   "metadata": {
    "id": "_rGt1bq_Q7uk"
   },
   "outputs": [
    {
     "name": "stdout",
     "output_type": "stream",
     "text": [
      "Layer 0 \n",
      " Weights: [[Var(v=-0.0426, grad=10.4266), Var(v=0.0685, grad=2.2495), Var(v=-0.0877, grad=-3.2531), Var(v=0.0624, grad=-5.2148), Var(v=0.0438, grad=8.3455)]] Biases: [Var(v=0.0000, grad=-9.0144), Var(v=0.0000, grad=1.9671), Var(v=0.0000, grad=2.8125), Var(v=0.0000, grad=-4.5601), Var(v=0.0000, grad=7.2978)]\n",
      "Layer 1 \n",
      " Weights: [[Var(v=-0.1047, grad=4.2488)], [Var(v=-0.0228, grad=-6.7683)], [Var(v=0.0327, grad=8.7401)], [Var(v=0.0527, grad=-6.1743)], [Var(v=-0.0844, grad=-4.3291)]] Biases: [Var(v=0.0000, grad=-0.3205)]\n"
     ]
    },
    {
     "data": {
      "text/plain": [
       "[None, None]"
      ]
     },
     "execution_count": 98,
     "metadata": {},
     "output_type": "execute_result"
    }
   ],
   "source": [
    "[print('Layer', i, '\\n', NN[i]) for i in range(len(NN))] "
   ]
  },
  {
   "cell_type": "markdown",
   "metadata": {
    "id": "D7d7qK0uFtH9"
   },
   "source": [
    "# Backward pass unit test\n",
    "\n",
    "Above we used finite differences to test that Nanograd is actually doing what it is supposed to do. We can in principle try the same for the neural network. But we will trust that the test above is enough."
   ]
  },
  {
   "cell_type": "markdown",
   "metadata": {
    "id": "WgBi8GOSFtIN"
   },
   "source": [
    "# Training and validation\n",
    "\n",
    "We are ready to train some neural networks!\n",
    "\n",
    "We initialize again:"
   ]
  },
  {
   "cell_type": "code",
   "execution_count": 99,
   "metadata": {
    "id": "01ePmzBzRtdh"
   },
   "outputs": [],
   "source": [
    "NN = [\n",
    "    DenseLayer(1, 15, lambda x: x.relu()),\n",
    "    DenseLayer(15, 50, lambda x: x.relu()),\n",
    "    DenseLayer(50, 1, lambda x: x.identity())\n",
    "]\n",
    "\n",
    "output = forward(x_train, NN)\n",
    "\n",
    "Loss = squared_loss(y_train,output)\n",
    "Loss.backward()"
   ]
  },
  {
   "cell_type": "markdown",
   "metadata": {
    "id": "10iRPiQ1ISHw"
   },
   "source": [
    "and make an update:\n",
    "\n",
    "We introduce a help function parameters to have a handle in all parameters in the network."
   ]
  },
  {
   "cell_type": "code",
   "execution_count": 100,
   "metadata": {
    "id": "dhAI7eyeznia"
   },
   "outputs": [
    {
     "name": "stdout",
     "output_type": "stream",
     "text": [
      "Network before update:\n",
      "Layer 0 \n",
      " Weights: [[Var(v=-0.0167, grad=-6.9092), Var(v=-0.0536, grad=-3.0271), Var(v=0.1297, grad=9.3083), Var(v=0.1655, grad=1.2138), Var(v=-0.1520, grad=-0.8636), Var(v=-0.0810, grad=8.6121), Var(v=0.1061, grad=0.7802), Var(v=0.1032, grad=2.9240), Var(v=-0.0295, grad=9.0527), Var(v=-0.0553, grad=-10.4893), Var(v=0.0378, grad=-10.0789), Var(v=-0.2269, grad=12.4097), Var(v=-0.0841, grad=5.5501), Var(v=-0.0523, grad=-13.9605), Var(v=0.0668, grad=-5.2299)]] Biases: [Var(v=0.0000, grad=5.9770), Var(v=0.0000, grad=2.6187), Var(v=0.0000, grad=8.1393), Var(v=0.0000, grad=1.0614), Var(v=0.0000, grad=0.7470), Var(v=0.0000, grad=-7.4501), Var(v=0.0000, grad=0.6822), Var(v=0.0000, grad=2.5568), Var(v=0.0000, grad=-7.8313), Var(v=0.0000, grad=9.0740), Var(v=0.0000, grad=-8.8132), Var(v=0.0000, grad=-10.7353), Var(v=0.0000, grad=-4.8013), Var(v=0.0000, grad=12.0768), Var(v=0.0000, grad=-4.5731)]\n",
      "Layer 1 \n",
      " Weights: [[Var(v=-0.1184, grad=0.0000), Var(v=0.0507, grad=0.0000), Var(v=-0.0487, grad=-0.1138), Var(v=0.0826, grad=0.2398), Var(v=-0.0898, grad=-0.2275), Var(v=0.0552, grad=0.0000), Var(v=0.0843, grad=-0.0088), Var(v=0.0564, grad=0.0620), Var(v=-0.0237, grad=0.0000), Var(v=-0.0722, grad=0.0000), Var(v=-0.0124, grad=-0.0190), Var(v=-0.1791, grad=0.0000), Var(v=0.0617, grad=0.0000), Var(v=-0.1487, grad=0.0000), Var(v=0.1650, grad=0.3168), Var(v=-0.1580, grad=0.0000), Var(v=-0.0396, grad=-0.2765), Var(v=0.1866, grad=0.0000), Var(v=-0.0171, grad=0.0048), Var(v=-0.0639, grad=0.0000), Var(v=-0.0430, grad=-0.0287), Var(v=-0.0888, grad=0.0564), Var(v=0.0111, grad=0.1594), Var(v=-0.0337, grad=0.0000), Var(v=0.1776, grad=-0.0094), Var(v=-0.1394, grad=0.0000), Var(v=0.1282, grad=-0.0739), Var(v=-0.0780, grad=0.0000), Var(v=-0.0394, grad=0.0000), Var(v=-0.0075, grad=0.0000), Var(v=0.0861, grad=0.0000), Var(v=-0.0860, grad=0.0000), Var(v=0.0431, grad=0.0000), Var(v=-0.0061, grad=-0.0894), Var(v=-0.1462, grad=0.2417), Var(v=-0.1140, grad=0.0270), Var(v=0.0361, grad=0.1289), Var(v=0.0692, grad=0.0000), Var(v=-0.1709, grad=-0.0235), Var(v=0.1596, grad=0.0000), Var(v=0.0077, grad=0.0000), Var(v=0.0210, grad=0.2606), Var(v=0.0955, grad=0.0000), Var(v=-0.1022, grad=-0.2495), Var(v=-0.1210, grad=-0.3861), Var(v=0.0364, grad=0.0001), Var(v=0.1347, grad=-0.3410), Var(v=0.0130, grad=0.0451), Var(v=0.1093, grad=0.1201), Var(v=-0.0714, grad=0.0000)], [Var(v=-0.0298, grad=0.0000), Var(v=-0.0217, grad=0.0000), Var(v=0.0691, grad=-0.3660), Var(v=0.1491, grad=0.7716), Var(v=0.1552, grad=-0.7320), Var(v=-0.0290, grad=0.0000), Var(v=0.0122, grad=-0.0284), Var(v=-0.0643, grad=0.1996), Var(v=-0.0435, grad=0.0000), Var(v=0.1292, grad=0.0000), Var(v=0.0306, grad=-0.0612), Var(v=-0.1091, grad=0.0000), Var(v=-0.1469, grad=0.0000), Var(v=-0.0936, grad=0.0000), Var(v=0.0385, grad=1.0193), Var(v=0.2429, grad=0.0000), Var(v=0.0100, grad=-0.8897), Var(v=0.0769, grad=0.0000), Var(v=-0.0016, grad=0.0153), Var(v=-0.0345, grad=0.0000), Var(v=-0.0802, grad=-0.0924), Var(v=-0.0533, grad=0.1813), Var(v=-0.0330, grad=0.5130), Var(v=-0.0039, grad=0.0000), Var(v=0.0042, grad=-0.0301), Var(v=0.0047, grad=0.0000), Var(v=-0.1624, grad=-0.2378), Var(v=-0.1546, grad=0.0000), Var(v=-0.0220, grad=0.0000), Var(v=-0.1222, grad=0.0000), Var(v=-0.0346, grad=0.0000), Var(v=0.0313, grad=0.0000), Var(v=-0.2027, grad=0.0000), Var(v=-0.0641, grad=-0.2876), Var(v=0.0262, grad=0.7778), Var(v=0.0271, grad=0.0870), Var(v=0.0804, grad=0.4148), Var(v=0.0841, grad=0.0000), Var(v=0.0154, grad=-0.0757), Var(v=0.0199, grad=0.0000), Var(v=0.1157, grad=0.0000), Var(v=0.0612, grad=0.8384), Var(v=0.1217, grad=0.0000), Var(v=0.0796, grad=-0.8030), Var(v=0.0770, grad=-1.2423), Var(v=0.0473, grad=0.0005), Var(v=-0.1511, grad=-1.0974), Var(v=0.1566, grad=0.1452), Var(v=-0.0056, grad=0.3865), Var(v=0.0680, grad=0.0000)], [Var(v=0.0027, grad=0.6328), Var(v=0.0324, grad=0.0000), Var(v=0.0234, grad=0.9110), Var(v=0.0352, grad=0.0000), Var(v=0.0613, grad=1.8218), Var(v=0.0961, grad=0.0000), Var(v=0.0243, grad=0.0000), Var(v=-0.1035, grad=-0.4967), Var(v=-0.0651, grad=0.0000), Var(v=0.0592, grad=0.0000), Var(v=0.1455, grad=0.1523), Var(v=-0.0570, grad=0.0000), Var(v=-0.1564, grad=0.0000), Var(v=0.1077, grad=0.0000), Var(v=-0.0970, grad=0.0000), Var(v=0.0364, grad=0.0000), Var(v=0.2694, grad=2.2143), Var(v=-0.1574, grad=-0.3586), Var(v=-0.0179, grad=0.0000), Var(v=0.1264, grad=2.1441), Var(v=0.0050, grad=0.0000), Var(v=0.0047, grad=-0.4513), Var(v=0.0868, grad=-1.2768), Var(v=-0.0586, grad=0.0000), Var(v=-0.0119, grad=0.0000), Var(v=0.1267, grad=1.1274), Var(v=0.0345, grad=0.0000), Var(v=0.0639, grad=-0.2272), Var(v=0.0259, grad=0.4989), Var(v=-0.0210, grad=1.2915), Var(v=0.0497, grad=0.0000), Var(v=-0.0041, grad=-0.8493), Var(v=-0.0609, grad=0.0000), Var(v=-0.1155, grad=0.7157), Var(v=-0.0914, grad=0.0000), Var(v=0.1556, grad=-0.2164), Var(v=-0.0091, grad=-1.0323), Var(v=0.0540, grad=-0.1927), Var(v=0.0287, grad=0.0000), Var(v=0.0853, grad=0.0000), Var(v=0.0537, grad=-0.4061), Var(v=0.0836, grad=0.0000), Var(v=-0.0738, grad=0.7258), Var(v=-0.1149, grad=0.0000), Var(v=-0.0513, grad=3.0918), Var(v=0.0453, grad=-0.0012), Var(v=0.0785, grad=0.0000), Var(v=-0.0953, grad=0.0000), Var(v=-0.0544, grad=-0.9620), Var(v=0.2646, grad=1.3958)], [Var(v=0.1500, grad=0.8077), Var(v=0.0002, grad=0.0000), Var(v=0.0106, grad=1.1628), Var(v=-0.1834, grad=0.0000), Var(v=0.0346, grad=2.3253), Var(v=-0.1779, grad=0.0000), Var(v=0.0049, grad=0.0000), Var(v=0.0089, grad=-0.6340), Var(v=0.0409, grad=0.0000), Var(v=0.0522, grad=0.0000), Var(v=-0.0884, grad=0.1944), Var(v=-0.0674, grad=0.0000), Var(v=-0.0573, grad=0.0000), Var(v=-0.0572, grad=0.0000), Var(v=0.0293, grad=0.0000), Var(v=-0.1301, grad=0.0000), Var(v=-0.1254, grad=2.8263), Var(v=0.0115, grad=-0.4577), Var(v=0.0357, grad=0.0000), Var(v=0.0057, grad=2.7367), Var(v=-0.0311, grad=0.0000), Var(v=0.1265, grad=-0.5760), Var(v=-0.1472, grad=-1.6297), Var(v=-0.0701, grad=0.0000), Var(v=-0.1165, grad=0.0000), Var(v=-0.0043, grad=1.4390), Var(v=-0.0326, grad=0.0000), Var(v=0.1644, grad=-0.2900), Var(v=-0.0107, grad=0.6368), Var(v=0.0352, grad=1.6484), Var(v=-0.0315, grad=0.0000), Var(v=0.1617, grad=-1.0841), Var(v=-0.0848, grad=0.0000), Var(v=0.0754, grad=0.9135), Var(v=-0.0084, grad=0.0000), Var(v=-0.0338, grad=-0.2762), Var(v=-0.1440, grad=-1.3176), Var(v=0.0811, grad=-0.2460), Var(v=-0.0174, grad=0.0000), Var(v=0.0433, grad=0.0000), Var(v=0.0161, grad=-0.5184), Var(v=-0.0708, grad=0.0000), Var(v=-0.0125, grad=0.9264), Var(v=0.0043, grad=0.0000), Var(v=0.0701, grad=3.9463), Var(v=-0.0050, grad=-0.0015), Var(v=-0.0167, grad=0.0000), Var(v=-0.0188, grad=0.0000), Var(v=0.1308, grad=-1.2279), Var(v=0.0115, grad=1.7816)], [Var(v=-0.0635, grad=0.0000), Var(v=0.1718, grad=0.0000), Var(v=0.1324, grad=-1.0382), Var(v=-0.0096, grad=2.1887), Var(v=0.0403, grad=-2.0762), Var(v=-0.0806, grad=0.0000), Var(v=0.0408, grad=-0.0805), Var(v=0.2168, grad=0.5661), Var(v=-0.0532, grad=0.0000), Var(v=-0.1285, grad=0.0000), Var(v=0.0056, grad=-0.1736), Var(v=0.1208, grad=0.0000), Var(v=-0.0592, grad=0.0000), Var(v=-0.1511, grad=0.0000), Var(v=0.1020, grad=2.8912), Var(v=-0.0012, grad=0.0000), Var(v=-0.0440, grad=-2.5235), Var(v=0.0570, grad=0.0000), Var(v=-0.0945, grad=0.0435), Var(v=-0.0210, grad=0.0000), Var(v=0.0576, grad=-0.2622), Var(v=0.1272, grad=0.5143), Var(v=0.1262, grad=1.4551), Var(v=-0.1453, grad=0.0000), Var(v=-0.0261, grad=-0.0854), Var(v=0.0040, grad=0.0000), Var(v=0.0494, grad=-0.6745), Var(v=0.0889, grad=0.0000), Var(v=-0.1226, grad=0.0000), Var(v=0.0782, grad=0.0000), Var(v=-0.0638, grad=0.0000), Var(v=0.1524, grad=0.0000), Var(v=-0.2220, grad=0.0000), Var(v=0.2009, grad=-0.8157), Var(v=0.0404, grad=2.2061), Var(v=-0.0374, grad=0.2467), Var(v=0.0430, grad=1.1764), Var(v=-0.0824, grad=0.0000), Var(v=0.0742, grad=-0.2147), Var(v=0.0321, grad=0.0000), Var(v=-0.1422, grad=0.0000), Var(v=0.0365, grad=2.3780), Var(v=0.0371, grad=0.0000), Var(v=-0.0848, grad=-2.2775), Var(v=0.1650, grad=-3.5236), Var(v=0.2036, grad=0.0014), Var(v=-0.0192, grad=-3.1125), Var(v=0.1203, grad=0.4117), Var(v=-0.0991, grad=1.0963), Var(v=-0.1265, grad=0.0000)], [Var(v=0.1190, grad=0.0000), Var(v=-0.0890, grad=0.0000), Var(v=-0.0790, grad=-0.5533), Var(v=-0.1487, grad=1.1663), Var(v=0.1682, grad=-1.1064), Var(v=-0.0759, grad=0.0000), Var(v=0.0024, grad=-0.0429), Var(v=-0.0440, grad=0.3016), Var(v=-0.1670, grad=0.0000), Var(v=-0.0554, grad=0.0000), Var(v=-0.0729, grad=-0.0925), Var(v=-0.1709, grad=0.0000), Var(v=-0.1908, grad=0.0000), Var(v=0.0027, grad=0.0000), Var(v=-0.0861, grad=1.5407), Var(v=-0.1314, grad=0.0000), Var(v=0.1543, grad=-1.3447), Var(v=-0.0804, grad=0.0000), Var(v=0.2422, grad=0.0232), Var(v=-0.0148, grad=0.0000), Var(v=-0.0734, grad=-0.1397), Var(v=-0.0007, grad=0.2741), Var(v=0.0505, grad=0.7754), Var(v=-0.1300, grad=0.0000), Var(v=-0.1103, grad=-0.0455), Var(v=-0.2366, grad=0.0000), Var(v=0.1357, grad=-0.3594), Var(v=0.0060, grad=0.0000), Var(v=0.0393, grad=0.0000), Var(v=0.1005, grad=0.0000), Var(v=-0.1412, grad=0.0000), Var(v=-0.0685, grad=0.0000), Var(v=-0.0388, grad=0.0000), Var(v=0.0746, grad=-0.4347), Var(v=-0.0644, grad=1.1755), Var(v=0.0876, grad=0.1314), Var(v=0.0353, grad=0.6269), Var(v=-0.1559, grad=0.0000), Var(v=0.0340, grad=-0.1144), Var(v=0.0754, grad=0.0000), Var(v=-0.1110, grad=0.0000), Var(v=-0.0422, grad=1.2672), Var(v=0.1405, grad=0.0000), Var(v=0.0293, grad=-1.2136), Var(v=-0.1092, grad=-1.8776), Var(v=-0.1410, grad=0.0007), Var(v=0.0758, grad=-1.6586), Var(v=-0.0542, grad=0.2194), Var(v=0.0924, grad=0.5842), Var(v=-0.0639, grad=0.0000)], [Var(v=-0.0117, grad=0.5179), Var(v=-0.0700, grad=0.0000), Var(v=-0.0215, grad=0.7456), Var(v=-0.0612, grad=0.0000), Var(v=0.1859, grad=1.4910), Var(v=0.2588, grad=0.0000), Var(v=-0.0601, grad=0.0000), Var(v=0.0072, grad=-0.4065), Var(v=-0.0300, grad=0.0000), Var(v=-0.1814, grad=0.0000), Var(v=0.0160, grad=0.1246), Var(v=0.0482, grad=0.0000), Var(v=0.0064, grad=0.0000), Var(v=0.0775, grad=0.0000), Var(v=0.0651, grad=0.0000), Var(v=-0.2171, grad=0.0000), Var(v=-0.0151, grad=1.8122), Var(v=0.0336, grad=-0.2935), Var(v=-0.1741, grad=0.0000), Var(v=-0.0611, grad=1.7548), Var(v=-0.0841, grad=0.0000), Var(v=-0.0980, grad=-0.3693), Var(v=0.1175, grad=-1.0450), Var(v=-0.0105, grad=0.0000), Var(v=-0.0045, grad=0.0000), Var(v=0.1084, grad=0.9227), Var(v=-0.0271, grad=0.0000), Var(v=-0.0389, grad=-0.1860), Var(v=0.1101, grad=0.4083), Var(v=0.0950, grad=1.0570), Var(v=-0.0690, grad=0.0000), Var(v=-0.0591, grad=-0.6951), Var(v=0.0276, grad=0.0000), Var(v=0.1020, grad=0.5858), Var(v=0.1141, grad=0.0000), Var(v=0.0199, grad=-0.1771), Var(v=0.1125, grad=-0.8448), Var(v=0.0967, grad=-0.1577), Var(v=-0.1576, grad=0.0000), Var(v=0.0383, grad=0.0000), Var(v=-0.0933, grad=-0.3324), Var(v=-0.1119, grad=0.0000), Var(v=-0.0525, grad=0.5940), Var(v=-0.1652, grad=0.0000), Var(v=-0.1034, grad=2.5304), Var(v=-0.1495, grad=-0.0010), Var(v=0.1124, grad=0.0000), Var(v=-0.1581, grad=0.0000), Var(v=0.0133, grad=-0.7873), Var(v=0.0809, grad=1.1424)], [Var(v=-0.1129, grad=0.5036), Var(v=-0.0239, grad=0.0000), Var(v=-0.0112, grad=0.7251), Var(v=-0.0546, grad=0.0000), Var(v=0.0082, grad=1.4500), Var(v=-0.0641, grad=0.0000), Var(v=-0.1298, grad=0.0000), Var(v=0.0505, grad=-0.3953), Var(v=-0.0434, grad=0.0000), Var(v=-0.0285, grad=0.0000), Var(v=0.1401, grad=0.1212), Var(v=-0.1487, grad=0.0000), Var(v=0.0925, grad=0.0000), Var(v=-0.1335, grad=0.0000), Var(v=-0.1207, grad=0.0000), Var(v=-0.1455, grad=0.0000), Var(v=0.1000, grad=1.7624), Var(v=0.0968, grad=-0.2854), Var(v=0.0456, grad=0.0000), Var(v=-0.0279, grad=1.7066), Var(v=0.0588, grad=0.0000), Var(v=0.0951, grad=-0.3592), Var(v=0.0885, grad=-1.0162), Var(v=0.0430, grad=0.0000), Var(v=0.1704, grad=0.0000), Var(v=0.1757, grad=0.8973), Var(v=0.0682, grad=0.0000), Var(v=0.1710, grad=-0.1809), Var(v=-0.0255, grad=0.3971), Var(v=0.0048, grad=1.0279), Var(v=0.0959, grad=0.0000), Var(v=0.0167, grad=-0.6760), Var(v=0.0049, grad=0.0000), Var(v=0.1581, grad=0.5697), Var(v=-0.2022, grad=0.0000), Var(v=0.0938, grad=-0.1723), Var(v=0.1359, grad=-0.8216), Var(v=-0.2424, grad=-0.1534), Var(v=0.0861, grad=0.0000), Var(v=-0.2361, grad=0.0000), Var(v=0.0742, grad=-0.3232), Var(v=-0.1405, grad=0.0000), Var(v=0.0657, grad=0.5777), Var(v=-0.0568, grad=0.0000), Var(v=0.1244, grad=2.4609), Var(v=0.2849, grad=-0.0010), Var(v=-0.2115, grad=0.0000), Var(v=-0.1225, grad=0.0000), Var(v=0.0125, grad=-0.7657), Var(v=-0.0351, grad=1.1110)], [Var(v=0.0507, grad=0.0000), Var(v=-0.0024, grad=0.0000), Var(v=-0.1436, grad=-0.2012), Var(v=0.1102, grad=0.4242), Var(v=0.1082, grad=-0.4024), Var(v=0.2218, grad=0.0000), Var(v=0.1971, grad=-0.0156), Var(v=-0.0996, grad=0.1097), Var(v=0.1372, grad=0.0000), Var(v=0.1446, grad=0.0000), Var(v=0.1083, grad=-0.0336), Var(v=0.1334, grad=0.0000), Var(v=0.1171, grad=0.0000), Var(v=0.0263, grad=0.0000), Var(v=0.0066, grad=0.5604), Var(v=0.0022, grad=0.0000), Var(v=0.0210, grad=-0.4891), Var(v=0.1768, grad=0.0000), Var(v=0.0445, grad=0.0084), Var(v=0.0222, grad=0.0000), Var(v=0.0772, grad=-0.0508), Var(v=-0.0034, grad=0.0997), Var(v=-0.0795, grad=0.2820), Var(v=0.1096, grad=0.0000), Var(v=0.0055, grad=-0.0166), Var(v=-0.0126, grad=0.0000), Var(v=0.1372, grad=-0.1307), Var(v=0.0196, grad=0.0000), Var(v=-0.0637, grad=0.0000), Var(v=-0.2572, grad=0.0000), Var(v=-0.0547, grad=0.0000), Var(v=0.0660, grad=0.0000), Var(v=0.0597, grad=0.0000), Var(v=-0.0375, grad=-0.1581), Var(v=-0.0318, grad=0.4276), Var(v=0.1701, grad=0.0478), Var(v=-0.1418, grad=0.2280), Var(v=-0.1638, grad=0.0000), Var(v=0.0535, grad=-0.0416), Var(v=0.1322, grad=0.0000), Var(v=-0.0068, grad=0.0000), Var(v=-0.1661, grad=0.4609), Var(v=-0.2153, grad=0.0000), Var(v=0.1192, grad=-0.4414), Var(v=0.0037, grad=-0.6830), Var(v=0.0046, grad=0.0003), Var(v=0.0824, grad=-0.6033), Var(v=-0.0790, grad=0.0798), Var(v=-0.0394, grad=0.2125), Var(v=0.0253, grad=0.0000)], [Var(v=-0.0844, grad=0.0000), Var(v=0.0350, grad=0.0000), Var(v=-0.0121, grad=-0.3777), Var(v=-0.1298, grad=0.7962), Var(v=0.0705, grad=-0.7553), Var(v=0.0816, grad=0.0000), Var(v=0.0794, grad=-0.0293), Var(v=-0.0142, grad=0.2059), Var(v=0.0779, grad=0.0000), Var(v=-0.0620, grad=0.0000), Var(v=-0.0393, grad=-0.0631), Var(v=-0.0299, grad=0.0000), Var(v=-0.0219, grad=0.0000), Var(v=0.1648, grad=0.0000), Var(v=0.1580, grad=1.0518), Var(v=-0.0459, grad=0.0000), Var(v=-0.0110, grad=-0.9180), Var(v=-0.0834, grad=0.0000), Var(v=0.1286, grad=0.0158), Var(v=0.0313, grad=0.0000), Var(v=-0.1965, grad=-0.0954), Var(v=-0.1975, grad=0.1871), Var(v=0.0474, grad=0.5293), Var(v=-0.0642, grad=0.0000), Var(v=-0.0966, grad=-0.0311), Var(v=0.0262, grad=0.0000), Var(v=-0.0231, grad=-0.2454), Var(v=-0.1034, grad=0.0000), Var(v=-0.1433, grad=0.0000), Var(v=-0.1197, grad=0.0000), Var(v=-0.1761, grad=0.0000), Var(v=-0.0924, grad=0.0000), Var(v=0.0258, grad=0.0000), Var(v=-0.0807, grad=-0.2967), Var(v=-0.0285, grad=0.8025), Var(v=-0.0164, grad=0.0897), Var(v=0.3146, grad=0.4280), Var(v=-0.0588, grad=0.0000), Var(v=0.1331, grad=-0.0781), Var(v=0.0618, grad=0.0000), Var(v=0.1028, grad=0.0000), Var(v=0.0857, grad=0.8651), Var(v=-0.1035, grad=0.0000), Var(v=-0.0802, grad=-0.8285), Var(v=-0.2269, grad=-1.2818), Var(v=-0.0699, grad=0.0005), Var(v=-0.0233, grad=-1.1323), Var(v=0.0053, grad=0.1498), Var(v=-0.1045, grad=0.3988), Var(v=-0.0669, grad=0.0000)], [Var(v=0.0165, grad=0.1845), Var(v=-0.0418, grad=0.0000), Var(v=0.0331, grad=0.2656), Var(v=-0.0848, grad=0.0000), Var(v=-0.1505, grad=0.5311), Var(v=-0.1061, grad=0.0000), Var(v=0.0300, grad=0.0000), Var(v=0.0824, grad=-0.1448), Var(v=-0.0136, grad=0.0000), Var(v=0.0581, grad=0.0000), Var(v=-0.0283, grad=0.0444), Var(v=0.1004, grad=0.0000), Var(v=-0.0761, grad=0.0000), Var(v=0.0673, grad=0.0000), Var(v=-0.0532, grad=0.0000), Var(v=-0.0791, grad=0.0000), Var(v=-0.0098, grad=0.6456), Var(v=0.1201, grad=-0.1045), Var(v=0.0440, grad=0.0000), Var(v=-0.0159, grad=0.6251), Var(v=0.1184, grad=0.0000), Var(v=0.0571, grad=-0.1316), Var(v=-0.0161, grad=-0.3723), Var(v=0.0359, grad=0.0000), Var(v=-0.1294, grad=0.0000), Var(v=-0.2920, grad=0.3287), Var(v=-0.1023, grad=0.0000), Var(v=0.0237, grad=-0.0663), Var(v=-0.0156, grad=0.1455), Var(v=-0.1335, grad=0.3765), Var(v=-0.0675, grad=0.0000), Var(v=0.2229, grad=-0.2476), Var(v=-0.0546, grad=0.0000), Var(v=-0.0053, grad=0.2087), Var(v=0.1860, grad=0.0000), Var(v=-0.0261, grad=-0.0631), Var(v=0.1436, grad=-0.3010), Var(v=-0.0075, grad=-0.0562), Var(v=-0.1256, grad=0.0000), Var(v=-0.0398, grad=0.0000), Var(v=-0.1035, grad=-0.1184), Var(v=-0.0274, grad=0.0000), Var(v=0.0126, grad=0.2116), Var(v=-0.0530, grad=0.0000), Var(v=-0.0595, grad=0.9014), Var(v=-0.0338, grad=-0.0004), Var(v=-0.0785, grad=0.0000), Var(v=-0.1446, grad=0.0000), Var(v=0.0694, grad=-0.2805), Var(v=0.0891, grad=0.4070)], [Var(v=0.0140, grad=0.0000), Var(v=-0.1512, grad=0.0000), Var(v=0.0455, grad=-1.5500), Var(v=-0.0043, grad=3.2674), Var(v=0.3335, grad=-3.0996), Var(v=-0.3240, grad=0.0000), Var(v=-0.0119, grad=-0.1202), Var(v=0.1133, grad=0.8451), Var(v=-0.0508, grad=0.0000), Var(v=-0.0276, grad=0.0000), Var(v=0.1624, grad=-0.2591), Var(v=-0.0811, grad=0.0000), Var(v=0.1080, grad=0.0000), Var(v=0.0833, grad=0.0000), Var(v=-0.0674, grad=4.3163), Var(v=-0.0494, grad=0.0000), Var(v=-0.0102, grad=-3.7674), Var(v=-0.0108, grad=0.0000), Var(v=0.0939, grad=0.0650), Var(v=0.0277, grad=0.0000), Var(v=0.0865, grad=-0.3915), Var(v=0.0669, grad=0.7678), Var(v=0.1973, grad=2.1723), Var(v=-0.1384, grad=0.0000), Var(v=0.1289, grad=-0.1275), Var(v=0.0459, grad=0.0000), Var(v=0.0848, grad=-1.0070), Var(v=0.0878, grad=0.0000), Var(v=-0.0466, grad=0.0000), Var(v=-0.0838, grad=0.0000), Var(v=-0.0839, grad=0.0000), Var(v=-0.1165, grad=0.0000), Var(v=0.1708, grad=0.0000), Var(v=0.0413, grad=-1.2177), Var(v=0.0609, grad=3.2934), Var(v=0.0525, grad=0.3682), Var(v=-0.0160, grad=1.7563), Var(v=-0.0401, grad=0.0000), Var(v=0.1048, grad=-0.3205), Var(v=-0.1464, grad=0.0000), Var(v=-0.0926, grad=0.0000), Var(v=-0.0511, grad=3.5502), Var(v=-0.0794, grad=0.0000), Var(v=0.1227, grad=-3.4001), Var(v=0.2821, grad=-5.2604), Var(v=-0.0194, grad=0.0020), Var(v=-0.0083, grad=-4.6467), Var(v=-0.0294, grad=0.6147), Var(v=0.0635, grad=1.6367), Var(v=0.0019, grad=0.0000)], [Var(v=-0.1199, grad=0.0000), Var(v=-0.0351, grad=0.0000), Var(v=-0.0742, grad=-0.5745), Var(v=0.1653, grad=1.2111), Var(v=0.0077, grad=-1.1489), Var(v=-0.0555, grad=0.0000), Var(v=0.0672, grad=-0.0446), Var(v=-0.2823, grad=0.3132), Var(v=-0.0258, grad=0.0000), Var(v=-0.0365, grad=0.0000), Var(v=0.0385, grad=-0.0960), Var(v=-0.0586, grad=0.0000), Var(v=-0.0834, grad=0.0000), Var(v=-0.0386, grad=0.0000), Var(v=-0.0650, grad=1.5999), Var(v=0.0348, grad=0.0000), Var(v=0.0084, grad=-1.3964), Var(v=-0.1666, grad=0.0000), Var(v=-0.1277, grad=0.0241), Var(v=-0.0922, grad=0.0000), Var(v=0.1504, grad=-0.1451), Var(v=-0.0069, grad=0.2846), Var(v=0.0477, grad=0.8052), Var(v=-0.0605, grad=0.0000), Var(v=-0.0356, grad=-0.0473), Var(v=0.1553, grad=0.0000), Var(v=-0.0595, grad=-0.3732), Var(v=-0.2406, grad=0.0000), Var(v=0.0478, grad=0.0000), Var(v=-0.0393, grad=0.0000), Var(v=0.2680, grad=0.0000), Var(v=0.0560, grad=0.0000), Var(v=0.0579, grad=0.0000), Var(v=0.0162, grad=-0.4514), Var(v=0.0093, grad=1.2208), Var(v=0.0242, grad=0.1365), Var(v=-0.1643, grad=0.6510), Var(v=0.1112, grad=0.0000), Var(v=0.1715, grad=-0.1188), Var(v=-0.1983, grad=0.0000), Var(v=0.0070, grad=0.0000), Var(v=-0.0310, grad=1.3159), Var(v=0.0288, grad=0.0000), Var(v=0.1713, grad=-1.2603), Var(v=0.0438, grad=-1.9498), Var(v=0.0699, grad=0.0008), Var(v=0.0746, grad=-1.7224), Var(v=0.0261, grad=0.2278), Var(v=0.0974, grad=0.6067), Var(v=0.0392, grad=0.0000)], [Var(v=0.0415, grad=0.0000), Var(v=0.0920, grad=0.0000), Var(v=-0.1599, grad=-0.3572), Var(v=0.1725, grad=0.7530), Var(v=-0.0843, grad=-0.7143), Var(v=-0.0038, grad=0.0000), Var(v=-0.0499, grad=-0.0277), Var(v=-0.1812, grad=0.1948), Var(v=-0.1069, grad=0.0000), Var(v=-0.0402, grad=0.0000), Var(v=-0.0591, grad=-0.0597), Var(v=-0.0739, grad=0.0000), Var(v=0.0331, grad=0.0000), Var(v=-0.1249, grad=0.0000), Var(v=0.1481, grad=0.9947), Var(v=-0.0064, grad=0.0000), Var(v=-0.0169, grad=-0.8682), Var(v=-0.0088, grad=0.0000), Var(v=0.2257, grad=0.0150), Var(v=0.0237, grad=0.0000), Var(v=-0.0590, grad=-0.0902), Var(v=-0.0199, grad=0.1769), Var(v=0.1049, grad=0.5006), Var(v=-0.0720, grad=0.0000), Var(v=0.0152, grad=-0.0294), Var(v=-0.1002, grad=0.0000), Var(v=-0.1273, grad=-0.2321), Var(v=-0.2364, grad=0.0000), Var(v=-0.1446, grad=0.0000), Var(v=-0.1055, grad=0.0000), Var(v=0.0122, grad=0.0000), Var(v=0.0364, grad=0.0000), Var(v=-0.0042, grad=0.0000), Var(v=0.0034, grad=-0.2806), Var(v=-0.0076, grad=0.7590), Var(v=0.1573, grad=0.0849), Var(v=0.0640, grad=0.4048), Var(v=0.0406, grad=0.0000), Var(v=0.1388, grad=-0.0739), Var(v=0.0391, grad=0.0000), Var(v=0.0826, grad=0.0000), Var(v=0.1696, grad=0.8182), Var(v=0.0253, grad=0.0000), Var(v=0.0639, grad=-0.7836), Var(v=-0.0861, grad=-1.2123), Var(v=0.0757, grad=0.0005), Var(v=-0.0390, grad=-1.0709), Var(v=0.1372, grad=0.1417), Var(v=-0.0325, grad=0.3772), Var(v=0.2087, grad=0.0000)], [Var(v=0.0665, grad=0.3261), Var(v=-0.0838, grad=0.0000), Var(v=0.0248, grad=0.4694), Var(v=-0.0481, grad=0.0000), Var(v=-0.0843, grad=0.9388), Var(v=-0.1098, grad=0.0000), Var(v=0.0565, grad=0.0000), Var(v=0.1221, grad=-0.2559), Var(v=0.0106, grad=0.0000), Var(v=-0.0437, grad=0.0000), Var(v=-0.1704, grad=0.0785), Var(v=-0.0090, grad=0.0000), Var(v=-0.0942, grad=0.0000), Var(v=-0.1002, grad=0.0000), Var(v=0.0226, grad=0.0000), Var(v=0.0384, grad=0.0000), Var(v=-0.0306, grad=1.1410), Var(v=0.0524, grad=-0.1848), Var(v=0.0827, grad=0.0000), Var(v=-0.0957, grad=1.1049), Var(v=-0.0004, grad=0.0000), Var(v=0.1243, grad=-0.2325), Var(v=-0.0115, grad=-0.6579), Var(v=-0.0278, grad=0.0000), Var(v=0.0200, grad=0.0000), Var(v=-0.0346, grad=0.5810), Var(v=-0.0037, grad=0.0000), Var(v=0.0895, grad=-0.1171), Var(v=-0.0387, grad=0.2571), Var(v=-0.0758, grad=0.6655), Var(v=-0.2852, grad=0.0000), Var(v=-0.0328, grad=-0.4377), Var(v=0.0045, grad=0.0000), Var(v=-0.0139, grad=0.3688), Var(v=-0.0428, grad=0.0000), Var(v=0.1514, grad=-0.1115), Var(v=0.1152, grad=-0.5319), Var(v=-0.0215, grad=-0.0993), Var(v=0.0437, grad=0.0000), Var(v=0.0050, grad=0.0000), Var(v=-0.0334, grad=-0.2093), Var(v=0.0092, grad=0.0000), Var(v=0.1821, grad=0.3740), Var(v=-0.1009, grad=0.0000), Var(v=-0.0460, grad=1.5932), Var(v=-0.0177, grad=-0.0006), Var(v=-0.1661, grad=0.0000), Var(v=0.1469, grad=0.0000), Var(v=-0.0854, grad=-0.4957), Var(v=0.0363, grad=0.7193)]] Biases: [Var(v=0.0000, grad=4.2661), Var(v=0.0000, grad=0.0000), Var(v=0.0000, grad=0.2327), Var(v=0.0000, grad=12.4569), Var(v=0.0000, grad=0.4654), Var(v=0.0000, grad=0.0000), Var(v=0.0000, grad=-0.4584), Var(v=0.0000, grad=-0.1269), Var(v=0.0000, grad=0.0000), Var(v=0.0000, grad=0.0000), Var(v=0.0000, grad=0.0389), Var(v=0.0000, grad=0.0000), Var(v=0.0000, grad=0.0000), Var(v=0.0000, grad=0.0000), Var(v=0.0000, grad=16.4558), Var(v=0.0000, grad=0.0000), Var(v=0.0000, grad=0.5657), Var(v=0.0000, grad=-2.4176), Var(v=0.0000, grad=0.2477), Var(v=0.0000, grad=14.4554), Var(v=0.0000, grad=-1.4924), Var(v=0.0000, grad=-0.1153), Var(v=0.0000, grad=-0.3262), Var(v=0.0000, grad=0.0000), Var(v=0.0000, grad=-0.4860), Var(v=0.0000, grad=7.6009), Var(v=0.0000, grad=-3.8390), Var(v=0.0000, grad=-1.5320), Var(v=0.0000, grad=3.3636), Var(v=0.0000, grad=8.7070), Var(v=0.0000, grad=0.0000), Var(v=0.0000, grad=-5.7262), Var(v=0.0000, grad=0.0000), Var(v=0.0000, grad=0.1828), Var(v=0.0000, grad=12.5560), Var(v=0.0000, grad=-0.0553), Var(v=0.0000, grad=-0.2637), Var(v=0.0000, grad=-1.2993), Var(v=0.0000, grad=-1.2219), Var(v=0.0000, grad=0.0000), Var(v=0.0000, grad=-2.7380), Var(v=0.0000, grad=13.5349), Var(v=0.0000, grad=4.8935), Var(v=0.0000, grad=-12.9627), Var(v=0.0000, grad=0.7898), Var(v=0.0000, grad=-0.0003), Var(v=0.0000, grad=-17.7152), Var(v=0.0000, grad=2.3433), Var(v=0.0000, grad=-0.2458), Var(v=0.0000, grad=9.4106)]\n",
      "Layer 2 \n",
      " Weights: [[Var(v=-0.0489, grad=-1.7322)], [Var(v=0.1007, grad=0.0000)], [Var(v=-0.0704, grad=0.2961)], [Var(v=0.1484, grad=1.3475)], [Var(v=-0.1408, grad=7.9540)], [Var(v=0.1771, grad=0.0000)], [Var(v=-0.0055, grad=1.8428)], [Var(v=0.0384, grad=0.9910)], [Var(v=0.1856, grad=0.0000)], [Var(v=-0.1578, grad=0.0000)], [Var(v=-0.0118, grad=2.5457)], [Var(v=0.1557, grad=0.0000)], [Var(v=-0.0649, grad=0.0000)], [Var(v=-0.0841, grad=0.0000)], [Var(v=0.1961, grad=0.8975)], [Var(v=0.1036, grad=0.0000)], [Var(v=-0.1711, grad=-1.7331)], [Var(v=0.0277, grad=-0.3083)], [Var(v=0.0030, grad=3.4601)], [Var(v=-0.1657, grad=-0.0967)], [Var(v=-0.0178, grad=1.7848)], [Var(v=0.0349, grad=-1.4401)], [Var(v=0.0987, grad=6.6851)], [Var(v=0.0611, grad=0.0000)], [Var(v=-0.0058, grad=1.1794)], [Var(v=-0.0871, grad=-3.1931)], [Var(v=-0.0457, grad=2.1625)], [Var(v=0.0176, grad=-5.5788)], [Var(v=-0.0386, grad=-0.7440)], [Var(v=-0.0998, grad=-0.3566)], [Var(v=-0.0589, grad=0.0000)], [Var(v=0.0656, grad=-2.7858)], [Var(v=0.0862, grad=0.0000)], [Var(v=-0.0553, grad=1.3797)], [Var(v=0.1496, grad=1.1235)], [Var(v=0.0167, grad=-0.8987)], [Var(v=0.0798, grad=-0.1016)], [Var(v=0.0149, grad=-0.3931)], [Var(v=-0.0146, grad=6.4439)], [Var(v=0.1941, grad=0.0000)], [Var(v=0.0314, grad=-0.1240)], [Var(v=0.1613, grad=0.0259)], [Var(v=-0.0561, grad=-0.2199)], [Var(v=-0.1544, grad=3.5616)], [Var(v=-0.2389, grad=6.5537)], [Var(v=0.0001, grad=0.7552)], [Var(v=-0.2111, grad=0.0832)], [Var(v=0.0279, grad=2.2482)], [Var(v=0.0743, grad=-0.6538)], [Var(v=-0.1079, grad=-4.6886)]] Biases: [Var(v=0.0000, grad=-3.3056)]\n",
      "\n",
      "Network after update:\n",
      "Layer 0 \n",
      " Weights: [[Var(v=0.0524, grad=-6.9092), Var(v=-0.0233, grad=-3.0271), Var(v=0.0366, grad=9.3083), Var(v=0.1534, grad=1.2138), Var(v=-0.1434, grad=-0.8636), Var(v=-0.1671, grad=8.6121), Var(v=0.0983, grad=0.7802), Var(v=0.0740, grad=2.9240), Var(v=-0.1200, grad=9.0527), Var(v=0.0496, grad=-10.4893), Var(v=0.1386, grad=-10.0789), Var(v=-0.3510, grad=12.4097), Var(v=-0.1396, grad=5.5501), Var(v=0.0873, grad=-13.9605), Var(v=0.1191, grad=-5.2299)]] Biases: [Var(v=-0.0598, grad=5.9770), Var(v=-0.0262, grad=2.6187), Var(v=-0.0814, grad=8.1393), Var(v=-0.0106, grad=1.0614), Var(v=-0.0075, grad=0.7470), Var(v=0.0745, grad=-7.4501), Var(v=-0.0068, grad=0.6822), Var(v=-0.0256, grad=2.5568), Var(v=0.0783, grad=-7.8313), Var(v=-0.0907, grad=9.0740), Var(v=0.0881, grad=-8.8132), Var(v=0.1074, grad=-10.7353), Var(v=0.0480, grad=-4.8013), Var(v=-0.1208, grad=12.0768), Var(v=0.0457, grad=-4.5731)]\n",
      "Layer 1 \n",
      " Weights: [[Var(v=-0.1184, grad=0.0000), Var(v=0.0507, grad=0.0000), Var(v=-0.0476, grad=-0.1138), Var(v=0.0802, grad=0.2398), Var(v=-0.0875, grad=-0.2275), Var(v=0.0552, grad=0.0000), Var(v=0.0843, grad=-0.0088), Var(v=0.0557, grad=0.0620), Var(v=-0.0237, grad=0.0000), Var(v=-0.0722, grad=0.0000), Var(v=-0.0122, grad=-0.0190), Var(v=-0.1791, grad=0.0000), Var(v=0.0617, grad=0.0000), Var(v=-0.1487, grad=0.0000), Var(v=0.1619, grad=0.3168), Var(v=-0.1580, grad=0.0000), Var(v=-0.0369, grad=-0.2765), Var(v=0.1866, grad=0.0000), Var(v=-0.0172, grad=0.0048), Var(v=-0.0639, grad=0.0000), Var(v=-0.0427, grad=-0.0287), Var(v=-0.0893, grad=0.0564), Var(v=0.0095, grad=0.1594), Var(v=-0.0337, grad=0.0000), Var(v=0.1777, grad=-0.0094), Var(v=-0.1394, grad=0.0000), Var(v=0.1289, grad=-0.0739), Var(v=-0.0780, grad=0.0000), Var(v=-0.0394, grad=0.0000), Var(v=-0.0075, grad=0.0000), Var(v=0.0861, grad=0.0000), Var(v=-0.0860, grad=0.0000), Var(v=0.0431, grad=0.0000), Var(v=-0.0052, grad=-0.0894), Var(v=-0.1486, grad=0.2417), Var(v=-0.1142, grad=0.0270), Var(v=0.0349, grad=0.1289), Var(v=0.0692, grad=0.0000), Var(v=-0.1706, grad=-0.0235), Var(v=0.1596, grad=0.0000), Var(v=0.0077, grad=0.0000), Var(v=0.0184, grad=0.2606), Var(v=0.0955, grad=0.0000), Var(v=-0.0997, grad=-0.2495), Var(v=-0.1171, grad=-0.3861), Var(v=0.0364, grad=0.0001), Var(v=0.1381, grad=-0.3410), Var(v=0.0125, grad=0.0451), Var(v=0.1081, grad=0.1201), Var(v=-0.0714, grad=0.0000)], [Var(v=-0.0298, grad=0.0000), Var(v=-0.0217, grad=0.0000), Var(v=0.0728, grad=-0.3660), Var(v=0.1414, grad=0.7716), Var(v=0.1626, grad=-0.7320), Var(v=-0.0290, grad=0.0000), Var(v=0.0125, grad=-0.0284), Var(v=-0.0663, grad=0.1996), Var(v=-0.0435, grad=0.0000), Var(v=0.1292, grad=0.0000), Var(v=0.0313, grad=-0.0612), Var(v=-0.1091, grad=0.0000), Var(v=-0.1469, grad=0.0000), Var(v=-0.0936, grad=0.0000), Var(v=0.0283, grad=1.0193), Var(v=0.2429, grad=0.0000), Var(v=0.0189, grad=-0.8897), Var(v=0.0769, grad=0.0000), Var(v=-0.0018, grad=0.0153), Var(v=-0.0345, grad=0.0000), Var(v=-0.0792, grad=-0.0924), Var(v=-0.0551, grad=0.1813), Var(v=-0.0381, grad=0.5130), Var(v=-0.0039, grad=0.0000), Var(v=0.0045, grad=-0.0301), Var(v=0.0047, grad=0.0000), Var(v=-0.1600, grad=-0.2378), Var(v=-0.1546, grad=0.0000), Var(v=-0.0220, grad=0.0000), Var(v=-0.1222, grad=0.0000), Var(v=-0.0346, grad=0.0000), Var(v=0.0313, grad=0.0000), Var(v=-0.2027, grad=0.0000), Var(v=-0.0613, grad=-0.2876), Var(v=0.0184, grad=0.7778), Var(v=0.0263, grad=0.0870), Var(v=0.0762, grad=0.4148), Var(v=0.0841, grad=0.0000), Var(v=0.0162, grad=-0.0757), Var(v=0.0199, grad=0.0000), Var(v=0.1157, grad=0.0000), Var(v=0.0529, grad=0.8384), Var(v=0.1217, grad=0.0000), Var(v=0.0876, grad=-0.8030), Var(v=0.0894, grad=-1.2423), Var(v=0.0473, grad=0.0005), Var(v=-0.1401, grad=-1.0974), Var(v=0.1552, grad=0.1452), Var(v=-0.0095, grad=0.3865), Var(v=0.0680, grad=0.0000)], [Var(v=-0.0036, grad=0.6328), Var(v=0.0324, grad=0.0000), Var(v=0.0143, grad=0.9110), Var(v=0.0352, grad=0.0000), Var(v=0.0431, grad=1.8218), Var(v=0.0961, grad=0.0000), Var(v=0.0243, grad=0.0000), Var(v=-0.0986, grad=-0.4967), Var(v=-0.0651, grad=0.0000), Var(v=0.0592, grad=0.0000), Var(v=0.1440, grad=0.1523), Var(v=-0.0570, grad=0.0000), Var(v=-0.1564, grad=0.0000), Var(v=0.1077, grad=0.0000), Var(v=-0.0970, grad=0.0000), Var(v=0.0364, grad=0.0000), Var(v=0.2473, grad=2.2143), Var(v=-0.1538, grad=-0.3586), Var(v=-0.0179, grad=0.0000), Var(v=0.1050, grad=2.1441), Var(v=0.0050, grad=0.0000), Var(v=0.0092, grad=-0.4513), Var(v=0.0996, grad=-1.2768), Var(v=-0.0586, grad=0.0000), Var(v=-0.0119, grad=0.0000), Var(v=0.1154, grad=1.1274), Var(v=0.0345, grad=0.0000), Var(v=0.0662, grad=-0.2272), Var(v=0.0209, grad=0.4989), Var(v=-0.0339, grad=1.2915), Var(v=0.0497, grad=0.0000), Var(v=0.0044, grad=-0.8493), Var(v=-0.0609, grad=0.0000), Var(v=-0.1227, grad=0.7157), Var(v=-0.0914, grad=0.0000), Var(v=0.1577, grad=-0.2164), Var(v=0.0012, grad=-1.0323), Var(v=0.0559, grad=-0.1927), Var(v=0.0287, grad=0.0000), Var(v=0.0853, grad=0.0000), Var(v=0.0578, grad=-0.4061), Var(v=0.0836, grad=0.0000), Var(v=-0.0810, grad=0.7258), Var(v=-0.1149, grad=0.0000), Var(v=-0.0822, grad=3.0918), Var(v=0.0454, grad=-0.0012), Var(v=0.0785, grad=0.0000), Var(v=-0.0953, grad=0.0000), Var(v=-0.0447, grad=-0.9620), Var(v=0.2507, grad=1.3958)], [Var(v=0.1419, grad=0.8077), Var(v=0.0002, grad=0.0000), Var(v=-0.0011, grad=1.1628), Var(v=-0.1834, grad=0.0000), Var(v=0.0114, grad=2.3253), Var(v=-0.1779, grad=0.0000), Var(v=0.0049, grad=0.0000), Var(v=0.0152, grad=-0.6340), Var(v=0.0409, grad=0.0000), Var(v=0.0522, grad=0.0000), Var(v=-0.0904, grad=0.1944), Var(v=-0.0674, grad=0.0000), Var(v=-0.0573, grad=0.0000), Var(v=-0.0572, grad=0.0000), Var(v=0.0293, grad=0.0000), Var(v=-0.1301, grad=0.0000), Var(v=-0.1536, grad=2.8263), Var(v=0.0161, grad=-0.4577), Var(v=0.0357, grad=0.0000), Var(v=-0.0217, grad=2.7367), Var(v=-0.0311, grad=0.0000), Var(v=0.1322, grad=-0.5760), Var(v=-0.1309, grad=-1.6297), Var(v=-0.0701, grad=0.0000), Var(v=-0.1165, grad=0.0000), Var(v=-0.0187, grad=1.4390), Var(v=-0.0326, grad=0.0000), Var(v=0.1673, grad=-0.2900), Var(v=-0.0171, grad=0.6368), Var(v=0.0187, grad=1.6484), Var(v=-0.0315, grad=0.0000), Var(v=0.1726, grad=-1.0841), Var(v=-0.0848, grad=0.0000), Var(v=0.0663, grad=0.9135), Var(v=-0.0084, grad=0.0000), Var(v=-0.0311, grad=-0.2762), Var(v=-0.1309, grad=-1.3176), Var(v=0.0835, grad=-0.2460), Var(v=-0.0174, grad=0.0000), Var(v=0.0433, grad=0.0000), Var(v=0.0213, grad=-0.5184), Var(v=-0.0708, grad=0.0000), Var(v=-0.0218, grad=0.9264), Var(v=0.0043, grad=0.0000), Var(v=0.0306, grad=3.9463), Var(v=-0.0050, grad=-0.0015), Var(v=-0.0167, grad=0.0000), Var(v=-0.0188, grad=0.0000), Var(v=0.1431, grad=-1.2279), Var(v=-0.0063, grad=1.7816)], [Var(v=-0.0635, grad=0.0000), Var(v=0.1718, grad=0.0000), Var(v=0.1428, grad=-1.0382), Var(v=-0.0315, grad=2.1887), Var(v=0.0610, grad=-2.0762), Var(v=-0.0806, grad=0.0000), Var(v=0.0416, grad=-0.0805), Var(v=0.2111, grad=0.5661), Var(v=-0.0532, grad=0.0000), Var(v=-0.1285, grad=0.0000), Var(v=0.0073, grad=-0.1736), Var(v=0.1208, grad=0.0000), Var(v=-0.0592, grad=0.0000), Var(v=-0.1511, grad=0.0000), Var(v=0.0731, grad=2.8912), Var(v=-0.0012, grad=0.0000), Var(v=-0.0187, grad=-2.5235), Var(v=0.0570, grad=0.0000), Var(v=-0.0950, grad=0.0435), Var(v=-0.0210, grad=0.0000), Var(v=0.0602, grad=-0.2622), Var(v=0.1221, grad=0.5143), Var(v=0.1116, grad=1.4551), Var(v=-0.1453, grad=0.0000), Var(v=-0.0252, grad=-0.0854), Var(v=0.0040, grad=0.0000), Var(v=0.0562, grad=-0.6745), Var(v=0.0889, grad=0.0000), Var(v=-0.1226, grad=0.0000), Var(v=0.0782, grad=0.0000), Var(v=-0.0638, grad=0.0000), Var(v=0.1524, grad=0.0000), Var(v=-0.2220, grad=0.0000), Var(v=0.2091, grad=-0.8157), Var(v=0.0183, grad=2.2061), Var(v=-0.0398, grad=0.2467), Var(v=0.0312, grad=1.1764), Var(v=-0.0824, grad=0.0000), Var(v=0.0763, grad=-0.2147), Var(v=0.0321, grad=0.0000), Var(v=-0.1422, grad=0.0000), Var(v=0.0128, grad=2.3780), Var(v=0.0371, grad=0.0000), Var(v=-0.0620, grad=-2.2775), Var(v=0.2002, grad=-3.5236), Var(v=0.2036, grad=0.0014), Var(v=0.0119, grad=-3.1125), Var(v=0.1162, grad=0.4117), Var(v=-0.1101, grad=1.0963), Var(v=-0.1265, grad=0.0000)], [Var(v=0.1190, grad=0.0000), Var(v=-0.0890, grad=0.0000), Var(v=-0.0735, grad=-0.5533), Var(v=-0.1604, grad=1.1663), Var(v=0.1793, grad=-1.1064), Var(v=-0.0759, grad=0.0000), Var(v=0.0029, grad=-0.0429), Var(v=-0.0471, grad=0.3016), Var(v=-0.1670, grad=0.0000), Var(v=-0.0554, grad=0.0000), Var(v=-0.0720, grad=-0.0925), Var(v=-0.1709, grad=0.0000), Var(v=-0.1908, grad=0.0000), Var(v=0.0027, grad=0.0000), Var(v=-0.1015, grad=1.5407), Var(v=-0.1314, grad=0.0000), Var(v=0.1677, grad=-1.3447), Var(v=-0.0804, grad=0.0000), Var(v=0.2420, grad=0.0232), Var(v=-0.0148, grad=0.0000), Var(v=-0.0720, grad=-0.1397), Var(v=-0.0035, grad=0.2741), Var(v=0.0428, grad=0.7754), Var(v=-0.1300, grad=0.0000), Var(v=-0.1098, grad=-0.0455), Var(v=-0.2366, grad=0.0000), Var(v=0.1393, grad=-0.3594), Var(v=0.0060, grad=0.0000), Var(v=0.0393, grad=0.0000), Var(v=0.1005, grad=0.0000), Var(v=-0.1412, grad=0.0000), Var(v=-0.0685, grad=0.0000), Var(v=-0.0388, grad=0.0000), Var(v=0.0789, grad=-0.4347), Var(v=-0.0762, grad=1.1755), Var(v=0.0863, grad=0.1314), Var(v=0.0290, grad=0.6269), Var(v=-0.1559, grad=0.0000), Var(v=0.0352, grad=-0.1144), Var(v=0.0754, grad=0.0000), Var(v=-0.1110, grad=0.0000), Var(v=-0.0549, grad=1.2672), Var(v=0.1405, grad=0.0000), Var(v=0.0414, grad=-1.2136), Var(v=-0.0905, grad=-1.8776), Var(v=-0.1410, grad=0.0007), Var(v=0.0924, grad=-1.6586), Var(v=-0.0564, grad=0.2194), Var(v=0.0866, grad=0.5842), Var(v=-0.0639, grad=0.0000)], [Var(v=-0.0168, grad=0.5179), Var(v=-0.0700, grad=0.0000), Var(v=-0.0289, grad=0.7456), Var(v=-0.0612, grad=0.0000), Var(v=0.1710, grad=1.4910), Var(v=0.2588, grad=0.0000), Var(v=-0.0601, grad=0.0000), Var(v=0.0112, grad=-0.4065), Var(v=-0.0300, grad=0.0000), Var(v=-0.1814, grad=0.0000), Var(v=0.0148, grad=0.1246), Var(v=0.0482, grad=0.0000), Var(v=0.0064, grad=0.0000), Var(v=0.0775, grad=0.0000), Var(v=0.0651, grad=0.0000), Var(v=-0.2171, grad=0.0000), Var(v=-0.0332, grad=1.8122), Var(v=0.0365, grad=-0.2935), Var(v=-0.1741, grad=0.0000), Var(v=-0.0787, grad=1.7548), Var(v=-0.0841, grad=0.0000), Var(v=-0.0943, grad=-0.3693), Var(v=0.1280, grad=-1.0450), Var(v=-0.0105, grad=0.0000), Var(v=-0.0045, grad=0.0000), Var(v=0.0992, grad=0.9227), Var(v=-0.0271, grad=0.0000), Var(v=-0.0370, grad=-0.1860), Var(v=0.1060, grad=0.4083), Var(v=0.0845, grad=1.0570), Var(v=-0.0690, grad=0.0000), Var(v=-0.0521, grad=-0.6951), Var(v=0.0276, grad=0.0000), Var(v=0.0961, grad=0.5858), Var(v=0.1141, grad=0.0000), Var(v=0.0217, grad=-0.1771), Var(v=0.1210, grad=-0.8448), Var(v=0.0983, grad=-0.1577), Var(v=-0.1576, grad=0.0000), Var(v=0.0383, grad=0.0000), Var(v=-0.0900, grad=-0.3324), Var(v=-0.1119, grad=0.0000), Var(v=-0.0585, grad=0.5940), Var(v=-0.1652, grad=0.0000), Var(v=-0.1288, grad=2.5304), Var(v=-0.1495, grad=-0.0010), Var(v=0.1124, grad=0.0000), Var(v=-0.1581, grad=0.0000), Var(v=0.0212, grad=-0.7873), Var(v=0.0695, grad=1.1424)], [Var(v=-0.1179, grad=0.5036), Var(v=-0.0239, grad=0.0000), Var(v=-0.0185, grad=0.7251), Var(v=-0.0546, grad=0.0000), Var(v=-0.0063, grad=1.4500), Var(v=-0.0641, grad=0.0000), Var(v=-0.1298, grad=0.0000), Var(v=0.0544, grad=-0.3953), Var(v=-0.0434, grad=0.0000), Var(v=-0.0285, grad=0.0000), Var(v=0.1389, grad=0.1212), Var(v=-0.1487, grad=0.0000), Var(v=0.0925, grad=0.0000), Var(v=-0.1335, grad=0.0000), Var(v=-0.1207, grad=0.0000), Var(v=-0.1455, grad=0.0000), Var(v=0.0824, grad=1.7624), Var(v=0.0997, grad=-0.2854), Var(v=0.0456, grad=0.0000), Var(v=-0.0450, grad=1.7066), Var(v=0.0588, grad=0.0000), Var(v=0.0987, grad=-0.3592), Var(v=0.0987, grad=-1.0162), Var(v=0.0430, grad=0.0000), Var(v=0.1704, grad=0.0000), Var(v=0.1668, grad=0.8973), Var(v=0.0682, grad=0.0000), Var(v=0.1728, grad=-0.1809), Var(v=-0.0295, grad=0.3971), Var(v=-0.0054, grad=1.0279), Var(v=0.0959, grad=0.0000), Var(v=0.0234, grad=-0.6760), Var(v=0.0049, grad=0.0000), Var(v=0.1524, grad=0.5697), Var(v=-0.2022, grad=0.0000), Var(v=0.0955, grad=-0.1723), Var(v=0.1441, grad=-0.8216), Var(v=-0.2409, grad=-0.1534), Var(v=0.0861, grad=0.0000), Var(v=-0.2361, grad=0.0000), Var(v=0.0774, grad=-0.3232), Var(v=-0.1405, grad=0.0000), Var(v=0.0599, grad=0.5777), Var(v=-0.0568, grad=0.0000), Var(v=0.0998, grad=2.4609), Var(v=0.2849, grad=-0.0010), Var(v=-0.2115, grad=0.0000), Var(v=-0.1225, grad=0.0000), Var(v=0.0202, grad=-0.7657), Var(v=-0.0462, grad=1.1110)], [Var(v=0.0507, grad=0.0000), Var(v=-0.0024, grad=0.0000), Var(v=-0.1415, grad=-0.2012), Var(v=0.1059, grad=0.4242), Var(v=0.1122, grad=-0.4024), Var(v=0.2218, grad=0.0000), Var(v=0.1973, grad=-0.0156), Var(v=-0.1007, grad=0.1097), Var(v=0.1372, grad=0.0000), Var(v=0.1446, grad=0.0000), Var(v=0.1086, grad=-0.0336), Var(v=0.1334, grad=0.0000), Var(v=0.1171, grad=0.0000), Var(v=0.0263, grad=0.0000), Var(v=0.0010, grad=0.5604), Var(v=0.0022, grad=0.0000), Var(v=0.0259, grad=-0.4891), Var(v=0.1768, grad=0.0000), Var(v=0.0444, grad=0.0084), Var(v=0.0222, grad=0.0000), Var(v=0.0777, grad=-0.0508), Var(v=-0.0044, grad=0.0997), Var(v=-0.0824, grad=0.2820), Var(v=0.1096, grad=0.0000), Var(v=0.0057, grad=-0.0166), Var(v=-0.0126, grad=0.0000), Var(v=0.1385, grad=-0.1307), Var(v=0.0196, grad=0.0000), Var(v=-0.0637, grad=0.0000), Var(v=-0.2572, grad=0.0000), Var(v=-0.0547, grad=0.0000), Var(v=0.0660, grad=0.0000), Var(v=0.0597, grad=0.0000), Var(v=-0.0359, grad=-0.1581), Var(v=-0.0361, grad=0.4276), Var(v=0.1696, grad=0.0478), Var(v=-0.1441, grad=0.2280), Var(v=-0.1638, grad=0.0000), Var(v=0.0539, grad=-0.0416), Var(v=0.1322, grad=0.0000), Var(v=-0.0068, grad=0.0000), Var(v=-0.1707, grad=0.4609), Var(v=-0.2153, grad=0.0000), Var(v=0.1236, grad=-0.4414), Var(v=0.0106, grad=-0.6830), Var(v=0.0046, grad=0.0003), Var(v=0.0884, grad=-0.6033), Var(v=-0.0798, grad=0.0798), Var(v=-0.0415, grad=0.2125), Var(v=0.0253, grad=0.0000)], [Var(v=-0.0844, grad=0.0000), Var(v=0.0350, grad=0.0000), Var(v=-0.0084, grad=-0.3777), Var(v=-0.1377, grad=0.7962), Var(v=0.0780, grad=-0.7553), Var(v=0.0816, grad=0.0000), Var(v=0.0797, grad=-0.0293), Var(v=-0.0163, grad=0.2059), Var(v=0.0779, grad=0.0000), Var(v=-0.0620, grad=0.0000), Var(v=-0.0387, grad=-0.0631), Var(v=-0.0299, grad=0.0000), Var(v=-0.0219, grad=0.0000), Var(v=0.1648, grad=0.0000), Var(v=0.1474, grad=1.0518), Var(v=-0.0459, grad=0.0000), Var(v=-0.0018, grad=-0.9180), Var(v=-0.0834, grad=0.0000), Var(v=0.1284, grad=0.0158), Var(v=0.0313, grad=0.0000), Var(v=-0.1955, grad=-0.0954), Var(v=-0.1994, grad=0.1871), Var(v=0.0421, grad=0.5293), Var(v=-0.0642, grad=0.0000), Var(v=-0.0963, grad=-0.0311), Var(v=0.0262, grad=0.0000), Var(v=-0.0206, grad=-0.2454), Var(v=-0.1034, grad=0.0000), Var(v=-0.1433, grad=0.0000), Var(v=-0.1197, grad=0.0000), Var(v=-0.1761, grad=0.0000), Var(v=-0.0924, grad=0.0000), Var(v=0.0258, grad=0.0000), Var(v=-0.0777, grad=-0.2967), Var(v=-0.0365, grad=0.8025), Var(v=-0.0173, grad=0.0897), Var(v=0.3103, grad=0.4280), Var(v=-0.0588, grad=0.0000), Var(v=0.1339, grad=-0.0781), Var(v=0.0618, grad=0.0000), Var(v=0.1028, grad=0.0000), Var(v=0.0771, grad=0.8651), Var(v=-0.1035, grad=0.0000), Var(v=-0.0719, grad=-0.8285), Var(v=-0.2141, grad=-1.2818), Var(v=-0.0700, grad=0.0005), Var(v=-0.0120, grad=-1.1323), Var(v=0.0038, grad=0.1498), Var(v=-0.1085, grad=0.3988), Var(v=-0.0669, grad=0.0000)], [Var(v=0.0147, grad=0.1845), Var(v=-0.0418, grad=0.0000), Var(v=0.0305, grad=0.2656), Var(v=-0.0848, grad=0.0000), Var(v=-0.1558, grad=0.5311), Var(v=-0.1061, grad=0.0000), Var(v=0.0300, grad=0.0000), Var(v=0.0839, grad=-0.1448), Var(v=-0.0136, grad=0.0000), Var(v=0.0581, grad=0.0000), Var(v=-0.0287, grad=0.0444), Var(v=0.1004, grad=0.0000), Var(v=-0.0761, grad=0.0000), Var(v=0.0673, grad=0.0000), Var(v=-0.0532, grad=0.0000), Var(v=-0.0791, grad=0.0000), Var(v=-0.0162, grad=0.6456), Var(v=0.1212, grad=-0.1045), Var(v=0.0440, grad=0.0000), Var(v=-0.0222, grad=0.6251), Var(v=0.1184, grad=0.0000), Var(v=0.0584, grad=-0.1316), Var(v=-0.0123, grad=-0.3723), Var(v=0.0359, grad=0.0000), Var(v=-0.1294, grad=0.0000), Var(v=-0.2953, grad=0.3287), Var(v=-0.1023, grad=0.0000), Var(v=0.0244, grad=-0.0663), Var(v=-0.0171, grad=0.1455), Var(v=-0.1373, grad=0.3765), Var(v=-0.0675, grad=0.0000), Var(v=0.2254, grad=-0.2476), Var(v=-0.0546, grad=0.0000), Var(v=-0.0074, grad=0.2087), Var(v=0.1860, grad=0.0000), Var(v=-0.0254, grad=-0.0631), Var(v=0.1466, grad=-0.3010), Var(v=-0.0070, grad=-0.0562), Var(v=-0.1256, grad=0.0000), Var(v=-0.0398, grad=0.0000), Var(v=-0.1024, grad=-0.1184), Var(v=-0.0274, grad=0.0000), Var(v=0.0105, grad=0.2116), Var(v=-0.0530, grad=0.0000), Var(v=-0.0685, grad=0.9014), Var(v=-0.0338, grad=-0.0004), Var(v=-0.0785, grad=0.0000), Var(v=-0.1446, grad=0.0000), Var(v=0.0723, grad=-0.2805), Var(v=0.0850, grad=0.4070)], [Var(v=0.0140, grad=0.0000), Var(v=-0.1512, grad=0.0000), Var(v=0.0610, grad=-1.5500), Var(v=-0.0370, grad=3.2674), Var(v=0.3645, grad=-3.0996), Var(v=-0.3240, grad=0.0000), Var(v=-0.0107, grad=-0.1202), Var(v=0.1049, grad=0.8451), Var(v=-0.0508, grad=0.0000), Var(v=-0.0276, grad=0.0000), Var(v=0.1650, grad=-0.2591), Var(v=-0.0811, grad=0.0000), Var(v=0.1080, grad=0.0000), Var(v=0.0833, grad=0.0000), Var(v=-0.1106, grad=4.3163), Var(v=-0.0494, grad=0.0000), Var(v=0.0275, grad=-3.7674), Var(v=-0.0108, grad=0.0000), Var(v=0.0932, grad=0.0650), Var(v=0.0277, grad=0.0000), Var(v=0.0904, grad=-0.3915), Var(v=0.0592, grad=0.7678), Var(v=0.1755, grad=2.1723), Var(v=-0.1384, grad=0.0000), Var(v=0.1302, grad=-0.1275), Var(v=0.0459, grad=0.0000), Var(v=0.0949, grad=-1.0070), Var(v=0.0878, grad=0.0000), Var(v=-0.0466, grad=0.0000), Var(v=-0.0838, grad=0.0000), Var(v=-0.0839, grad=0.0000), Var(v=-0.1165, grad=0.0000), Var(v=0.1708, grad=0.0000), Var(v=0.0535, grad=-1.2177), Var(v=0.0280, grad=3.2934), Var(v=0.0488, grad=0.3682), Var(v=-0.0335, grad=1.7563), Var(v=-0.0401, grad=0.0000), Var(v=0.1080, grad=-0.3205), Var(v=-0.1464, grad=0.0000), Var(v=-0.0926, grad=0.0000), Var(v=-0.0866, grad=3.5502), Var(v=-0.0794, grad=0.0000), Var(v=0.1567, grad=-3.4001), Var(v=0.3347, grad=-5.2604), Var(v=-0.0194, grad=0.0020), Var(v=0.0382, grad=-4.6467), Var(v=-0.0355, grad=0.6147), Var(v=0.0471, grad=1.6367), Var(v=0.0019, grad=0.0000)], [Var(v=-0.1199, grad=0.0000), Var(v=-0.0351, grad=0.0000), Var(v=-0.0685, grad=-0.5745), Var(v=0.1532, grad=1.2111), Var(v=0.0192, grad=-1.1489), Var(v=-0.0555, grad=0.0000), Var(v=0.0677, grad=-0.0446), Var(v=-0.2854, grad=0.3132), Var(v=-0.0258, grad=0.0000), Var(v=-0.0365, grad=0.0000), Var(v=0.0394, grad=-0.0960), Var(v=-0.0586, grad=0.0000), Var(v=-0.0834, grad=0.0000), Var(v=-0.0386, grad=0.0000), Var(v=-0.0810, grad=1.5999), Var(v=0.0348, grad=0.0000), Var(v=0.0224, grad=-1.3964), Var(v=-0.1666, grad=0.0000), Var(v=-0.1279, grad=0.0241), Var(v=-0.0922, grad=0.0000), Var(v=0.1518, grad=-0.1451), Var(v=-0.0097, grad=0.2846), Var(v=0.0397, grad=0.8052), Var(v=-0.0605, grad=0.0000), Var(v=-0.0351, grad=-0.0473), Var(v=0.1553, grad=0.0000), Var(v=-0.0558, grad=-0.3732), Var(v=-0.2406, grad=0.0000), Var(v=0.0478, grad=0.0000), Var(v=-0.0393, grad=0.0000), Var(v=0.2680, grad=0.0000), Var(v=0.0560, grad=0.0000), Var(v=0.0579, grad=0.0000), Var(v=0.0208, grad=-0.4514), Var(v=-0.0029, grad=1.2208), Var(v=0.0228, grad=0.1365), Var(v=-0.1708, grad=0.6510), Var(v=0.1112, grad=0.0000), Var(v=0.1727, grad=-0.1188), Var(v=-0.1983, grad=0.0000), Var(v=0.0070, grad=0.0000), Var(v=-0.0442, grad=1.3159), Var(v=0.0288, grad=0.0000), Var(v=0.1839, grad=-1.2603), Var(v=0.0633, grad=-1.9498), Var(v=0.0699, grad=0.0008), Var(v=0.0919, grad=-1.7224), Var(v=0.0238, grad=0.2278), Var(v=0.0914, grad=0.6067), Var(v=0.0392, grad=0.0000)], [Var(v=0.0415, grad=0.0000), Var(v=0.0920, grad=0.0000), Var(v=-0.1564, grad=-0.3572), Var(v=0.1649, grad=0.7530), Var(v=-0.0772, grad=-0.7143), Var(v=-0.0038, grad=0.0000), Var(v=-0.0496, grad=-0.0277), Var(v=-0.1831, grad=0.1948), Var(v=-0.1069, grad=0.0000), Var(v=-0.0402, grad=0.0000), Var(v=-0.0585, grad=-0.0597), Var(v=-0.0739, grad=0.0000), Var(v=0.0331, grad=0.0000), Var(v=-0.1249, grad=0.0000), Var(v=0.1381, grad=0.9947), Var(v=-0.0064, grad=0.0000), Var(v=-0.0082, grad=-0.8682), Var(v=-0.0088, grad=0.0000), Var(v=0.2256, grad=0.0150), Var(v=0.0237, grad=0.0000), Var(v=-0.0581, grad=-0.0902), Var(v=-0.0217, grad=0.1769), Var(v=0.0999, grad=0.5006), Var(v=-0.0720, grad=0.0000), Var(v=0.0154, grad=-0.0294), Var(v=-0.1002, grad=0.0000), Var(v=-0.1249, grad=-0.2321), Var(v=-0.2364, grad=0.0000), Var(v=-0.1446, grad=0.0000), Var(v=-0.1055, grad=0.0000), Var(v=0.0122, grad=0.0000), Var(v=0.0364, grad=0.0000), Var(v=-0.0042, grad=0.0000), Var(v=0.0062, grad=-0.2806), Var(v=-0.0152, grad=0.7590), Var(v=0.1565, grad=0.0849), Var(v=0.0600, grad=0.4048), Var(v=0.0406, grad=0.0000), Var(v=0.1395, grad=-0.0739), Var(v=0.0391, grad=0.0000), Var(v=0.0826, grad=0.0000), Var(v=0.1614, grad=0.8182), Var(v=0.0253, grad=0.0000), Var(v=0.0717, grad=-0.7836), Var(v=-0.0740, grad=-1.2123), Var(v=0.0757, grad=0.0005), Var(v=-0.0283, grad=-1.0709), Var(v=0.1358, grad=0.1417), Var(v=-0.0363, grad=0.3772), Var(v=0.2087, grad=0.0000)], [Var(v=0.0632, grad=0.3261), Var(v=-0.0838, grad=0.0000), Var(v=0.0201, grad=0.4694), Var(v=-0.0481, grad=0.0000), Var(v=-0.0937, grad=0.9388), Var(v=-0.1098, grad=0.0000), Var(v=0.0565, grad=0.0000), Var(v=0.1247, grad=-0.2559), Var(v=0.0106, grad=0.0000), Var(v=-0.0437, grad=0.0000), Var(v=-0.1712, grad=0.0785), Var(v=-0.0090, grad=0.0000), Var(v=-0.0942, grad=0.0000), Var(v=-0.1002, grad=0.0000), Var(v=0.0226, grad=0.0000), Var(v=0.0384, grad=0.0000), Var(v=-0.0420, grad=1.1410), Var(v=0.0542, grad=-0.1848), Var(v=0.0827, grad=0.0000), Var(v=-0.1067, grad=1.1049), Var(v=-0.0004, grad=0.0000), Var(v=0.1266, grad=-0.2325), Var(v=-0.0050, grad=-0.6579), Var(v=-0.0278, grad=0.0000), Var(v=0.0200, grad=0.0000), Var(v=-0.0404, grad=0.5810), Var(v=-0.0037, grad=0.0000), Var(v=0.0907, grad=-0.1171), Var(v=-0.0412, grad=0.2571), Var(v=-0.0825, grad=0.6655), Var(v=-0.2852, grad=0.0000), Var(v=-0.0284, grad=-0.4377), Var(v=0.0045, grad=0.0000), Var(v=-0.0176, grad=0.3688), Var(v=-0.0428, grad=0.0000), Var(v=0.1525, grad=-0.1115), Var(v=0.1205, grad=-0.5319), Var(v=-0.0205, grad=-0.0993), Var(v=0.0437, grad=0.0000), Var(v=0.0050, grad=0.0000), Var(v=-0.0313, grad=-0.2093), Var(v=0.0092, grad=0.0000), Var(v=0.1783, grad=0.3740), Var(v=-0.1009, grad=0.0000), Var(v=-0.0619, grad=1.5932), Var(v=-0.0177, grad=-0.0006), Var(v=-0.1661, grad=0.0000), Var(v=0.1469, grad=0.0000), Var(v=-0.0804, grad=-0.4957), Var(v=0.0291, grad=0.7193)]] Biases: [Var(v=-0.0427, grad=4.2661), Var(v=0.0000, grad=0.0000), Var(v=-0.0023, grad=0.2327), Var(v=-0.1246, grad=12.4569), Var(v=-0.0047, grad=0.4654), Var(v=0.0000, grad=0.0000), Var(v=0.0046, grad=-0.4584), Var(v=0.0013, grad=-0.1269), Var(v=0.0000, grad=0.0000), Var(v=0.0000, grad=0.0000), Var(v=-0.0004, grad=0.0389), Var(v=0.0000, grad=0.0000), Var(v=0.0000, grad=0.0000), Var(v=0.0000, grad=0.0000), Var(v=-0.1646, grad=16.4558), Var(v=0.0000, grad=0.0000), Var(v=-0.0057, grad=0.5657), Var(v=0.0242, grad=-2.4176), Var(v=-0.0025, grad=0.2477), Var(v=-0.1446, grad=14.4554), Var(v=0.0149, grad=-1.4924), Var(v=0.0012, grad=-0.1153), Var(v=0.0033, grad=-0.3262), Var(v=0.0000, grad=0.0000), Var(v=0.0049, grad=-0.4860), Var(v=-0.0760, grad=7.6009), Var(v=0.0384, grad=-3.8390), Var(v=0.0153, grad=-1.5320), Var(v=-0.0336, grad=3.3636), Var(v=-0.0871, grad=8.7070), Var(v=0.0000, grad=0.0000), Var(v=0.0573, grad=-5.7262), Var(v=0.0000, grad=0.0000), Var(v=-0.0018, grad=0.1828), Var(v=-0.1256, grad=12.5560), Var(v=0.0006, grad=-0.0553), Var(v=0.0026, grad=-0.2637), Var(v=0.0130, grad=-1.2993), Var(v=0.0122, grad=-1.2219), Var(v=0.0000, grad=0.0000), Var(v=0.0274, grad=-2.7380), Var(v=-0.1353, grad=13.5349), Var(v=-0.0489, grad=4.8935), Var(v=0.1296, grad=-12.9627), Var(v=-0.0079, grad=0.7898), Var(v=0.0000, grad=-0.0003), Var(v=0.1772, grad=-17.7152), Var(v=-0.0234, grad=2.3433), Var(v=0.0025, grad=-0.2458), Var(v=-0.0941, grad=9.4106)]\n",
      "Layer 2 \n",
      " Weights: [[Var(v=-0.0316, grad=-1.7322)], [Var(v=0.1007, grad=0.0000)], [Var(v=-0.0734, grad=0.2961)], [Var(v=0.1349, grad=1.3475)], [Var(v=-0.2203, grad=7.9540)], [Var(v=0.1771, grad=0.0000)], [Var(v=-0.0239, grad=1.8428)], [Var(v=0.0285, grad=0.9910)], [Var(v=0.1856, grad=0.0000)], [Var(v=-0.1578, grad=0.0000)], [Var(v=-0.0372, grad=2.5457)], [Var(v=0.1557, grad=0.0000)], [Var(v=-0.0649, grad=0.0000)], [Var(v=-0.0841, grad=0.0000)], [Var(v=0.1871, grad=0.8975)], [Var(v=0.1036, grad=0.0000)], [Var(v=-0.1538, grad=-1.7331)], [Var(v=0.0308, grad=-0.3083)], [Var(v=-0.0317, grad=3.4601)], [Var(v=-0.1647, grad=-0.0967)], [Var(v=-0.0356, grad=1.7848)], [Var(v=0.0493, grad=-1.4401)], [Var(v=0.0318, grad=6.6851)], [Var(v=0.0611, grad=0.0000)], [Var(v=-0.0176, grad=1.1794)], [Var(v=-0.0552, grad=-3.1931)], [Var(v=-0.0674, grad=2.1625)], [Var(v=0.0733, grad=-5.5788)], [Var(v=-0.0311, grad=-0.7440)], [Var(v=-0.0962, grad=-0.3566)], [Var(v=-0.0589, grad=0.0000)], [Var(v=0.0935, grad=-2.7858)], [Var(v=0.0862, grad=0.0000)], [Var(v=-0.0691, grad=1.3797)], [Var(v=0.1384, grad=1.1235)], [Var(v=0.0257, grad=-0.8987)], [Var(v=0.0808, grad=-0.1016)], [Var(v=0.0188, grad=-0.3931)], [Var(v=-0.0790, grad=6.4439)], [Var(v=0.1941, grad=0.0000)], [Var(v=0.0326, grad=-0.1240)], [Var(v=0.1610, grad=0.0259)], [Var(v=-0.0539, grad=-0.2199)], [Var(v=-0.1901, grad=3.5616)], [Var(v=-0.3045, grad=6.5537)], [Var(v=-0.0075, grad=0.7552)], [Var(v=-0.2119, grad=0.0832)], [Var(v=0.0054, grad=2.2482)], [Var(v=0.0809, grad=-0.6538)], [Var(v=-0.0610, grad=-4.6886)]] Biases: [Var(v=0.0331, grad=-3.3056)]\n",
      "\n",
      "Network after zeroing gradients:\n",
      "Layer 0 \n",
      " Weights: [[Var(v=0.0524, grad=0.0000), Var(v=-0.0233, grad=0.0000), Var(v=0.0366, grad=0.0000), Var(v=0.1534, grad=0.0000), Var(v=-0.1434, grad=0.0000), Var(v=-0.1671, grad=0.0000), Var(v=0.0983, grad=0.0000), Var(v=0.0740, grad=0.0000), Var(v=-0.1200, grad=0.0000), Var(v=0.0496, grad=0.0000), Var(v=0.1386, grad=0.0000), Var(v=-0.3510, grad=0.0000), Var(v=-0.1396, grad=0.0000), Var(v=0.0873, grad=0.0000), Var(v=0.1191, grad=0.0000)]] Biases: [Var(v=-0.0598, grad=0.0000), Var(v=-0.0262, grad=0.0000), Var(v=-0.0814, grad=0.0000), Var(v=-0.0106, grad=0.0000), Var(v=-0.0075, grad=0.0000), Var(v=0.0745, grad=0.0000), Var(v=-0.0068, grad=0.0000), Var(v=-0.0256, grad=0.0000), Var(v=0.0783, grad=0.0000), Var(v=-0.0907, grad=0.0000), Var(v=0.0881, grad=0.0000), Var(v=0.1074, grad=0.0000), Var(v=0.0480, grad=0.0000), Var(v=-0.1208, grad=0.0000), Var(v=0.0457, grad=0.0000)]\n",
      "Layer 1 \n",
      " Weights: [[Var(v=-0.1184, grad=0.0000), Var(v=0.0507, grad=0.0000), Var(v=-0.0476, grad=0.0000), Var(v=0.0802, grad=0.0000), Var(v=-0.0875, grad=0.0000), Var(v=0.0552, grad=0.0000), Var(v=0.0843, grad=0.0000), Var(v=0.0557, grad=0.0000), Var(v=-0.0237, grad=0.0000), Var(v=-0.0722, grad=0.0000), Var(v=-0.0122, grad=0.0000), Var(v=-0.1791, grad=0.0000), Var(v=0.0617, grad=0.0000), Var(v=-0.1487, grad=0.0000), Var(v=0.1619, grad=0.0000), Var(v=-0.1580, grad=0.0000), Var(v=-0.0369, grad=0.0000), Var(v=0.1866, grad=0.0000), Var(v=-0.0172, grad=0.0000), Var(v=-0.0639, grad=0.0000), Var(v=-0.0427, grad=0.0000), Var(v=-0.0893, grad=0.0000), Var(v=0.0095, grad=0.0000), Var(v=-0.0337, grad=0.0000), Var(v=0.1777, grad=0.0000), Var(v=-0.1394, grad=0.0000), Var(v=0.1289, grad=0.0000), Var(v=-0.0780, grad=0.0000), Var(v=-0.0394, grad=0.0000), Var(v=-0.0075, grad=0.0000), Var(v=0.0861, grad=0.0000), Var(v=-0.0860, grad=0.0000), Var(v=0.0431, grad=0.0000), Var(v=-0.0052, grad=0.0000), Var(v=-0.1486, grad=0.0000), Var(v=-0.1142, grad=0.0000), Var(v=0.0349, grad=0.0000), Var(v=0.0692, grad=0.0000), Var(v=-0.1706, grad=0.0000), Var(v=0.1596, grad=0.0000), Var(v=0.0077, grad=0.0000), Var(v=0.0184, grad=0.0000), Var(v=0.0955, grad=0.0000), Var(v=-0.0997, grad=0.0000), Var(v=-0.1171, grad=0.0000), Var(v=0.0364, grad=0.0000), Var(v=0.1381, grad=0.0000), Var(v=0.0125, grad=0.0000), Var(v=0.1081, grad=0.0000), Var(v=-0.0714, grad=0.0000)], [Var(v=-0.0298, grad=0.0000), Var(v=-0.0217, grad=0.0000), Var(v=0.0728, grad=0.0000), Var(v=0.1414, grad=0.0000), Var(v=0.1626, grad=0.0000), Var(v=-0.0290, grad=0.0000), Var(v=0.0125, grad=0.0000), Var(v=-0.0663, grad=0.0000), Var(v=-0.0435, grad=0.0000), Var(v=0.1292, grad=0.0000), Var(v=0.0313, grad=0.0000), Var(v=-0.1091, grad=0.0000), Var(v=-0.1469, grad=0.0000), Var(v=-0.0936, grad=0.0000), Var(v=0.0283, grad=0.0000), Var(v=0.2429, grad=0.0000), Var(v=0.0189, grad=0.0000), Var(v=0.0769, grad=0.0000), Var(v=-0.0018, grad=0.0000), Var(v=-0.0345, grad=0.0000), Var(v=-0.0792, grad=0.0000), Var(v=-0.0551, grad=0.0000), Var(v=-0.0381, grad=0.0000), Var(v=-0.0039, grad=0.0000), Var(v=0.0045, grad=0.0000), Var(v=0.0047, grad=0.0000), Var(v=-0.1600, grad=0.0000), Var(v=-0.1546, grad=0.0000), Var(v=-0.0220, grad=0.0000), Var(v=-0.1222, grad=0.0000), Var(v=-0.0346, grad=0.0000), Var(v=0.0313, grad=0.0000), Var(v=-0.2027, grad=0.0000), Var(v=-0.0613, grad=0.0000), Var(v=0.0184, grad=0.0000), Var(v=0.0263, grad=0.0000), Var(v=0.0762, grad=0.0000), Var(v=0.0841, grad=0.0000), Var(v=0.0162, grad=0.0000), Var(v=0.0199, grad=0.0000), Var(v=0.1157, grad=0.0000), Var(v=0.0529, grad=0.0000), Var(v=0.1217, grad=0.0000), Var(v=0.0876, grad=0.0000), Var(v=0.0894, grad=0.0000), Var(v=0.0473, grad=0.0000), Var(v=-0.1401, grad=0.0000), Var(v=0.1552, grad=0.0000), Var(v=-0.0095, grad=0.0000), Var(v=0.0680, grad=0.0000)], [Var(v=-0.0036, grad=0.0000), Var(v=0.0324, grad=0.0000), Var(v=0.0143, grad=0.0000), Var(v=0.0352, grad=0.0000), Var(v=0.0431, grad=0.0000), Var(v=0.0961, grad=0.0000), Var(v=0.0243, grad=0.0000), Var(v=-0.0986, grad=0.0000), Var(v=-0.0651, grad=0.0000), Var(v=0.0592, grad=0.0000), Var(v=0.1440, grad=0.0000), Var(v=-0.0570, grad=0.0000), Var(v=-0.1564, grad=0.0000), Var(v=0.1077, grad=0.0000), Var(v=-0.0970, grad=0.0000), Var(v=0.0364, grad=0.0000), Var(v=0.2473, grad=0.0000), Var(v=-0.1538, grad=0.0000), Var(v=-0.0179, grad=0.0000), Var(v=0.1050, grad=0.0000), Var(v=0.0050, grad=0.0000), Var(v=0.0092, grad=0.0000), Var(v=0.0996, grad=0.0000), Var(v=-0.0586, grad=0.0000), Var(v=-0.0119, grad=0.0000), Var(v=0.1154, grad=0.0000), Var(v=0.0345, grad=0.0000), Var(v=0.0662, grad=0.0000), Var(v=0.0209, grad=0.0000), Var(v=-0.0339, grad=0.0000), Var(v=0.0497, grad=0.0000), Var(v=0.0044, grad=0.0000), Var(v=-0.0609, grad=0.0000), Var(v=-0.1227, grad=0.0000), Var(v=-0.0914, grad=0.0000), Var(v=0.1577, grad=0.0000), Var(v=0.0012, grad=0.0000), Var(v=0.0559, grad=0.0000), Var(v=0.0287, grad=0.0000), Var(v=0.0853, grad=0.0000), Var(v=0.0578, grad=0.0000), Var(v=0.0836, grad=0.0000), Var(v=-0.0810, grad=0.0000), Var(v=-0.1149, grad=0.0000), Var(v=-0.0822, grad=0.0000), Var(v=0.0454, grad=0.0000), Var(v=0.0785, grad=0.0000), Var(v=-0.0953, grad=0.0000), Var(v=-0.0447, grad=0.0000), Var(v=0.2507, grad=0.0000)], [Var(v=0.1419, grad=0.0000), Var(v=0.0002, grad=0.0000), Var(v=-0.0011, grad=0.0000), Var(v=-0.1834, grad=0.0000), Var(v=0.0114, grad=0.0000), Var(v=-0.1779, grad=0.0000), Var(v=0.0049, grad=0.0000), Var(v=0.0152, grad=0.0000), Var(v=0.0409, grad=0.0000), Var(v=0.0522, grad=0.0000), Var(v=-0.0904, grad=0.0000), Var(v=-0.0674, grad=0.0000), Var(v=-0.0573, grad=0.0000), Var(v=-0.0572, grad=0.0000), Var(v=0.0293, grad=0.0000), Var(v=-0.1301, grad=0.0000), Var(v=-0.1536, grad=0.0000), Var(v=0.0161, grad=0.0000), Var(v=0.0357, grad=0.0000), Var(v=-0.0217, grad=0.0000), Var(v=-0.0311, grad=0.0000), Var(v=0.1322, grad=0.0000), Var(v=-0.1309, grad=0.0000), Var(v=-0.0701, grad=0.0000), Var(v=-0.1165, grad=0.0000), Var(v=-0.0187, grad=0.0000), Var(v=-0.0326, grad=0.0000), Var(v=0.1673, grad=0.0000), Var(v=-0.0171, grad=0.0000), Var(v=0.0187, grad=0.0000), Var(v=-0.0315, grad=0.0000), Var(v=0.1726, grad=0.0000), Var(v=-0.0848, grad=0.0000), Var(v=0.0663, grad=0.0000), Var(v=-0.0084, grad=0.0000), Var(v=-0.0311, grad=0.0000), Var(v=-0.1309, grad=0.0000), Var(v=0.0835, grad=0.0000), Var(v=-0.0174, grad=0.0000), Var(v=0.0433, grad=0.0000), Var(v=0.0213, grad=0.0000), Var(v=-0.0708, grad=0.0000), Var(v=-0.0218, grad=0.0000), Var(v=0.0043, grad=0.0000), Var(v=0.0306, grad=0.0000), Var(v=-0.0050, grad=0.0000), Var(v=-0.0167, grad=0.0000), Var(v=-0.0188, grad=0.0000), Var(v=0.1431, grad=0.0000), Var(v=-0.0063, grad=0.0000)], [Var(v=-0.0635, grad=0.0000), Var(v=0.1718, grad=0.0000), Var(v=0.1428, grad=0.0000), Var(v=-0.0315, grad=0.0000), Var(v=0.0610, grad=0.0000), Var(v=-0.0806, grad=0.0000), Var(v=0.0416, grad=0.0000), Var(v=0.2111, grad=0.0000), Var(v=-0.0532, grad=0.0000), Var(v=-0.1285, grad=0.0000), Var(v=0.0073, grad=0.0000), Var(v=0.1208, grad=0.0000), Var(v=-0.0592, grad=0.0000), Var(v=-0.1511, grad=0.0000), Var(v=0.0731, grad=0.0000), Var(v=-0.0012, grad=0.0000), Var(v=-0.0187, grad=0.0000), Var(v=0.0570, grad=0.0000), Var(v=-0.0950, grad=0.0000), Var(v=-0.0210, grad=0.0000), Var(v=0.0602, grad=0.0000), Var(v=0.1221, grad=0.0000), Var(v=0.1116, grad=0.0000), Var(v=-0.1453, grad=0.0000), Var(v=-0.0252, grad=0.0000), Var(v=0.0040, grad=0.0000), Var(v=0.0562, grad=0.0000), Var(v=0.0889, grad=0.0000), Var(v=-0.1226, grad=0.0000), Var(v=0.0782, grad=0.0000), Var(v=-0.0638, grad=0.0000), Var(v=0.1524, grad=0.0000), Var(v=-0.2220, grad=0.0000), Var(v=0.2091, grad=0.0000), Var(v=0.0183, grad=0.0000), Var(v=-0.0398, grad=0.0000), Var(v=0.0312, grad=0.0000), Var(v=-0.0824, grad=0.0000), Var(v=0.0763, grad=0.0000), Var(v=0.0321, grad=0.0000), Var(v=-0.1422, grad=0.0000), Var(v=0.0128, grad=0.0000), Var(v=0.0371, grad=0.0000), Var(v=-0.0620, grad=0.0000), Var(v=0.2002, grad=0.0000), Var(v=0.2036, grad=0.0000), Var(v=0.0119, grad=0.0000), Var(v=0.1162, grad=0.0000), Var(v=-0.1101, grad=0.0000), Var(v=-0.1265, grad=0.0000)], [Var(v=0.1190, grad=0.0000), Var(v=-0.0890, grad=0.0000), Var(v=-0.0735, grad=0.0000), Var(v=-0.1604, grad=0.0000), Var(v=0.1793, grad=0.0000), Var(v=-0.0759, grad=0.0000), Var(v=0.0029, grad=0.0000), Var(v=-0.0471, grad=0.0000), Var(v=-0.1670, grad=0.0000), Var(v=-0.0554, grad=0.0000), Var(v=-0.0720, grad=0.0000), Var(v=-0.1709, grad=0.0000), Var(v=-0.1908, grad=0.0000), Var(v=0.0027, grad=0.0000), Var(v=-0.1015, grad=0.0000), Var(v=-0.1314, grad=0.0000), Var(v=0.1677, grad=0.0000), Var(v=-0.0804, grad=0.0000), Var(v=0.2420, grad=0.0000), Var(v=-0.0148, grad=0.0000), Var(v=-0.0720, grad=0.0000), Var(v=-0.0035, grad=0.0000), Var(v=0.0428, grad=0.0000), Var(v=-0.1300, grad=0.0000), Var(v=-0.1098, grad=0.0000), Var(v=-0.2366, grad=0.0000), Var(v=0.1393, grad=0.0000), Var(v=0.0060, grad=0.0000), Var(v=0.0393, grad=0.0000), Var(v=0.1005, grad=0.0000), Var(v=-0.1412, grad=0.0000), Var(v=-0.0685, grad=0.0000), Var(v=-0.0388, grad=0.0000), Var(v=0.0789, grad=0.0000), Var(v=-0.0762, grad=0.0000), Var(v=0.0863, grad=0.0000), Var(v=0.0290, grad=0.0000), Var(v=-0.1559, grad=0.0000), Var(v=0.0352, grad=0.0000), Var(v=0.0754, grad=0.0000), Var(v=-0.1110, grad=0.0000), Var(v=-0.0549, grad=0.0000), Var(v=0.1405, grad=0.0000), Var(v=0.0414, grad=0.0000), Var(v=-0.0905, grad=0.0000), Var(v=-0.1410, grad=0.0000), Var(v=0.0924, grad=0.0000), Var(v=-0.0564, grad=0.0000), Var(v=0.0866, grad=0.0000), Var(v=-0.0639, grad=0.0000)], [Var(v=-0.0168, grad=0.0000), Var(v=-0.0700, grad=0.0000), Var(v=-0.0289, grad=0.0000), Var(v=-0.0612, grad=0.0000), Var(v=0.1710, grad=0.0000), Var(v=0.2588, grad=0.0000), Var(v=-0.0601, grad=0.0000), Var(v=0.0112, grad=0.0000), Var(v=-0.0300, grad=0.0000), Var(v=-0.1814, grad=0.0000), Var(v=0.0148, grad=0.0000), Var(v=0.0482, grad=0.0000), Var(v=0.0064, grad=0.0000), Var(v=0.0775, grad=0.0000), Var(v=0.0651, grad=0.0000), Var(v=-0.2171, grad=0.0000), Var(v=-0.0332, grad=0.0000), Var(v=0.0365, grad=0.0000), Var(v=-0.1741, grad=0.0000), Var(v=-0.0787, grad=0.0000), Var(v=-0.0841, grad=0.0000), Var(v=-0.0943, grad=0.0000), Var(v=0.1280, grad=0.0000), Var(v=-0.0105, grad=0.0000), Var(v=-0.0045, grad=0.0000), Var(v=0.0992, grad=0.0000), Var(v=-0.0271, grad=0.0000), Var(v=-0.0370, grad=0.0000), Var(v=0.1060, grad=0.0000), Var(v=0.0845, grad=0.0000), Var(v=-0.0690, grad=0.0000), Var(v=-0.0521, grad=0.0000), Var(v=0.0276, grad=0.0000), Var(v=0.0961, grad=0.0000), Var(v=0.1141, grad=0.0000), Var(v=0.0217, grad=0.0000), Var(v=0.1210, grad=0.0000), Var(v=0.0983, grad=0.0000), Var(v=-0.1576, grad=0.0000), Var(v=0.0383, grad=0.0000), Var(v=-0.0900, grad=0.0000), Var(v=-0.1119, grad=0.0000), Var(v=-0.0585, grad=0.0000), Var(v=-0.1652, grad=0.0000), Var(v=-0.1288, grad=0.0000), Var(v=-0.1495, grad=0.0000), Var(v=0.1124, grad=0.0000), Var(v=-0.1581, grad=0.0000), Var(v=0.0212, grad=0.0000), Var(v=0.0695, grad=0.0000)], [Var(v=-0.1179, grad=0.0000), Var(v=-0.0239, grad=0.0000), Var(v=-0.0185, grad=0.0000), Var(v=-0.0546, grad=0.0000), Var(v=-0.0063, grad=0.0000), Var(v=-0.0641, grad=0.0000), Var(v=-0.1298, grad=0.0000), Var(v=0.0544, grad=0.0000), Var(v=-0.0434, grad=0.0000), Var(v=-0.0285, grad=0.0000), Var(v=0.1389, grad=0.0000), Var(v=-0.1487, grad=0.0000), Var(v=0.0925, grad=0.0000), Var(v=-0.1335, grad=0.0000), Var(v=-0.1207, grad=0.0000), Var(v=-0.1455, grad=0.0000), Var(v=0.0824, grad=0.0000), Var(v=0.0997, grad=0.0000), Var(v=0.0456, grad=0.0000), Var(v=-0.0450, grad=0.0000), Var(v=0.0588, grad=0.0000), Var(v=0.0987, grad=0.0000), Var(v=0.0987, grad=0.0000), Var(v=0.0430, grad=0.0000), Var(v=0.1704, grad=0.0000), Var(v=0.1668, grad=0.0000), Var(v=0.0682, grad=0.0000), Var(v=0.1728, grad=0.0000), Var(v=-0.0295, grad=0.0000), Var(v=-0.0054, grad=0.0000), Var(v=0.0959, grad=0.0000), Var(v=0.0234, grad=0.0000), Var(v=0.0049, grad=0.0000), Var(v=0.1524, grad=0.0000), Var(v=-0.2022, grad=0.0000), Var(v=0.0955, grad=0.0000), Var(v=0.1441, grad=0.0000), Var(v=-0.2409, grad=0.0000), Var(v=0.0861, grad=0.0000), Var(v=-0.2361, grad=0.0000), Var(v=0.0774, grad=0.0000), Var(v=-0.1405, grad=0.0000), Var(v=0.0599, grad=0.0000), Var(v=-0.0568, grad=0.0000), Var(v=0.0998, grad=0.0000), Var(v=0.2849, grad=0.0000), Var(v=-0.2115, grad=0.0000), Var(v=-0.1225, grad=0.0000), Var(v=0.0202, grad=0.0000), Var(v=-0.0462, grad=0.0000)], [Var(v=0.0507, grad=0.0000), Var(v=-0.0024, grad=0.0000), Var(v=-0.1415, grad=0.0000), Var(v=0.1059, grad=0.0000), Var(v=0.1122, grad=0.0000), Var(v=0.2218, grad=0.0000), Var(v=0.1973, grad=0.0000), Var(v=-0.1007, grad=0.0000), Var(v=0.1372, grad=0.0000), Var(v=0.1446, grad=0.0000), Var(v=0.1086, grad=0.0000), Var(v=0.1334, grad=0.0000), Var(v=0.1171, grad=0.0000), Var(v=0.0263, grad=0.0000), Var(v=0.0010, grad=0.0000), Var(v=0.0022, grad=0.0000), Var(v=0.0259, grad=0.0000), Var(v=0.1768, grad=0.0000), Var(v=0.0444, grad=0.0000), Var(v=0.0222, grad=0.0000), Var(v=0.0777, grad=0.0000), Var(v=-0.0044, grad=0.0000), Var(v=-0.0824, grad=0.0000), Var(v=0.1096, grad=0.0000), Var(v=0.0057, grad=0.0000), Var(v=-0.0126, grad=0.0000), Var(v=0.1385, grad=0.0000), Var(v=0.0196, grad=0.0000), Var(v=-0.0637, grad=0.0000), Var(v=-0.2572, grad=0.0000), Var(v=-0.0547, grad=0.0000), Var(v=0.0660, grad=0.0000), Var(v=0.0597, grad=0.0000), Var(v=-0.0359, grad=0.0000), Var(v=-0.0361, grad=0.0000), Var(v=0.1696, grad=0.0000), Var(v=-0.1441, grad=0.0000), Var(v=-0.1638, grad=0.0000), Var(v=0.0539, grad=0.0000), Var(v=0.1322, grad=0.0000), Var(v=-0.0068, grad=0.0000), Var(v=-0.1707, grad=0.0000), Var(v=-0.2153, grad=0.0000), Var(v=0.1236, grad=0.0000), Var(v=0.0106, grad=0.0000), Var(v=0.0046, grad=0.0000), Var(v=0.0884, grad=0.0000), Var(v=-0.0798, grad=0.0000), Var(v=-0.0415, grad=0.0000), Var(v=0.0253, grad=0.0000)], [Var(v=-0.0844, grad=0.0000), Var(v=0.0350, grad=0.0000), Var(v=-0.0084, grad=0.0000), Var(v=-0.1377, grad=0.0000), Var(v=0.0780, grad=0.0000), Var(v=0.0816, grad=0.0000), Var(v=0.0797, grad=0.0000), Var(v=-0.0163, grad=0.0000), Var(v=0.0779, grad=0.0000), Var(v=-0.0620, grad=0.0000), Var(v=-0.0387, grad=0.0000), Var(v=-0.0299, grad=0.0000), Var(v=-0.0219, grad=0.0000), Var(v=0.1648, grad=0.0000), Var(v=0.1474, grad=0.0000), Var(v=-0.0459, grad=0.0000), Var(v=-0.0018, grad=0.0000), Var(v=-0.0834, grad=0.0000), Var(v=0.1284, grad=0.0000), Var(v=0.0313, grad=0.0000), Var(v=-0.1955, grad=0.0000), Var(v=-0.1994, grad=0.0000), Var(v=0.0421, grad=0.0000), Var(v=-0.0642, grad=0.0000), Var(v=-0.0963, grad=0.0000), Var(v=0.0262, grad=0.0000), Var(v=-0.0206, grad=0.0000), Var(v=-0.1034, grad=0.0000), Var(v=-0.1433, grad=0.0000), Var(v=-0.1197, grad=0.0000), Var(v=-0.1761, grad=0.0000), Var(v=-0.0924, grad=0.0000), Var(v=0.0258, grad=0.0000), Var(v=-0.0777, grad=0.0000), Var(v=-0.0365, grad=0.0000), Var(v=-0.0173, grad=0.0000), Var(v=0.3103, grad=0.0000), Var(v=-0.0588, grad=0.0000), Var(v=0.1339, grad=0.0000), Var(v=0.0618, grad=0.0000), Var(v=0.1028, grad=0.0000), Var(v=0.0771, grad=0.0000), Var(v=-0.1035, grad=0.0000), Var(v=-0.0719, grad=0.0000), Var(v=-0.2141, grad=0.0000), Var(v=-0.0700, grad=0.0000), Var(v=-0.0120, grad=0.0000), Var(v=0.0038, grad=0.0000), Var(v=-0.1085, grad=0.0000), Var(v=-0.0669, grad=0.0000)], [Var(v=0.0147, grad=0.0000), Var(v=-0.0418, grad=0.0000), Var(v=0.0305, grad=0.0000), Var(v=-0.0848, grad=0.0000), Var(v=-0.1558, grad=0.0000), Var(v=-0.1061, grad=0.0000), Var(v=0.0300, grad=0.0000), Var(v=0.0839, grad=0.0000), Var(v=-0.0136, grad=0.0000), Var(v=0.0581, grad=0.0000), Var(v=-0.0287, grad=0.0000), Var(v=0.1004, grad=0.0000), Var(v=-0.0761, grad=0.0000), Var(v=0.0673, grad=0.0000), Var(v=-0.0532, grad=0.0000), Var(v=-0.0791, grad=0.0000), Var(v=-0.0162, grad=0.0000), Var(v=0.1212, grad=0.0000), Var(v=0.0440, grad=0.0000), Var(v=-0.0222, grad=0.0000), Var(v=0.1184, grad=0.0000), Var(v=0.0584, grad=0.0000), Var(v=-0.0123, grad=0.0000), Var(v=0.0359, grad=0.0000), Var(v=-0.1294, grad=0.0000), Var(v=-0.2953, grad=0.0000), Var(v=-0.1023, grad=0.0000), Var(v=0.0244, grad=0.0000), Var(v=-0.0171, grad=0.0000), Var(v=-0.1373, grad=0.0000), Var(v=-0.0675, grad=0.0000), Var(v=0.2254, grad=0.0000), Var(v=-0.0546, grad=0.0000), Var(v=-0.0074, grad=0.0000), Var(v=0.1860, grad=0.0000), Var(v=-0.0254, grad=0.0000), Var(v=0.1466, grad=0.0000), Var(v=-0.0070, grad=0.0000), Var(v=-0.1256, grad=0.0000), Var(v=-0.0398, grad=0.0000), Var(v=-0.1024, grad=0.0000), Var(v=-0.0274, grad=0.0000), Var(v=0.0105, grad=0.0000), Var(v=-0.0530, grad=0.0000), Var(v=-0.0685, grad=0.0000), Var(v=-0.0338, grad=0.0000), Var(v=-0.0785, grad=0.0000), Var(v=-0.1446, grad=0.0000), Var(v=0.0723, grad=0.0000), Var(v=0.0850, grad=0.0000)], [Var(v=0.0140, grad=0.0000), Var(v=-0.1512, grad=0.0000), Var(v=0.0610, grad=0.0000), Var(v=-0.0370, grad=0.0000), Var(v=0.3645, grad=0.0000), Var(v=-0.3240, grad=0.0000), Var(v=-0.0107, grad=0.0000), Var(v=0.1049, grad=0.0000), Var(v=-0.0508, grad=0.0000), Var(v=-0.0276, grad=0.0000), Var(v=0.1650, grad=0.0000), Var(v=-0.0811, grad=0.0000), Var(v=0.1080, grad=0.0000), Var(v=0.0833, grad=0.0000), Var(v=-0.1106, grad=0.0000), Var(v=-0.0494, grad=0.0000), Var(v=0.0275, grad=0.0000), Var(v=-0.0108, grad=0.0000), Var(v=0.0932, grad=0.0000), Var(v=0.0277, grad=0.0000), Var(v=0.0904, grad=0.0000), Var(v=0.0592, grad=0.0000), Var(v=0.1755, grad=0.0000), Var(v=-0.1384, grad=0.0000), Var(v=0.1302, grad=0.0000), Var(v=0.0459, grad=0.0000), Var(v=0.0949, grad=0.0000), Var(v=0.0878, grad=0.0000), Var(v=-0.0466, grad=0.0000), Var(v=-0.0838, grad=0.0000), Var(v=-0.0839, grad=0.0000), Var(v=-0.1165, grad=0.0000), Var(v=0.1708, grad=0.0000), Var(v=0.0535, grad=0.0000), Var(v=0.0280, grad=0.0000), Var(v=0.0488, grad=0.0000), Var(v=-0.0335, grad=0.0000), Var(v=-0.0401, grad=0.0000), Var(v=0.1080, grad=0.0000), Var(v=-0.1464, grad=0.0000), Var(v=-0.0926, grad=0.0000), Var(v=-0.0866, grad=0.0000), Var(v=-0.0794, grad=0.0000), Var(v=0.1567, grad=0.0000), Var(v=0.3347, grad=0.0000), Var(v=-0.0194, grad=0.0000), Var(v=0.0382, grad=0.0000), Var(v=-0.0355, grad=0.0000), Var(v=0.0471, grad=0.0000), Var(v=0.0019, grad=0.0000)], [Var(v=-0.1199, grad=0.0000), Var(v=-0.0351, grad=0.0000), Var(v=-0.0685, grad=0.0000), Var(v=0.1532, grad=0.0000), Var(v=0.0192, grad=0.0000), Var(v=-0.0555, grad=0.0000), Var(v=0.0677, grad=0.0000), Var(v=-0.2854, grad=0.0000), Var(v=-0.0258, grad=0.0000), Var(v=-0.0365, grad=0.0000), Var(v=0.0394, grad=0.0000), Var(v=-0.0586, grad=0.0000), Var(v=-0.0834, grad=0.0000), Var(v=-0.0386, grad=0.0000), Var(v=-0.0810, grad=0.0000), Var(v=0.0348, grad=0.0000), Var(v=0.0224, grad=0.0000), Var(v=-0.1666, grad=0.0000), Var(v=-0.1279, grad=0.0000), Var(v=-0.0922, grad=0.0000), Var(v=0.1518, grad=0.0000), Var(v=-0.0097, grad=0.0000), Var(v=0.0397, grad=0.0000), Var(v=-0.0605, grad=0.0000), Var(v=-0.0351, grad=0.0000), Var(v=0.1553, grad=0.0000), Var(v=-0.0558, grad=0.0000), Var(v=-0.2406, grad=0.0000), Var(v=0.0478, grad=0.0000), Var(v=-0.0393, grad=0.0000), Var(v=0.2680, grad=0.0000), Var(v=0.0560, grad=0.0000), Var(v=0.0579, grad=0.0000), Var(v=0.0208, grad=0.0000), Var(v=-0.0029, grad=0.0000), Var(v=0.0228, grad=0.0000), Var(v=-0.1708, grad=0.0000), Var(v=0.1112, grad=0.0000), Var(v=0.1727, grad=0.0000), Var(v=-0.1983, grad=0.0000), Var(v=0.0070, grad=0.0000), Var(v=-0.0442, grad=0.0000), Var(v=0.0288, grad=0.0000), Var(v=0.1839, grad=0.0000), Var(v=0.0633, grad=0.0000), Var(v=0.0699, grad=0.0000), Var(v=0.0919, grad=0.0000), Var(v=0.0238, grad=0.0000), Var(v=0.0914, grad=0.0000), Var(v=0.0392, grad=0.0000)], [Var(v=0.0415, grad=0.0000), Var(v=0.0920, grad=0.0000), Var(v=-0.1564, grad=0.0000), Var(v=0.1649, grad=0.0000), Var(v=-0.0772, grad=0.0000), Var(v=-0.0038, grad=0.0000), Var(v=-0.0496, grad=0.0000), Var(v=-0.1831, grad=0.0000), Var(v=-0.1069, grad=0.0000), Var(v=-0.0402, grad=0.0000), Var(v=-0.0585, grad=0.0000), Var(v=-0.0739, grad=0.0000), Var(v=0.0331, grad=0.0000), Var(v=-0.1249, grad=0.0000), Var(v=0.1381, grad=0.0000), Var(v=-0.0064, grad=0.0000), Var(v=-0.0082, grad=0.0000), Var(v=-0.0088, grad=0.0000), Var(v=0.2256, grad=0.0000), Var(v=0.0237, grad=0.0000), Var(v=-0.0581, grad=0.0000), Var(v=-0.0217, grad=0.0000), Var(v=0.0999, grad=0.0000), Var(v=-0.0720, grad=0.0000), Var(v=0.0154, grad=0.0000), Var(v=-0.1002, grad=0.0000), Var(v=-0.1249, grad=0.0000), Var(v=-0.2364, grad=0.0000), Var(v=-0.1446, grad=0.0000), Var(v=-0.1055, grad=0.0000), Var(v=0.0122, grad=0.0000), Var(v=0.0364, grad=0.0000), Var(v=-0.0042, grad=0.0000), Var(v=0.0062, grad=0.0000), Var(v=-0.0152, grad=0.0000), Var(v=0.1565, grad=0.0000), Var(v=0.0600, grad=0.0000), Var(v=0.0406, grad=0.0000), Var(v=0.1395, grad=0.0000), Var(v=0.0391, grad=0.0000), Var(v=0.0826, grad=0.0000), Var(v=0.1614, grad=0.0000), Var(v=0.0253, grad=0.0000), Var(v=0.0717, grad=0.0000), Var(v=-0.0740, grad=0.0000), Var(v=0.0757, grad=0.0000), Var(v=-0.0283, grad=0.0000), Var(v=0.1358, grad=0.0000), Var(v=-0.0363, grad=0.0000), Var(v=0.2087, grad=0.0000)], [Var(v=0.0632, grad=0.0000), Var(v=-0.0838, grad=0.0000), Var(v=0.0201, grad=0.0000), Var(v=-0.0481, grad=0.0000), Var(v=-0.0937, grad=0.0000), Var(v=-0.1098, grad=0.0000), Var(v=0.0565, grad=0.0000), Var(v=0.1247, grad=0.0000), Var(v=0.0106, grad=0.0000), Var(v=-0.0437, grad=0.0000), Var(v=-0.1712, grad=0.0000), Var(v=-0.0090, grad=0.0000), Var(v=-0.0942, grad=0.0000), Var(v=-0.1002, grad=0.0000), Var(v=0.0226, grad=0.0000), Var(v=0.0384, grad=0.0000), Var(v=-0.0420, grad=0.0000), Var(v=0.0542, grad=0.0000), Var(v=0.0827, grad=0.0000), Var(v=-0.1067, grad=0.0000), Var(v=-0.0004, grad=0.0000), Var(v=0.1266, grad=0.0000), Var(v=-0.0050, grad=0.0000), Var(v=-0.0278, grad=0.0000), Var(v=0.0200, grad=0.0000), Var(v=-0.0404, grad=0.0000), Var(v=-0.0037, grad=0.0000), Var(v=0.0907, grad=0.0000), Var(v=-0.0412, grad=0.0000), Var(v=-0.0825, grad=0.0000), Var(v=-0.2852, grad=0.0000), Var(v=-0.0284, grad=0.0000), Var(v=0.0045, grad=0.0000), Var(v=-0.0176, grad=0.0000), Var(v=-0.0428, grad=0.0000), Var(v=0.1525, grad=0.0000), Var(v=0.1205, grad=0.0000), Var(v=-0.0205, grad=0.0000), Var(v=0.0437, grad=0.0000), Var(v=0.0050, grad=0.0000), Var(v=-0.0313, grad=0.0000), Var(v=0.0092, grad=0.0000), Var(v=0.1783, grad=0.0000), Var(v=-0.1009, grad=0.0000), Var(v=-0.0619, grad=0.0000), Var(v=-0.0177, grad=0.0000), Var(v=-0.1661, grad=0.0000), Var(v=0.1469, grad=0.0000), Var(v=-0.0804, grad=0.0000), Var(v=0.0291, grad=0.0000)]] Biases: [Var(v=-0.0427, grad=0.0000), Var(v=0.0000, grad=0.0000), Var(v=-0.0023, grad=0.0000), Var(v=-0.1246, grad=0.0000), Var(v=-0.0047, grad=0.0000), Var(v=0.0000, grad=0.0000), Var(v=0.0046, grad=0.0000), Var(v=0.0013, grad=0.0000), Var(v=0.0000, grad=0.0000), Var(v=0.0000, grad=0.0000), Var(v=-0.0004, grad=0.0000), Var(v=0.0000, grad=0.0000), Var(v=0.0000, grad=0.0000), Var(v=0.0000, grad=0.0000), Var(v=-0.1646, grad=0.0000), Var(v=0.0000, grad=0.0000), Var(v=-0.0057, grad=0.0000), Var(v=0.0242, grad=0.0000), Var(v=-0.0025, grad=0.0000), Var(v=-0.1446, grad=0.0000), Var(v=0.0149, grad=0.0000), Var(v=0.0012, grad=0.0000), Var(v=0.0033, grad=0.0000), Var(v=0.0000, grad=0.0000), Var(v=0.0049, grad=0.0000), Var(v=-0.0760, grad=0.0000), Var(v=0.0384, grad=0.0000), Var(v=0.0153, grad=0.0000), Var(v=-0.0336, grad=0.0000), Var(v=-0.0871, grad=0.0000), Var(v=0.0000, grad=0.0000), Var(v=0.0573, grad=0.0000), Var(v=0.0000, grad=0.0000), Var(v=-0.0018, grad=0.0000), Var(v=-0.1256, grad=0.0000), Var(v=0.0006, grad=0.0000), Var(v=0.0026, grad=0.0000), Var(v=0.0130, grad=0.0000), Var(v=0.0122, grad=0.0000), Var(v=0.0000, grad=0.0000), Var(v=0.0274, grad=0.0000), Var(v=-0.1353, grad=0.0000), Var(v=-0.0489, grad=0.0000), Var(v=0.1296, grad=0.0000), Var(v=-0.0079, grad=0.0000), Var(v=0.0000, grad=0.0000), Var(v=0.1772, grad=0.0000), Var(v=-0.0234, grad=0.0000), Var(v=0.0025, grad=0.0000), Var(v=-0.0941, grad=0.0000)]\n",
      "Layer 2 \n",
      " Weights: [[Var(v=-0.0316, grad=0.0000)], [Var(v=0.1007, grad=0.0000)], [Var(v=-0.0734, grad=0.0000)], [Var(v=0.1349, grad=0.0000)], [Var(v=-0.2203, grad=0.0000)], [Var(v=0.1771, grad=0.0000)], [Var(v=-0.0239, grad=0.0000)], [Var(v=0.0285, grad=0.0000)], [Var(v=0.1856, grad=0.0000)], [Var(v=-0.1578, grad=0.0000)], [Var(v=-0.0372, grad=0.0000)], [Var(v=0.1557, grad=0.0000)], [Var(v=-0.0649, grad=0.0000)], [Var(v=-0.0841, grad=0.0000)], [Var(v=0.1871, grad=0.0000)], [Var(v=0.1036, grad=0.0000)], [Var(v=-0.1538, grad=0.0000)], [Var(v=0.0308, grad=0.0000)], [Var(v=-0.0317, grad=0.0000)], [Var(v=-0.1647, grad=0.0000)], [Var(v=-0.0356, grad=0.0000)], [Var(v=0.0493, grad=0.0000)], [Var(v=0.0318, grad=0.0000)], [Var(v=0.0611, grad=0.0000)], [Var(v=-0.0176, grad=0.0000)], [Var(v=-0.0552, grad=0.0000)], [Var(v=-0.0674, grad=0.0000)], [Var(v=0.0733, grad=0.0000)], [Var(v=-0.0311, grad=0.0000)], [Var(v=-0.0962, grad=0.0000)], [Var(v=-0.0589, grad=0.0000)], [Var(v=0.0935, grad=0.0000)], [Var(v=0.0862, grad=0.0000)], [Var(v=-0.0691, grad=0.0000)], [Var(v=0.1384, grad=0.0000)], [Var(v=0.0257, grad=0.0000)], [Var(v=0.0808, grad=0.0000)], [Var(v=0.0188, grad=0.0000)], [Var(v=-0.0790, grad=0.0000)], [Var(v=0.1941, grad=0.0000)], [Var(v=0.0326, grad=0.0000)], [Var(v=0.1610, grad=0.0000)], [Var(v=-0.0539, grad=0.0000)], [Var(v=-0.1901, grad=0.0000)], [Var(v=-0.3045, grad=0.0000)], [Var(v=-0.0075, grad=0.0000)], [Var(v=-0.2119, grad=0.0000)], [Var(v=0.0054, grad=0.0000)], [Var(v=0.0809, grad=0.0000)], [Var(v=-0.0610, grad=0.0000)]] Biases: [Var(v=0.0331, grad=0.0000)]\n"
     ]
    },
    {
     "data": {
      "text/plain": [
       "[None, None, None]"
      ]
     },
     "execution_count": 100,
     "metadata": {},
     "output_type": "execute_result"
    }
   ],
   "source": [
    "print('Network before update:')\n",
    "[print('Layer', i, '\\n', NN[i]) for i in range(len(NN))] \n",
    "\n",
    "def parameters(network):\n",
    "  params = []\n",
    "  for layer in range(len(network)):\n",
    "    params += network[layer].parameters()\n",
    "  return params\n",
    "\n",
    "def update_parameters(params, learning_rate=0.01):\n",
    "  for p in params:\n",
    "    p.v -= learning_rate*p.grad\n",
    "\n",
    "def zero_gradients(params):\n",
    "  for p in params:\n",
    "    p.grad = 0.0\n",
    "\n",
    "update_parameters(parameters(NN))\n",
    "\n",
    "print('\\nNetwork after update:')\n",
    "[print('Layer', i, '\\n', NN[i]) for i in range(len(NN))] \n",
    "\n",
    "zero_gradients(parameters(NN))\n",
    "\n",
    "print('\\nNetwork after zeroing gradients:')\n",
    "[print('Layer', i, '\\n', NN[i]) for i in range(len(NN))] "
   ]
  },
  {
   "cell_type": "code",
   "execution_count": 101,
   "metadata": {
    "id": "woWYpdw6FtIO"
   },
   "outputs": [],
   "source": [
    "# Initialize an arbitrary neural network\n",
    "NN = [\n",
    "    DenseLayer(1, 8, lambda x: x.relu()),\n",
    "    DenseLayer(8, 1, lambda x: x.identity())\n",
    "]\n",
    "\n",
    "# Recommended hyper-parameters for 3-D: \n",
    "#NN = [\n",
    "#    DenseLayer(3, 16, lambda x: x.relu()),\n",
    "#    DenseLayer(16, 1, lambda x: x.identity())\n",
    "#]\n",
    "\n",
    "\n",
    "### Notice that, when we switch from tanh to relu activation, we decrease the learning rate. This is due the stability of the gradients \n",
    "## of the activation functions."
   ]
  },
  {
   "cell_type": "code",
   "execution_count": 102,
   "metadata": {
    "id": "mdqaqYBVFtIR"
   },
   "outputs": [],
   "source": [
    "# Initialize training hyperparameters\n",
    "EPOCHS = 200\n",
    "LEARN_R = 2e-3 "
   ]
  },
  {
   "cell_type": "code",
   "execution_count": 103,
   "metadata": {
    "colab": {
     "base_uri": "https://localhost:8080/"
    },
    "id": "5kfg76GMFtIW",
    "outputId": "e30cf68a-31f2-42b4-cc5e-860c297c0f04",
    "scrolled": true
   },
   "outputs": [],
   "source": [
    "def train(x_train, y_train, x_validation, y_validation, NN, EPOCHS, LEARN_R, verbose=True):\n",
    "    train_loss = []\n",
    "    val_loss = []\n",
    "\n",
    "    for e in range(EPOCHS):\n",
    "\n",
    "        # Forward pass and loss computation\n",
    "        Loss = squared_loss(y_train, forward(x_train, NN))\n",
    "\n",
    "        # Backward pass\n",
    "        Loss.backward()\n",
    "\n",
    "        # gradient descent update\n",
    "        update_parameters(parameters(NN), LEARN_R)\n",
    "        zero_gradients(parameters(NN))\n",
    "\n",
    "        # Training loss\n",
    "        train_loss.append(Loss.v/len(y_train))\n",
    "\n",
    "        # Validation\n",
    "        Loss_validation = squared_loss(y_validation, forward(x_validation, NN))\n",
    "        val_loss.append(Loss_validation.v/len(y_validation))\n",
    "\n",
    "        if verbose and 100*(e/EPOCHS)%10==0:\n",
    "            print(\"{:4d}\".format(e),\n",
    "                \"({:5.2f}%)\".format(e/EPOCHS*100), \n",
    "                \"Train loss: {:4.3f} \\t Validation loss: {:4.3f}\".format(train_loss[-1], val_loss[-1]))\n",
    "\n",
    "    fig, ax = plt.subplots(1, 1, figsize=(10, 5))\n",
    "    ax.plot(range(len(train_loss)), train_loss, label='Training loss')\n",
    "    ax.plot(range(len(val_loss)), val_loss, label='Validation loss')\n",
    "    ax.legend()\n",
    "    return train_loss, val_loss, (fig, ax)\n"
   ]
  },
  {
   "cell_type": "code",
   "execution_count": 104,
   "metadata": {
    "colab": {
     "base_uri": "https://localhost:8080/",
     "height": 265
    },
    "id": "VetyRWFwFtIY",
    "outputId": "344e490d-6d7d-455a-fa6f-88dd11eb957e"
   },
   "outputs": [
    {
     "name": "stdout",
     "output_type": "stream",
     "text": [
      "   0 ( 0.00%) Train loss: 0.918 \t Validation loss: 1.189\n",
      "  20 (10.00%) Train loss: 0.112 \t Validation loss: 0.131\n",
      "  40 (20.00%) Train loss: 0.108 \t Validation loss: 0.125\n",
      "  60 (30.00%) Train loss: 0.106 \t Validation loss: 0.124\n",
      "  80 (40.00%) Train loss: 0.106 \t Validation loss: 0.123\n",
      " 100 (50.00%) Train loss: 0.106 \t Validation loss: 0.122\n",
      " 120 (60.00%) Train loss: 0.106 \t Validation loss: 0.122\n",
      " 140 (70.00%) Train loss: 0.106 \t Validation loss: 0.122\n",
      " 160 (80.00%) Train loss: 0.105 \t Validation loss: 0.122\n",
      " 180 (90.00%) Train loss: 0.105 \t Validation loss: 0.122\n"
     ]
    },
    {
     "data": {
      "text/plain": [
       "([0.9183291235248394,\n",
       "  0.8445874522074028,\n",
       "  0.7542712846553313,\n",
       "  0.642690169028473,\n",
       "  0.514488503197728,\n",
       "  0.3843612655564699,\n",
       "  0.27236928515471504,\n",
       "  0.19326476833359976,\n",
       "  0.14823339372754915,\n",
       "  0.12755510552548346,\n",
       "  0.1195623010114151,\n",
       "  0.11667491618520526,\n",
       "  0.11549903130379377,\n",
       "  0.11484101359360031,\n",
       "  0.11433168287388606,\n",
       "  0.11387543904955241,\n",
       "  0.11342381200034214,\n",
       "  0.11298532770392236,\n",
       "  0.11256194154192317,\n",
       "  0.11215329417884233,\n",
       "  0.11179427508474528,\n",
       "  0.11145282264238039,\n",
       "  0.11112055013822825,\n",
       "  0.11079698477234273,\n",
       "  0.11048606916239151,\n",
       "  0.1101938980134985,\n",
       "  0.1099088205414806,\n",
       "  0.10963616379723826,\n",
       "  0.1093786095367245,\n",
       "  0.10913017225284677,\n",
       "  0.10893980787896682,\n",
       "  0.10875388945406257,\n",
       "  0.10856526710242136,\n",
       "  0.10838139379343126,\n",
       "  0.10821140523476248,\n",
       "  0.10806642861820719,\n",
       "  0.10795816406476433,\n",
       "  0.10785335589445123,\n",
       "  0.10775167768636859,\n",
       "  0.10765685933725158,\n",
       "  0.10756911202774204,\n",
       "  0.10748857811350009,\n",
       "  0.10740963255135952,\n",
       "  0.10733316139579599,\n",
       "  0.10726004963277996,\n",
       "  0.10719694417822408,\n",
       "  0.10713575994107519,\n",
       "  0.10707640404913987,\n",
       "  0.10701604107286214,\n",
       "  0.10694121602793762,\n",
       "  0.10686872436941368,\n",
       "  0.10680097502780762,\n",
       "  0.10674607986988413,\n",
       "  0.10669294603878067,\n",
       "  0.10664246356937596,\n",
       "  0.10659260951377501,\n",
       "  0.10654441629348763,\n",
       "  0.10649769667710916,\n",
       "  0.10645210104380652,\n",
       "  0.10640778343604412,\n",
       "  0.10636388554587282,\n",
       "  0.10632678195250364,\n",
       "  0.10630039645035896,\n",
       "  0.10627542233346483,\n",
       "  0.10624770629160539,\n",
       "  0.10622097928068494,\n",
       "  0.10619516050356781,\n",
       "  0.10617019017827473,\n",
       "  0.10614601590267456,\n",
       "  0.10612298063848974,\n",
       "  0.10610192995548888,\n",
       "  0.10608133616180353,\n",
       "  0.10606041028575641,\n",
       "  0.10604014291818198,\n",
       "  0.10602049689045642,\n",
       "  0.1060014394174168,\n",
       "  0.10598303967755332,\n",
       "  0.10596550272613708,\n",
       "  0.10594846346214326,\n",
       "  0.10593189927574849,\n",
       "  0.10591578934751993,\n",
       "  0.10590011436106139,\n",
       "  0.1058848563372865,\n",
       "  0.10587002869228822,\n",
       "  0.10585642251817713,\n",
       "  0.10584315448963502,\n",
       "  0.10583002956176667,\n",
       "  0.10581696813357586,\n",
       "  0.10580421345496713,\n",
       "  0.10579175520710968,\n",
       "  0.10577958359798907,\n",
       "  0.10576768924081216,\n",
       "  0.10575606311947297,\n",
       "  0.10574534648917633,\n",
       "  0.10573730539956254,\n",
       "  0.1057297710719835,\n",
       "  0.10572262381748053,\n",
       "  0.10571566453012636,\n",
       "  0.10570887860760461,\n",
       "  0.10570225379761165,\n",
       "  0.10569577925049788,\n",
       "  0.1056894452383282,\n",
       "  0.10568324299405941,\n",
       "  0.10567716459065964,\n",
       "  0.10567174339845595,\n",
       "  0.10566752718866733,\n",
       "  0.10566344278768156,\n",
       "  0.10566004445862719,\n",
       "  0.10565697036608858,\n",
       "  0.10565361259410481,\n",
       "  0.10564742973583681,\n",
       "  0.10564140458225492,\n",
       "  0.10563550184292711,\n",
       "  0.10562970458404398,\n",
       "  0.1056240078345656,\n",
       "  0.10561840784620251,\n",
       "  0.10561289372157609,\n",
       "  0.10560746124900064,\n",
       "  0.10560210667311914,\n",
       "  0.1055968288760728,\n",
       "  0.10559161771683212,\n",
       "  0.10558647206084737,\n",
       "  0.10558145679773648,\n",
       "  0.10557780173838718,\n",
       "  0.10557419575725725,\n",
       "  0.10557063353601938,\n",
       "  0.10556711374124239,\n",
       "  0.10556363570323349,\n",
       "  0.10556019823292039,\n",
       "  0.10555679630364591,\n",
       "  0.10555343098807266,\n",
       "  0.10555010105856358,\n",
       "  0.10554680781374,\n",
       "  0.10554354594803222,\n",
       "  0.10554031540697534,\n",
       "  0.10553711596992821,\n",
       "  0.10553396337737019,\n",
       "  0.10553102664903787,\n",
       "  0.10552791418327538,\n",
       "  0.10552483314907449,\n",
       "  0.10552177902849759,\n",
       "  0.10551875109795096,\n",
       "  0.10551575057480712,\n",
       "  0.10551297291934872,\n",
       "  0.10551004804013082,\n",
       "  0.10550891385861698,\n",
       "  0.10550691004989991,\n",
       "  0.10550363272352326,\n",
       "  0.10550090815612607,\n",
       "  0.10549815894365389,\n",
       "  0.10549751816597126,\n",
       "  0.10549548218758756,\n",
       "  0.10549228872706465,\n",
       "  0.10548977354548168,\n",
       "  0.10548794740886906,\n",
       "  0.10548744643444781,\n",
       "  0.10548428548303126,\n",
       "  0.10548176034923605,\n",
       "  0.10547966202963815,\n",
       "  0.10547978691893205,\n",
       "  0.10547666729049684,\n",
       "  0.10547419270588204,\n",
       "  0.10547235625321058,\n",
       "  0.1054724597982693,\n",
       "  0.10546936882201487,\n",
       "  0.1054669823309971,\n",
       "  0.1054656832967116,\n",
       "  0.10546470190381291,\n",
       "  0.10546119515440353,\n",
       "  0.1054583617146371,\n",
       "  0.10545803849081056,\n",
       "  0.10545617397990303,\n",
       "  0.10545354639440489,\n",
       "  0.10545224301730195,\n",
       "  0.10545274554787575,\n",
       "  0.10544992601586688,\n",
       "  0.10544782634513897,\n",
       "  0.10544777236285095,\n",
       "  0.10543962135415266,\n",
       "  0.10543060045915985,\n",
       "  0.10542441179455796,\n",
       "  0.10541729216717428,\n",
       "  0.10540977239691739,\n",
       "  0.1054087457529407,\n",
       "  0.10540526293985725,\n",
       "  0.10540078184823418,\n",
       "  0.10540031794836018,\n",
       "  0.10539644663009552,\n",
       "  0.10539238641923568,\n",
       "  0.10539235692262033,\n",
       "  0.10538747677272636,\n",
       "  0.10538481527663596,\n",
       "  0.10538364553619635,\n",
       "  0.1053790460012329,\n",
       "  0.1053774703813635,\n",
       "  0.10537521924037965,\n",
       "  0.10537077698028297,\n",
       "  0.10537040015827899,\n",
       "  0.1053669178402341,\n",
       "  0.10536348648300335],\n",
       " [1.1885532195108328,\n",
       "  1.064119537837234,\n",
       "  0.908946764011518,\n",
       "  0.7299926742813957,\n",
       "  0.5477062280721606,\n",
       "  0.3891461587087346,\n",
       "  0.2739694656854973,\n",
       "  0.20422300741572513,\n",
       "  0.16804898522170816,\n",
       "  0.15091080996319173,\n",
       "  0.1428618364725337,\n",
       "  0.13887615046066634,\n",
       "  0.1366949438683409,\n",
       "  0.13532994202447415,\n",
       "  0.13436227185397243,\n",
       "  0.1335754503013602,\n",
       "  0.1329139612809169,\n",
       "  0.13230482172058766,\n",
       "  0.13173716315236783,\n",
       "  0.13114339739499353,\n",
       "  0.13068391515368813,\n",
       "  0.13023268378599398,\n",
       "  0.1298003803484561,\n",
       "  0.12938499845921692,\n",
       "  0.12901728874860144,\n",
       "  0.1286746887242805,\n",
       "  0.12836613356387008,\n",
       "  0.12806448406253929,\n",
       "  0.1278218199368395,\n",
       "  0.12760667498812098,\n",
       "  0.12734632160281983,\n",
       "  0.12710095940716637,\n",
       "  0.12687251126875015,\n",
       "  0.12665269881753163,\n",
       "  0.12635589309148493,\n",
       "  0.1262085749173945,\n",
       "  0.12603387861755022,\n",
       "  0.1258883787207625,\n",
       "  0.12576365723425031,\n",
       "  0.1256403034433974,\n",
       "  0.1254876770609175,\n",
       "  0.1253825255045734,\n",
       "  0.1252828925025888,\n",
       "  0.12519065348484917,\n",
       "  0.12511941311827687,\n",
       "  0.1250381666738312,\n",
       "  0.12496405735399956,\n",
       "  0.1248940734913485,\n",
       "  0.12488677342180934,\n",
       "  0.12480342638068684,\n",
       "  0.12471445870364442,\n",
       "  0.12463002925718775,\n",
       "  0.12452545696174805,\n",
       "  0.12443232550795483,\n",
       "  0.124374341869198,\n",
       "  0.12427521781004154,\n",
       "  0.1241841483211805,\n",
       "  0.12410235556887955,\n",
       "  0.12402636434806588,\n",
       "  0.12395957884862403,\n",
       "  0.12388955391002557,\n",
       "  0.12383576049723931,\n",
       "  0.12373290940028914,\n",
       "  0.12367269459892305,\n",
       "  0.12360269111788996,\n",
       "  0.12353733710384054,\n",
       "  0.12347537904213696,\n",
       "  0.1234160027389617,\n",
       "  0.12335969146387565,\n",
       "  0.12330796285965892,\n",
       "  0.12325244588243577,\n",
       "  0.12320832441920909,\n",
       "  0.12315809108784401,\n",
       "  0.1231089898759448,\n",
       "  0.12306118516639769,\n",
       "  0.12301465630736594,\n",
       "  0.1229668236631634,\n",
       "  0.12292291142851697,\n",
       "  0.12288056685526179,\n",
       "  0.12283937323281909,\n",
       "  0.12279923903933443,\n",
       "  0.12276009933411072,\n",
       "  0.12272190298249235,\n",
       "  0.1226767948745744,\n",
       "  0.12264160626356746,\n",
       "  0.12260774314338284,\n",
       "  0.12257456412970043,\n",
       "  0.12254278708746508,\n",
       "  0.12251140274156108,\n",
       "  0.1224805106376061,\n",
       "  0.12245016385989374,\n",
       "  0.12242037903553933,\n",
       "  0.12239115528033775,\n",
       "  0.12228829428967465,\n",
       "  0.12226504832197471,\n",
       "  0.12224376769838598,\n",
       "  0.1222274912661226,\n",
       "  0.12221226222045806,\n",
       "  0.12219756253949421,\n",
       "  0.12218317229793109,\n",
       "  0.1221689505905945,\n",
       "  0.1221546900165401,\n",
       "  0.1221405651771435,\n",
       "  0.12212656739174037,\n",
       "  0.12208572913232882,\n",
       "  0.12207217872954185,\n",
       "  0.12206141238800086,\n",
       "  0.12205223596606175,\n",
       "  0.12204162551835698,\n",
       "  0.12202870880275471,\n",
       "  0.12202632198027256,\n",
       "  0.12201986446020584,\n",
       "  0.12201286601197588,\n",
       "  0.12200449715985713,\n",
       "  0.12199570684111231,\n",
       "  0.12198603520435716,\n",
       "  0.12197762692765098,\n",
       "  0.12196872023127489,\n",
       "  0.12195980902690304,\n",
       "  0.12195008255393894,\n",
       "  0.12194173198596003,\n",
       "  0.12193293744774054,\n",
       "  0.1219252738594267,\n",
       "  0.12191293876811471,\n",
       "  0.121903334928715,\n",
       "  0.1218940407649308,\n",
       "  0.12188514963229967,\n",
       "  0.12187577537703856,\n",
       "  0.12186789577065037,\n",
       "  0.12185962508493803,\n",
       "  0.12185142149533044,\n",
       "  0.12184330670238716,\n",
       "  0.12183456499261067,\n",
       "  0.12182807251068718,\n",
       "  0.12182114173459606,\n",
       "  0.12181424825437158,\n",
       "  0.12180500169046783,\n",
       "  0.12180441205504312,\n",
       "  0.12179600539854676,\n",
       "  0.1217884272786006,\n",
       "  0.12178142934292013,\n",
       "  0.12177350875049486,\n",
       "  0.12176725021652765,\n",
       "  0.12175889109605047,\n",
       "  0.12175791234381683,\n",
       "  0.12173417081530431,\n",
       "  0.12177879395295926,\n",
       "  0.12175429362331822,\n",
       "  0.12173720927214242,\n",
       "  0.1217319923325971,\n",
       "  0.12170643480745762,\n",
       "  0.12175053408436601,\n",
       "  0.12172658231442306,\n",
       "  0.1217081855376858,\n",
       "  0.1216886927292121,\n",
       "  0.12173096963172508,\n",
       "  0.12170615462712658,\n",
       "  0.12168824406961863,\n",
       "  0.12166827054865288,\n",
       "  0.12171063011680106,\n",
       "  0.12168595370721215,\n",
       "  0.12166824064324955,\n",
       "  0.12164776177725913,\n",
       "  0.12169110568959594,\n",
       "  0.12166658762400187,\n",
       "  0.12164886117594437,\n",
       "  0.12163287073108332,\n",
       "  0.12167627185062009,\n",
       "  0.1216503722228122,\n",
       "  0.12164016618293287,\n",
       "  0.12161289778946319,\n",
       "  0.1216503895237826,\n",
       "  0.12162413843663959,\n",
       "  0.12159949999488702,\n",
       "  0.12164023099820809,\n",
       "  0.12161347068650359,\n",
       "  0.12160322800674835,\n",
       "  0.12157121942128686,\n",
       "  0.12162451783747923,\n",
       "  0.12160261881413234,\n",
       "  0.1215787997112915,\n",
       "  0.12161838839318981,\n",
       "  0.1215920160864329,\n",
       "  0.12155915354112773,\n",
       "  0.12159540067684874,\n",
       "  0.12156565992611033,\n",
       "  0.12153882772891941,\n",
       "  0.12157848467731873,\n",
       "  0.12153668999622058,\n",
       "  0.1215777910329787,\n",
       "  0.12154639222084011,\n",
       "  0.12151928389863972,\n",
       "  0.12155837265250204,\n",
       "  0.1215303556486406,\n",
       "  0.12150502896772492,\n",
       "  0.12154535017432824,\n",
       "  0.12151788520387434,\n",
       "  0.12149282057691914,\n",
       "  0.12153366226056736,\n",
       "  0.1214929152246732],\n",
       " (<Figure size 1000x500 with 1 Axes>, <Axes: >))"
      ]
     },
     "execution_count": 104,
     "metadata": {},
     "output_type": "execute_result"
    },
    {
     "data": {
      "image/png": "[encoded data removed]",
      "text/plain": [
       "<Figure size 1000x500 with 1 Axes>"
      ]
     },
     "metadata": {},
     "output_type": "display_data"
    }
   ],
   "source": [
    "train(x_train, y_train, x_validation, y_validation, NN, EPOCHS, LEARN_R)"
   ]
  },
  {
   "cell_type": "markdown",
   "metadata": {
    "id": "8OgmIrM9FtIb"
   },
   "source": [
    "# Testing\n",
    "\n",
    "We have kept the calculation of the test error separate in order to emphasize that you should not use the test set in optimization."
   ]
  },
  {
   "cell_type": "code",
   "execution_count": 105,
   "metadata": {},
   "outputs": [],
   "source": [
    "def test(x_test, y_test, NN, verbose=True):\n",
    "    Loss = squared_loss(y_test, forward(x_test, NN))\n",
    "    if verbose:\n",
    "        print(\"Test loss: \", Loss.v/len(y_test))\n",
    "    return Loss.v/len(y_test)"
   ]
  },
  {
   "cell_type": "code",
   "execution_count": 106,
   "metadata": {
    "id": "HmNi7S-vFtIc"
   },
   "outputs": [],
   "source": [
    "output_test = forward(x_test, NN)"
   ]
  },
  {
   "cell_type": "code",
   "execution_count": 107,
   "metadata": {
    "colab": {
     "base_uri": "https://localhost:8080/",
     "height": 316
    },
    "id": "7mmJOTSEFtIf",
    "outputId": "e3264095-cefe-4aee-893d-bf152438e332"
   },
   "outputs": [
    {
     "name": "stdout",
     "output_type": "stream",
     "text": [
      "Test loss:  0.118\n"
     ]
    },
    {
     "name": "stderr",
     "output_type": "stream",
     "text": [
      "<>:5: SyntaxWarning: invalid escape sequence '\\h'\n",
      "<>:5: SyntaxWarning: invalid escape sequence '\\h'\n",
      "C:\\Users\\acoma\\AppData\\Local\\Temp\\ipykernel_9280\\2799551998.py:5: SyntaxWarning: invalid escape sequence '\\h'\n",
      "  plt.ylabel(\"$\\hat{y}$\");\n"
     ]
    },
    {
     "data": {
      "image/png": "[encoded data removed]",
      "text/plain": [
       "<Figure size 640x480 with 1 Axes>"
      ]
     },
     "metadata": {},
     "output_type": "display_data"
    }
   ],
   "source": [
    "y_test_np = Var_to_nparray(y_test)\n",
    "plt.scatter(y_test_np, Var_to_nparray(output_test));\n",
    "plt.plot([np.min(y_test_np), np.max(y_test_np)], [np.min(y_test_np), np.max(y_test_np)], color='k');\n",
    "plt.xlabel(\"y\");\n",
    "plt.ylabel(\"$\\hat{y}$\");\n",
    "plt.title(\"Model prediction vs real in the test set, the close to the line the better\")\n",
    "plt.grid(True);\n",
    "plt.axis('equal');\n",
    "plt.tight_layout();\n",
    "\n",
    "Loss_test = squared_loss(y_test, forward(x_test, NN))\n",
    "\n",
    "print(\"Test loss:  {:4.3f}\".format(Loss_test.v/len(y_test)))"
   ]
  },
  {
   "cell_type": "code",
   "execution_count": 108,
   "metadata": {
    "colab": {
     "base_uri": "https://localhost:8080/",
     "height": 279
    },
    "id": "ODi0WlmQFtIh",
    "outputId": "d1ab874f-0717-4987-87bf-1f0c7c8e7148"
   },
   "outputs": [
    {
     "data": {
      "image/png": "[encoded data removed]",
      "text/plain": [
       "<Figure size 640x480 with 1 Axes>"
      ]
     },
     "metadata": {},
     "output_type": "display_data"
    }
   ],
   "source": [
    "x_test_np = Var_to_nparray(x_test)\n",
    "x_train_np = Var_to_nparray(x_train)\n",
    "y_train_np = Var_to_nparray(y_train)\n",
    "if D1:\n",
    "    plt.scatter(x_train_np, y_train_np, label=\"train data\");\n",
    "    plt.scatter(x_test_np, Var_to_nparray(output_test), label=\"test prediction\");\n",
    "    plt.scatter(x_test_np, y_test_np, label=\"test data\");\n",
    "    plt.legend();\n",
    "    plt.xlabel(\"x\");\n",
    "    plt.ylabel(\"y\");\n",
    "else:\n",
    "    plt.scatter(x_train_np[:,1], y_train, label=\"train data\");\n",
    "    plt.scatter(x_test_np[:,1], Var_to_nparray(output_test), label=\"test data prediction\");\n",
    "    plt.scatter(x_test_np[:,1], y_test_np, label=\"test data\");\n",
    "    plt.legend();\n",
    "    plt.xlabel(\"x\");\n",
    "    plt.ylabel(\"y\");"
   ]
  },
  {
   "cell_type": "markdown",
   "metadata": {
    "id": "zTBAmjsAFtIk"
   },
   "source": [
    "## Exercise l) Show overfitting, underfitting and just right fitting\n",
    "\n",
    "Vary the architecture and other things to show clear signs of overfitting (=training loss significantly lower than test loss) and underfitting (=not fitting enoung to training data so that test performance is also hurt).\n",
    "\n",
    "See also if you can get a good compromise which leads to a low validation loss. \n",
    "\n",
    "For this problem do you see any big difference between validation and test loss? The answer here will probably be no. Discuss cases where it is important to keep the two separate.\n"
   ]
  },
  {
   "cell_type": "markdown",
   "metadata": {},
   "source": [
    "**Solution**:\n",
    "\n",
    "Overfitting usually happens when:\n",
    "-  We train for too many epochs with constant learning rate.\n",
    "- Learning rate is too large.\n",
    "- Small dataset.\n",
    "- Too many layers and/or too many hidden units, since it allows the neural network to learn too complex relationships which can end up adjusting to individual data points (is related to small dataset).\n",
    "\n",
    "Underfitting can be achieved in a lot of ways, some them are:\n",
    "- Not enough epochs.\n",
    "- Learning rate is too small.\n",
    "- Too simple neural network (not enough layers and/or hidden units).\n",
    "\n",
    "In this case there's not much difference between validation and test loss. It's important to separate because:\n",
    "- Some decisions are taken with the validation loss in mind, like hyper-parameter tuning. Test loss should only be used to evaluate the models overall performance once trained, but validation loss shows the evolution of the model's performance during the training.\n",
    "- Validation loss compared to training loss is also a good measure of overfitting.\n",
    "- Test loss is a good measure of generalization.\n",
    "- It could also be good to keep separate if methods like cross.vakudatuib are used."
   ]
  },
  {
   "cell_type": "code",
   "execution_count": 109,
   "metadata": {
    "id": "tQZCn2dxFtIl"
   },
   "outputs": [
    {
     "name": "stdout",
     "output_type": "stream",
     "text": [
      "Overfitting: \n",
      "\tTrain loss: 0.0399\n",
      "\tValidation loss: 0.1345\n",
      "\tTest loss: 0.1386\n"
     ]
    },
    {
     "data": {
      "image/png": "[encoded data removed]",
      "text/plain": [
       "<Figure size 1000x500 with 1 Axes>"
      ]
     },
     "metadata": {},
     "output_type": "display_data"
    }
   ],
   "source": [
    "# Insert your code for getting overfitting, underfitting and just right fitting\n",
    "# Overfitting\n",
    "NN_overfit = [\n",
    "    DenseLayer(1, 8, lambda x: x.relu()),\n",
    "    DenseLayer(8, 8, lambda x: x.tanh()),\n",
    "    DenseLayer(8, 1, lambda x: x.identity()),\n",
    "]\n",
    "\n",
    "train_loss,val_loss,(train_fig,train_ax) = train(x_train[0:10], y_train[0:10], x_validation, y_validation, NN_overfit, EPOCHS=1000, LEARN_R=2e-3, verbose=False)\n",
    "test_loss = test(x_test, y_test, NN_overfit, verbose=False)\n",
    "\n",
    "print(\"Overfitting: \")\n",
    "print(f\"\\tTrain loss: {train_loss[-1]:.4f}\", )\n",
    "print(f\"\\tValidation loss: {val_loss[-1]:.4f}\")\n",
    "print(f\"\\tTest loss: {test_loss:.4f}\")"
   ]
  },
  {
   "cell_type": "code",
   "execution_count": 110,
   "metadata": {},
   "outputs": [
    {
     "name": "stdout",
     "output_type": "stream",
     "text": [
      "Underfitting:  1.1922502203497642\n",
      "\tTrain loss: 1.0010\n",
      "\tValidation loss: 1.4171\n",
      "\tTest loss: 1.1923\n"
     ]
    },
    {
     "data": {
      "image/png": "[encoded data removed]",
      "text/plain": [
       "<Figure size 1000x500 with 1 Axes>"
      ]
     },
     "metadata": {},
     "output_type": "display_data"
    }
   ],
   "source": [
    "# Underfitting\n",
    "NN_underfit = [\n",
    "    DenseLayer(1, 2, lambda x: x.relu()),\n",
    "    DenseLayer(2, 1, lambda x: x.identity()),\n",
    "]\n",
    "\n",
    "train_loss,val_loss,(train_fig,train_ax) = train(x_train, y_train, x_validation, y_validation, NN_underfit, EPOCHS=100, LEARN_R=2e-5, verbose=False)\n",
    "test_loss = test(x_test, y_test, NN_underfit, verbose=False)\n",
    "\n",
    "print(\"Underfitting: \", test_loss)\n",
    "print(f\"\\tTrain loss: {train_loss[-1]:.4f}\", )\n",
    "print(f\"\\tValidation loss: {val_loss[-1]:.4f}\")\n",
    "print(f\"\\tTest loss: {test_loss:.4f}\")"
   ]
  },
  {
   "cell_type": "code",
   "execution_count": 111,
   "metadata": {},
   "outputs": [
    {
     "name": "stdout",
     "output_type": "stream",
     "text": [
      "Right fit:  0.1199441670049883\n",
      "\tTrain loss: 0.1064\n",
      "\tValidation loss: 0.1249\n",
      "\tTest loss: 0.1199\n"
     ]
    },
    {
     "data": {
      "image/png": "[encoded data removed]",
      "text/plain": [
       "<Figure size 1000x500 with 1 Axes>"
      ]
     },
     "metadata": {},
     "output_type": "display_data"
    }
   ],
   "source": [
    "# Right fitting\n",
    "NN_rightfit = [\n",
    "    DenseLayer(1, 8, lambda x: x.relu()),\n",
    "    DenseLayer(8, 1, lambda x: x.identity()),\n",
    "]\n",
    "\n",
    "train_loss,val_loss,(train_fig,train_ax) = train(x_train, y_train, x_validation, y_validation, NN_rightfit, EPOCHS=200, LEARN_R=1e-3, verbose=False)\n",
    "test_loss = test(x_test, y_test, NN_rightfit, verbose=False)\n",
    "\n",
    "print(\"Right fit: \", test_loss)\n",
    "print(f\"\\tTrain loss: {train_loss[-1]:.4f}\", )\n",
    "print(f\"\\tValidation loss: {val_loss[-1]:.4f}\")\n",
    "print(f\"\\tTest loss: {test_loss:.4f}\")"
   ]
  },
  {
   "cell_type": "markdown",
   "metadata": {
    "id": "fYPZP-eTFtIo"
   },
   "source": [
    "# Next steps - classification\n",
    "\n",
    "It is straight forward to extend what we have done to classification. \n",
    "\n",
    "For numerical stability it is better to make softmax and cross-entropy as one function so we write the cross entropy loss as a function of the logits we talked about last week. \n",
    "\n",
    "Next week we will see how to perform classification in PyTorch."
   ]
  },
  {
   "cell_type": "markdown",
   "metadata": {
    "id": "qsVPul3QFtIo"
   },
   "source": [
    "## Exercise m) optional - Implement backpropagation for classification\n",
    "\n",
    "Should be possible with very few lines of code. :-)"
   ]
  },
  {
   "cell_type": "code",
   "execution_count": 112,
   "metadata": {
    "id": "oC8QrI2tFtIp"
   },
   "outputs": [],
   "source": [
    "# Just add code."
   ]
  },
  {
   "cell_type": "markdown",
   "metadata": {
    "id": "APqhJv3tta1O"
   },
   "source": [
    "## Exercise n) optional - Introduce a NeuralNetwork class\n",
    "\n",
    "The functions we applied on the neural network (parameters, update_parameters and zero_gradients) can more naturally be included as methods in a NeuralNetwork class. Make such a class and modify the code to use it. "
   ]
  },
  {
   "cell_type": "code",
   "execution_count": 113,
   "metadata": {
    "id": "Dqfnor1ouMLq"
   },
   "outputs": [],
   "source": [
    "# just add some code"
   ]
  }
 ],
 "metadata": {
  "anaconda-cloud": {},
  "colab": {
   "collapsed_sections": [
    "U4057_ljNvWB",
    "p_8n_SKnIW2F",
    "oLrGJytZFtGm",
    "jpIZPBpNI0pO",
    "_79HOAXrFtHK",
    "mqeyab9qFtGs",
    "-XyXBD37FtHk",
    "SrwSJ2UWFtHu",
    "zTBAmjsAFtIk",
    "qsVPul3QFtIo",
    "APqhJv3tta1O"
   ],
   "name": "2.1-EXE-FNN-AutoDif-Nanograd.ipynb",
   "provenance": []
  },
  "kernelspec": {
   "display_name": "Python 3",
   "language": "python",
   "name": "python3"
  },
  "language_info": {
   "codemirror_mode": {
    "name": "ipython",
    "version": 3
   },
   "file_extension": ".py",
   "mimetype": "text/x-python",
   "name": "python",
   "nbconvert_exporter": "python",
   "pygments_lexer": "ipython3",
   "version": "3.12.2"
  }
 },
 "nbformat": 4,
 "nbformat_minor": 1
}
